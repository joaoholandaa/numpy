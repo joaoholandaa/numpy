{
  "nbformat": 4,
  "nbformat_minor": 0,
  "metadata": {
    "colab": {
      "provenance": [],
      "authorship_tag": "ABX9TyPX84BCelBVpWWUOfrwHFKn",
      "include_colab_link": true
    },
    "kernelspec": {
      "name": "python3",
      "display_name": "Python 3"
    },
    "language_info": {
      "name": "python"
    }
  },
  "cells": [
    {
      "cell_type": "markdown",
      "metadata": {
        "id": "view-in-github",
        "colab_type": "text"
      },
      "source": [
        "<a href=\"https://colab.research.google.com/github/joaoholandaa/numpy/blob/main/numpy.ipynb\" target=\"_parent\"><img src=\"https://colab.research.google.com/assets/colab-badge.svg\" alt=\"Open In Colab\"/></a>"
      ]
    },
    {
      "cell_type": "markdown",
      "source": [
        "#**Numpy**"
      ],
      "metadata": {
        "id": "E9m2x6pVIqWl"
      }
    },
    {
      "cell_type": "code",
      "execution_count": 1,
      "metadata": {
        "id": "85gjMTAdEuet"
      },
      "outputs": [],
      "source": [
        "import os\n",
        "import numpy as np\n",
        "import pandas as pd\n",
        "\n",
        "from pathlib import Path\n",
        "\n",
        "%config Completer.use_jedi = False"
      ]
    },
    {
      "cell_type": "markdown",
      "source": [
        "##**Criação**<br>\n",
        "Array são objetos que armazenam estruturas sequênciais de dados de tipo e tamanhos determinados que apontam para uma sequência de dados na memória RAM. Em Python, a biblioteca que lida com essas estruturas é o Numpy que não só oferece as funcionalidades clássicas de um array (que pode ser vistas em C, C++, Java...), mas também propriedades vetoriais utilizadas em operações em álgebra linear. <br> <br>\n",
        "Criar um array é uma tarefa simples, que pode ser realizada por meio de uma lista como abaixo."
      ],
      "metadata": {
        "id": "cKLwX1QQJAQ8"
      }
    },
    {
      "cell_type": "code",
      "source": [
        "array = np.array([1, 2, 3, 4, 5])\n",
        "array"
      ],
      "metadata": {
        "colab": {
          "base_uri": "https://localhost:8080/"
        },
        "id": "RtV68iEVJ1qF",
        "outputId": "16fed159-7888-43ee-a457-38a97ee76561"
      },
      "execution_count": 2,
      "outputs": [
        {
          "output_type": "execute_result",
          "data": {
            "text/plain": [
              "array([1, 2, 3, 4, 5])"
            ]
          },
          "metadata": {},
          "execution_count": 2
        }
      ]
    },
    {
      "cell_type": "code",
      "source": [
        "matriz = np.array([[1, 2, 3], [4, 5, 6]])\n",
        "matriz"
      ],
      "metadata": {
        "colab": {
          "base_uri": "https://localhost:8080/"
        },
        "id": "p614JJ8zKBJy",
        "outputId": "b7eea4d1-de1a-4f45-d443-058e2e9779c4"
      },
      "execution_count": 3,
      "outputs": [
        {
          "output_type": "execute_result",
          "data": {
            "text/plain": [
              "array([[1, 2, 3],\n",
              "       [4, 5, 6]])"
            ]
          },
          "metadata": {},
          "execution_count": 3
        }
      ]
    },
    {
      "cell_type": "markdown",
      "source": [
        "Ao fazer isso estaremos alocando os valores selecionados dentro da RAM do computador em endereços sequênciais, igualmente espaçados de acordo com o tipo de dado do array.<br><br>\n",
        "\n",
        "Dado isso, é fácil perceber que um array tem as seguintes características que podem ser acessadas na forma de atributos deste objeto:\n",
        "\n",
        "- dtype: O tipo de dados do array\n",
        "- shape: O tamanho do array em linhas e colunas\n",
        "- size: O tamanho do array em quantidade de elementos\n",
        "- itemsize: O consumo de memória de cada elemento do array (em bytes)\n",
        "- strides: Uma distancia em bytes entre os elementos armazenados na memória"
      ],
      "metadata": {
        "id": "uZrcoQIsKYT_"
      }
    },
    {
      "cell_type": "code",
      "source": [
        "print(\n",
        "    f\"array: dtype={array.dtype} | shape={array.shape} | size={array.size} \"\n",
        "    f\"| itemsize={array.itemsize} | strides={array.strides}\"\n",
        ")\n",
        "\n",
        "print(\n",
        "    f\"matriz: dtype={matriz.dtype} | shape={matriz.shape} | size={matriz.size} \"\n",
        "    f\"| itemsize={matriz.itemsize} | strides={matriz.strides}\"\n",
        ")"
      ],
      "metadata": {
        "colab": {
          "base_uri": "https://localhost:8080/"
        },
        "id": "2YJXV9vQKFxt",
        "outputId": "5ff02d59-ef75-4761-8e74-c3f18bb99b54"
      },
      "execution_count": 4,
      "outputs": [
        {
          "output_type": "stream",
          "name": "stdout",
          "text": [
            "array: dtype=int64 | shape=(5,) | size=5 | itemsize=8 | strides=(8,)\n",
            "matriz: dtype=int64 | shape=(2, 3) | size=6 | itemsize=8 | strides=(24, 8)\n"
          ]
        }
      ]
    },
    {
      "cell_type": "markdown",
      "source": [
        "Dado que inicializações de diferentes tipos de array são bastante comuns, a biblioteza contém uma série de funcionalidades que permitem criar arrays com diferentes tipos de dados. <br><br>\n",
        "**np.zeros** -> Cria um array preenchido com zeros."
      ],
      "metadata": {
        "id": "ZoJ3ljSILjXw"
      }
    },
    {
      "cell_type": "code",
      "source": [
        "np.zeros(shape=(3, 2))"
      ],
      "metadata": {
        "colab": {
          "base_uri": "https://localhost:8080/"
        },
        "id": "7BsRmwqBL7E8",
        "outputId": "cf2108e4-c5d0-43e5-df84-d7a761f44520"
      },
      "execution_count": 5,
      "outputs": [
        {
          "output_type": "execute_result",
          "data": {
            "text/plain": [
              "array([[0., 0.],\n",
              "       [0., 0.],\n",
              "       [0., 0.]])"
            ]
          },
          "metadata": {},
          "execution_count": 5
        }
      ]
    },
    {
      "cell_type": "markdown",
      "source": [
        "**np.ones** -> Cria um array preenchido com \"um's\"."
      ],
      "metadata": {
        "id": "lxCWwko9L-ra"
      }
    },
    {
      "cell_type": "code",
      "source": [
        "np.ones(shape=(3, ))"
      ],
      "metadata": {
        "colab": {
          "base_uri": "https://localhost:8080/"
        },
        "id": "uXj3UoNUMLPU",
        "outputId": "35417bfd-75d1-4a98-f0a9-bec6220686f3"
      },
      "execution_count": 6,
      "outputs": [
        {
          "output_type": "execute_result",
          "data": {
            "text/plain": [
              "array([1., 1., 1.])"
            ]
          },
          "metadata": {},
          "execution_count": 6
        }
      ]
    },
    {
      "cell_type": "markdown",
      "source": [
        "**np.eye** -> Cria a matriz identidade com o tamanho especificado."
      ],
      "metadata": {
        "id": "mLz6wyVsN5Ey"
      }
    },
    {
      "cell_type": "code",
      "source": [
        "np.eye(4)"
      ],
      "metadata": {
        "colab": {
          "base_uri": "https://localhost:8080/"
        },
        "id": "Unw5Sz4eOEKK",
        "outputId": "d7aff7aa-2526-4822-9493-c1b3a90d1c8a"
      },
      "execution_count": 7,
      "outputs": [
        {
          "output_type": "execute_result",
          "data": {
            "text/plain": [
              "array([[1., 0., 0., 0.],\n",
              "       [0., 1., 0., 0.],\n",
              "       [0., 0., 1., 0.],\n",
              "       [0., 0., 0., 1.]])"
            ]
          },
          "metadata": {},
          "execution_count": 7
        }
      ]
    },
    {
      "cell_type": "markdown",
      "source": [
        "**np.arange** -> Mesma coisa que a função range, só que para arrays."
      ],
      "metadata": {
        "id": "MJfcsUzYw1ZL"
      }
    },
    {
      "cell_type": "code",
      "source": [
        "np.arange(1, 10, 2)"
      ],
      "metadata": {
        "colab": {
          "base_uri": "https://localhost:8080/"
        },
        "id": "qVVOpoTtxDvH",
        "outputId": "6c1ccf3b-662b-451b-f147-6bc0f0e68340"
      },
      "execution_count": 8,
      "outputs": [
        {
          "output_type": "execute_result",
          "data": {
            "text/plain": [
              "array([1, 3, 5, 7, 9])"
            ]
          },
          "metadata": {},
          "execution_count": 8
        }
      ]
    },
    {
      "cell_type": "markdown",
      "source": [
        "**np.linspace** -> Cria um array entre dois números espaçados linearmente."
      ],
      "metadata": {
        "id": "5hOH5mWqxNOx"
      }
    },
    {
      "cell_type": "code",
      "source": [
        "np.linspace(5, 10, num=5)"
      ],
      "metadata": {
        "colab": {
          "base_uri": "https://localhost:8080/"
        },
        "id": "tKxZZJGhxTFH",
        "outputId": "c5d433d2-323f-4f00-cbc4-922dec88b316"
      },
      "execution_count": 9,
      "outputs": [
        {
          "output_type": "execute_result",
          "data": {
            "text/plain": [
              "array([ 5.  ,  6.25,  7.5 ,  8.75, 10.  ])"
            ]
          },
          "metadata": {},
          "execution_count": 9
        }
      ]
    },
    {
      "cell_type": "markdown",
      "source": [
        "**np.logspace** -> Cria um array entre dois números espaçados logaritmicamente."
      ],
      "metadata": {
        "id": "NnHF5EAWxn8g"
      }
    },
    {
      "cell_type": "code",
      "source": [
        "np.logspace(0, 1, 3)"
      ],
      "metadata": {
        "colab": {
          "base_uri": "https://localhost:8080/"
        },
        "id": "Ta5XPkoXxWdZ",
        "outputId": "efc75da7-89c8-4179-85f4-6585269844d2"
      },
      "execution_count": 10,
      "outputs": [
        {
          "output_type": "execute_result",
          "data": {
            "text/plain": [
              "array([ 1.        ,  3.16227766, 10.        ])"
            ]
          },
          "metadata": {},
          "execution_count": 10
        }
      ]
    },
    {
      "cell_type": "markdown",
      "source": [
        "**np.random.int** -> Cria um array de valores aleatórios entre um valor menor e maior (exclusivo)."
      ],
      "metadata": {
        "id": "rFYI_qxpyLhH"
      }
    },
    {
      "cell_type": "code",
      "source": [
        "np.random.randint(0, 10, size=(5,5))"
      ],
      "metadata": {
        "colab": {
          "base_uri": "https://localhost:8080/"
        },
        "id": "iAvleq7Zxy3W",
        "outputId": "4787aa28-63c0-4d7c-c88a-d7fe91bc0003"
      },
      "execution_count": 11,
      "outputs": [
        {
          "output_type": "execute_result",
          "data": {
            "text/plain": [
              "array([[2, 0, 6, 4, 6],\n",
              "       [9, 7, 9, 4, 5],\n",
              "       [7, 3, 9, 3, 1],\n",
              "       [6, 1, 9, 9, 3],\n",
              "       [0, 6, 2, 2, 9]])"
            ]
          },
          "metadata": {},
          "execution_count": 11
        }
      ]
    },
    {
      "cell_type": "markdown",
      "source": [
        "**np.random.normal** -> Cria um array aleatório com valores baseados em uma distribuição normal."
      ],
      "metadata": {
        "id": "o4juXygwzqwv"
      }
    },
    {
      "cell_type": "code",
      "source": [
        "np.random.normal(1, 2, 10)"
      ],
      "metadata": {
        "colab": {
          "base_uri": "https://localhost:8080/"
        },
        "id": "u3cmxJfXygPn",
        "outputId": "61ebdcd4-fa3f-4abc-d894-642dce55b9e1"
      },
      "execution_count": 12,
      "outputs": [
        {
          "output_type": "execute_result",
          "data": {
            "text/plain": [
              "array([ 2.78330553,  1.65785123,  2.32848251, -0.62132574,  2.6138556 ,\n",
              "        4.24364608, -0.75914664,  1.83944802,  1.94965863,  0.68709567])"
            ]
          },
          "metadata": {},
          "execution_count": 12
        }
      ]
    },
    {
      "cell_type": "markdown",
      "source": [
        "É interessante notar que algumas dessas funções não permitem passar o tamanho do array (como o np.arange), por muitas vezes é comum combiná-las com o método reshape."
      ],
      "metadata": {
        "id": "XB9e4bxs0OuY"
      }
    },
    {
      "cell_type": "code",
      "source": [
        "a = np.arange(12)\n",
        "a = a.reshape(3, 4)\n",
        "a"
      ],
      "metadata": {
        "colab": {
          "base_uri": "https://localhost:8080/"
        },
        "id": "g0bmK31U0KOb",
        "outputId": "693c5d1b-ba04-487c-9cb6-efcc3a50a921"
      },
      "execution_count": 13,
      "outputs": [
        {
          "output_type": "execute_result",
          "data": {
            "text/plain": [
              "array([[ 0,  1,  2,  3],\n",
              "       [ 4,  5,  6,  7],\n",
              "       [ 8,  9, 10, 11]])"
            ]
          },
          "metadata": {},
          "execution_count": 13
        }
      ]
    },
    {
      "cell_type": "markdown",
      "source": [
        "##**Tipagem**<br>\n",
        "Uma das diferenças mais gritantes entre arrays e listas é sua tipagem. Enquanto listas podem conter múltiplos tipos de dados (inteiros, strings, floats, etc) arrays tendem a tipagem fixa e tal tipagem pode ser modificda utilizando o método astype."
      ],
      "metadata": {
        "id": "gdVy8Xy_M0ka"
      }
    },
    {
      "cell_type": "code",
      "source": [
        "arr = np.array([1, 2, 3])\n",
        "print(arr.dtype, arr)"
      ],
      "metadata": {
        "colab": {
          "base_uri": "https://localhost:8080/"
        },
        "id": "8WP9RbI5OByy",
        "outputId": "385fadc6-67c0-4763-912e-0ed85514bca4"
      },
      "execution_count": 14,
      "outputs": [
        {
          "output_type": "stream",
          "name": "stdout",
          "text": [
            "int64 [1 2 3]\n"
          ]
        }
      ]
    },
    {
      "cell_type": "markdown",
      "source": [
        "##**Indexação**<br>\n",
        "Tal como listas os arrays são objetos indexáveis de maneira similar, de forma que a sintaxe de chaves e os slices funcionam normalmente.\n"
      ],
      "metadata": {
        "id": "Tr2pvLT6PFft"
      }
    },
    {
      "cell_type": "code",
      "source": [
        "array = np.arange(1, 10)\n",
        "matriz = np.random.normal(1, 2, (3, 3))\n",
        "\n",
        "print(array)\n",
        "print(matriz)"
      ],
      "metadata": {
        "colab": {
          "base_uri": "https://localhost:8080/"
        },
        "id": "CBrWLdnfPWIC",
        "outputId": "3f4b6c6a-e230-47bc-d922-e971735302ae"
      },
      "execution_count": 18,
      "outputs": [
        {
          "output_type": "stream",
          "name": "stdout",
          "text": [
            "[1 2 3 4 5 6 7 8 9]\n",
            "[[ 0.04657737 -2.22317816  3.02394784]\n",
            " [ 3.02555509  1.91865306  2.44759395]\n",
            " [ 1.62143499 -0.01076022 -0.03617188]]\n"
          ]
        }
      ]
    },
    {
      "cell_type": "code",
      "source": [
        "array[0]"
      ],
      "metadata": {
        "colab": {
          "base_uri": "https://localhost:8080/"
        },
        "id": "2fB-fTxYPIWg",
        "outputId": "6fba2366-9b07-43b4-ce37-da325f4765f7"
      },
      "execution_count": 19,
      "outputs": [
        {
          "output_type": "execute_result",
          "data": {
            "text/plain": [
              "1"
            ]
          },
          "metadata": {},
          "execution_count": 19
        }
      ]
    },
    {
      "cell_type": "code",
      "source": [
        "matriz[2][-1]"
      ],
      "metadata": {
        "colab": {
          "base_uri": "https://localhost:8080/"
        },
        "id": "EEHrMKn4PsYr",
        "outputId": "090a1025-b7fd-4d4f-c462-1ec9a1941e46"
      },
      "execution_count": 20,
      "outputs": [
        {
          "output_type": "execute_result",
          "data": {
            "text/plain": [
              "-0.03617187509410269"
            ]
          },
          "metadata": {},
          "execution_count": 20
        }
      ]
    },
    {
      "cell_type": "code",
      "source": [
        "matriz[1]"
      ],
      "metadata": {
        "colab": {
          "base_uri": "https://localhost:8080/"
        },
        "id": "Rau1mTLZPtuu",
        "outputId": "a72ddff0-188b-4eb6-d60e-bc4e7d513179"
      },
      "execution_count": 21,
      "outputs": [
        {
          "output_type": "execute_result",
          "data": {
            "text/plain": [
              "array([3.02555509, 1.91865306, 2.44759395])"
            ]
          },
          "metadata": {},
          "execution_count": 21
        }
      ]
    },
    {
      "cell_type": "code",
      "source": [
        "array[::2]"
      ],
      "metadata": {
        "colab": {
          "base_uri": "https://localhost:8080/"
        },
        "id": "dzDmWqjnP56-",
        "outputId": "bcec17ea-a54c-415f-9df0-d0f8826decce"
      },
      "execution_count": 22,
      "outputs": [
        {
          "output_type": "execute_result",
          "data": {
            "text/plain": [
              "array([1, 3, 5, 7, 9])"
            ]
          },
          "metadata": {},
          "execution_count": 22
        }
      ]
    },
    {
      "cell_type": "markdown",
      "source": [
        "Entretanto o Numpy oferece uma maneira adicional de indexar elementos selecionando múltiplos índices por meio de uma lista."
      ],
      "metadata": {
        "id": "EBTqEY4AQPow"
      }
    },
    {
      "cell_type": "code",
      "source": [
        "array[1:3]"
      ],
      "metadata": {
        "colab": {
          "base_uri": "https://localhost:8080/"
        },
        "id": "tAAqv6PtQgbK",
        "outputId": "d6d3b6ac-bc0e-4b6b-8624-9b5e2222f64a"
      },
      "execution_count": 23,
      "outputs": [
        {
          "output_type": "execute_result",
          "data": {
            "text/plain": [
              "array([2, 3])"
            ]
          },
          "metadata": {},
          "execution_count": 23
        }
      ]
    },
    {
      "cell_type": "code",
      "source": [
        "array[[1, 2]]"
      ],
      "metadata": {
        "colab": {
          "base_uri": "https://localhost:8080/"
        },
        "id": "9c3Wbx79QiJu",
        "outputId": "8fe25dfa-0863-401e-e820-c2f3cb79893f"
      },
      "execution_count": 24,
      "outputs": [
        {
          "output_type": "execute_result",
          "data": {
            "text/plain": [
              "array([2, 3])"
            ]
          },
          "metadata": {},
          "execution_count": 24
        }
      ]
    },
    {
      "cell_type": "markdown",
      "source": [
        "Por fim, Numpy oferece a flexibilidade, especialmente com matrizes, de selecionar os elementos de linhas e colunas em conjunto por meio da sintaxe de \",\" na qual fornecemos dois slices, o primeiro selecionando linhas e o segundo selecionando colunas."
      ],
      "metadata": {
        "id": "ijUqPJYXRAS1"
      }
    },
    {
      "cell_type": "code",
      "source": [
        "matriz[:, 1]"
      ],
      "metadata": {
        "colab": {
          "base_uri": "https://localhost:8080/"
        },
        "id": "0qdwr9t2RlwZ",
        "outputId": "82d8fd46-38be-422b-e356-c0eeba0049de"
      },
      "execution_count": 25,
      "outputs": [
        {
          "output_type": "execute_result",
          "data": {
            "text/plain": [
              "array([-2.22317816,  1.91865306, -0.01076022])"
            ]
          },
          "metadata": {},
          "execution_count": 25
        }
      ]
    },
    {
      "cell_type": "code",
      "source": [
        "matriz[1, 2]"
      ],
      "metadata": {
        "colab": {
          "base_uri": "https://localhost:8080/"
        },
        "id": "53wmMQQERolP",
        "outputId": "5c647abd-5f8d-46de-e628-06fec8f1b941"
      },
      "execution_count": 26,
      "outputs": [
        {
          "output_type": "execute_result",
          "data": {
            "text/plain": [
              "2.447593949901801"
            ]
          },
          "metadata": {},
          "execution_count": 26
        }
      ]
    },
    {
      "cell_type": "code",
      "source": [
        "matriz[:, [1, 2]]"
      ],
      "metadata": {
        "colab": {
          "base_uri": "https://localhost:8080/"
        },
        "id": "0GJe1AIhRqTd",
        "outputId": "84d6f60a-62b0-48ae-ba9b-13c931404070"
      },
      "execution_count": 27,
      "outputs": [
        {
          "output_type": "execute_result",
          "data": {
            "text/plain": [
              "array([[-2.22317816,  3.02394784],\n",
              "       [ 1.91865306,  2.44759395],\n",
              "       [-0.01076022, -0.03617188]])"
            ]
          },
          "metadata": {},
          "execution_count": 27
        }
      ]
    },
    {
      "cell_type": "code",
      "source": [
        "arr = np.array([1, 2, 3])\n",
        "arr = arr.astype(\"float\")\n",
        "print(arr.dtype, arr)"
      ],
      "metadata": {
        "colab": {
          "base_uri": "https://localhost:8080/"
        },
        "id": "T7ktAP9JOG7g",
        "outputId": "2e671b9b-a5dc-4561-ccd4-e4417b0fc5c7"
      },
      "execution_count": 28,
      "outputs": [
        {
          "output_type": "stream",
          "name": "stdout",
          "text": [
            "float64 [1. 2. 3.]\n"
          ]
        }
      ]
    },
    {
      "cell_type": "code",
      "source": [
        "arr = np.array([1, 2, 3], dtype=np.uint8)\n",
        "print(arr.dtype, arr)"
      ],
      "metadata": {
        "colab": {
          "base_uri": "https://localhost:8080/"
        },
        "id": "M3wyTct3ORuO",
        "outputId": "3ac3bcb1-07e3-4969-e6c3-9762189bf20b"
      },
      "execution_count": 29,
      "outputs": [
        {
          "output_type": "stream",
          "name": "stdout",
          "text": [
            "uint8 [1 2 3]\n"
          ]
        }
      ]
    },
    {
      "cell_type": "code",
      "source": [
        "arr = np.array([\"olá\", 2.1, [2, 3, 4]], dtype=\"object\")\n",
        "arr.shape"
      ],
      "metadata": {
        "colab": {
          "base_uri": "https://localhost:8080/"
        },
        "id": "5G81uTNsOdeP",
        "outputId": "7b59f7b4-2170-43ea-f58b-edba34b46594"
      },
      "execution_count": 30,
      "outputs": [
        {
          "output_type": "execute_result",
          "data": {
            "text/plain": [
              "(3,)"
            ]
          },
          "metadata": {},
          "execution_count": 30
        }
      ]
    },
    {
      "cell_type": "markdown",
      "source": [
        "##**Mutabilidade**<br>\n",
        "Diferente de listas arrays são objetos imutáveis em tamanho e tipo (como visto acima, para mudar o tipo de array é criado um novo).\n"
      ],
      "metadata": {
        "id": "N46SBEt9SfCR"
      }
    },
    {
      "cell_type": "code",
      "source": [
        "arr = np.array([1, 2, 3])\n",
        "'''\n",
        "arr.append(4)\n",
        "Gera um erro!\n",
        "'''"
      ],
      "metadata": {
        "colab": {
          "base_uri": "https://localhost:8080/",
          "height": 35
        },
        "id": "kKsb7Sl5ShQU",
        "outputId": "0ecb6eb7-a065-4fd9-83f0-32befc0de298"
      },
      "execution_count": 31,
      "outputs": [
        {
          "output_type": "execute_result",
          "data": {
            "text/plain": [
              "'\\narr.append(4)\\nGera um erro!\\n'"
            ],
            "application/vnd.google.colaboratory.intrinsic+json": {
              "type": "string"
            }
          },
          "metadata": {},
          "execution_count": 31
        }
      ]
    },
    {
      "cell_type": "markdown",
      "source": [
        "Entretanto, diferente de tuplas, arrays são mútaveis em conteúdo."
      ],
      "metadata": {
        "id": "f8HsGXlZTUdv"
      }
    },
    {
      "cell_type": "code",
      "source": [
        "arr[2] = 5\n",
        "arr"
      ],
      "metadata": {
        "colab": {
          "base_uri": "https://localhost:8080/"
        },
        "id": "dnDeLqnhTAkR",
        "outputId": "7caffe73-4501-43b6-dec2-3cb55bb7e30d"
      },
      "execution_count": 32,
      "outputs": [
        {
          "output_type": "execute_result",
          "data": {
            "text/plain": [
              "array([1, 2, 5])"
            ]
          },
          "metadata": {},
          "execution_count": 32
        }
      ]
    },
    {
      "cell_type": "markdown",
      "source": [
        "Ao tentar mudar o valor de um elemento o Numpy o converterá para a tipagem adequada quando possível."
      ],
      "metadata": {
        "id": "5wN_ATcMTXHv"
      }
    },
    {
      "cell_type": "code",
      "source": [
        "arr[1] = 1.7334\n",
        "arr"
      ],
      "metadata": {
        "colab": {
          "base_uri": "https://localhost:8080/"
        },
        "id": "fXttsi4HS2GN",
        "outputId": "12ae7a01-14e8-4aa7-c5aa-e133050c16a3"
      },
      "execution_count": 33,
      "outputs": [
        {
          "output_type": "execute_result",
          "data": {
            "text/plain": [
              "array([1, 1, 5])"
            ]
          },
          "metadata": {},
          "execution_count": 33
        }
      ]
    },
    {
      "cell_type": "code",
      "source": [
        "arr[1] = \"3\"\n",
        "arr"
      ],
      "metadata": {
        "colab": {
          "base_uri": "https://localhost:8080/"
        },
        "id": "fYKgVe52ToWx",
        "outputId": "242c7550-53f2-409e-f6d1-298fa7fcf95c"
      },
      "execution_count": 34,
      "outputs": [
        {
          "output_type": "execute_result",
          "data": {
            "text/plain": [
              "array([1, 3, 5])"
            ]
          },
          "metadata": {},
          "execution_count": 34
        }
      ]
    },
    {
      "cell_type": "code",
      "source": [
        "'''\n",
        "arr[1] = \"3.2\"\n",
        "arr\n",
        "Gera um erro!\n",
        "'''"
      ],
      "metadata": {
        "colab": {
          "base_uri": "https://localhost:8080/",
          "height": 35
        },
        "id": "SlIjTW5FTsNu",
        "outputId": "b25407e4-502c-4588-bc65-944341f98f8c"
      },
      "execution_count": 35,
      "outputs": [
        {
          "output_type": "execute_result",
          "data": {
            "text/plain": [
              "'\\narr[1] = \"3.2\"\\narr\\nGera um erro!\\n'"
            ],
            "application/vnd.google.colaboratory.intrinsic+json": {
              "type": "string"
            }
          },
          "metadata": {},
          "execution_count": 35
        }
      ]
    },
    {
      "cell_type": "markdown",
      "source": [
        "É interessante notar como funciona a alocação de memória para transformações particulares do array que podem afetar sua mutabilidade. Por exemplo, suponhamos que temos os arrays a, b e c todos criados a partir de transformações do vetor a."
      ],
      "metadata": {
        "id": "IXUzA3svT9w8"
      }
    },
    {
      "cell_type": "code",
      "source": [
        "a = np.arange(12, dtype=\"int64\")\n",
        "b = a.reshape(3, 4)\n",
        "c = a[::2]\n",
        "print(a)\n",
        "print(b)\n",
        "print(c)"
      ],
      "metadata": {
        "colab": {
          "base_uri": "https://localhost:8080/"
        },
        "id": "W03G68XXTvA-",
        "outputId": "a69f8f2b-b96e-4822-bff0-ab57731969db"
      },
      "execution_count": 36,
      "outputs": [
        {
          "output_type": "stream",
          "name": "stdout",
          "text": [
            "[ 0  1  2  3  4  5  6  7  8  9 10 11]\n",
            "[[ 0  1  2  3]\n",
            " [ 4  5  6  7]\n",
            " [ 8  9 10 11]]\n",
            "[ 0  2  4  6  8 10]\n"
          ]
        }
      ]
    },
    {
      "cell_type": "markdown",
      "source": [
        "O que acontece, neste caso, se eu alterar o vetor a?"
      ],
      "metadata": {
        "id": "f_-i_gITUlYw"
      }
    },
    {
      "cell_type": "code",
      "source": [
        "a[0] = -1\n",
        "print(a)\n",
        "print(b)\n",
        "print(c)"
      ],
      "metadata": {
        "colab": {
          "base_uri": "https://localhost:8080/"
        },
        "id": "QGXDma8MUeO-",
        "outputId": "dbcbb9f8-50a8-4c4e-c3c6-6010af5a4bf9"
      },
      "execution_count": 37,
      "outputs": [
        {
          "output_type": "stream",
          "name": "stdout",
          "text": [
            "[-1  1  2  3  4  5  6  7  8  9 10 11]\n",
            "[[-1  1  2  3]\n",
            " [ 4  5  6  7]\n",
            " [ 8  9 10 11]]\n",
            "[-1  2  4  6  8 10]\n"
          ]
        }
      ]
    },
    {
      "cell_type": "markdown",
      "source": [
        "Veja que se altera os vetores b e c. Isso acontece porque na visão de memória esses vetores apontam para a mesma localização na RAM."
      ],
      "metadata": {
        "id": "BkX4xdwgVb3G"
      }
    },
    {
      "cell_type": "code",
      "source": [
        "print(f\"a: dtype={a.dtype} | shape={a.shape} | size={a.size} | itemsize={a.itemsize} | strides={a.strides}\")\n",
        "print(f\"b: dtype={b.dtype} | shape={b.shape} | size={b.size} | itemsize={b.itemsize} | strides={b.strides}\")"
      ],
      "metadata": {
        "colab": {
          "base_uri": "https://localhost:8080/"
        },
        "id": "i4CaVpf9UrjP",
        "outputId": "edbb6d0e-e763-4584-b4fd-7535f72f69fd"
      },
      "execution_count": 38,
      "outputs": [
        {
          "output_type": "stream",
          "name": "stdout",
          "text": [
            "a: dtype=int64 | shape=(12,) | size=12 | itemsize=8 | strides=(8,)\n",
            "b: dtype=int64 | shape=(3, 4) | size=12 | itemsize=8 | strides=(32, 8)\n"
          ]
        }
      ]
    },
    {
      "cell_type": "markdown",
      "source": [
        "Da mesma forma o vetor c é uma representação especial do vetor a, na qual mudamos o valor de passo entre elementos do array."
      ],
      "metadata": {
        "id": "BKxe-YNOXGfl"
      }
    },
    {
      "cell_type": "code",
      "source": [
        "print(f\"a: dtype={a.dtype} | shape={a.shape} | size={a.size} | itemsize={a.itemsize} | strides={a.strides}\")\n",
        "print(f\"c: dtype={c.dtype} | shape={c.shape} | size={c.size} | itemsize={c.itemsize} | strides={c.strides}\")"
      ],
      "metadata": {
        "colab": {
          "base_uri": "https://localhost:8080/"
        },
        "id": "diDVgBCQXXz5",
        "outputId": "ac514f9b-c25d-4fdb-c0b7-bf365e42419a"
      },
      "execution_count": 39,
      "outputs": [
        {
          "output_type": "stream",
          "name": "stdout",
          "text": [
            "a: dtype=int64 | shape=(12,) | size=12 | itemsize=8 | strides=(8,)\n",
            "c: dtype=int64 | shape=(6,) | size=6 | itemsize=8 | strides=(16,)\n"
          ]
        }
      ]
    },
    {
      "cell_type": "markdown",
      "source": [
        "Por fim é importante lembrar que tal como listas e dicionário, arrays são passados como referência em função, de forma que qualquer alteração no array feito dentro de uma função será carregada para fora da mesma."
      ],
      "metadata": {
        "id": "JAm3AGx_XgRT"
      }
    },
    {
      "cell_type": "code",
      "source": [
        "def muda_a(a):\n",
        "  a[1] = 12890\n",
        "print(a)\n",
        "muda_a(a)\n",
        "print(a)\n",
        "print(b)\n",
        "print(c)"
      ],
      "metadata": {
        "colab": {
          "base_uri": "https://localhost:8080/"
        },
        "id": "atuX1cAQX45B",
        "outputId": "dca3ee87-1f31-4938-9c73-2c95d3adf2a0"
      },
      "execution_count": 40,
      "outputs": [
        {
          "output_type": "stream",
          "name": "stdout",
          "text": [
            "[-1  1  2  3  4  5  6  7  8  9 10 11]\n",
            "[   -1 12890     2     3     4     5     6     7     8     9    10    11]\n",
            "[[   -1 12890     2     3]\n",
            " [    4     5     6     7]\n",
            " [    8     9    10    11]]\n",
            "[-1  2  4  6  8 10]\n"
          ]
        }
      ]
    },
    {
      "cell_type": "markdown",
      "source": [
        "##**Operações**<br>\n",
        "Como descrito anteriormente, Numpy é uma biblioteca de álgebra linear, de forma que suporta todas as operações vetoriais tradicionais."
      ],
      "metadata": {
        "id": "Wzg-T50MZfnT"
      }
    },
    {
      "cell_type": "code",
      "source": [
        "np.random.seed(42)\n",
        "arr1 = np.array([1, 2, 3])\n",
        "arr2 = np.array([4, 5, 6])\n",
        "m1 = np.random.randint(1, 10, size=(3, 3))\n",
        "m2 = np.random.randint(1, 10, size=(3, 3))\n",
        "\n",
        "print(m1)\n",
        "print(m2)"
      ],
      "metadata": {
        "colab": {
          "base_uri": "https://localhost:8080/"
        },
        "id": "6NahGxvxZiJ_",
        "outputId": "5cde98fd-c99d-408c-d581-e99451e7c456"
      },
      "execution_count": 41,
      "outputs": [
        {
          "output_type": "stream",
          "name": "stdout",
          "text": [
            "[[7 4 8]\n",
            " [5 7 3]\n",
            " [7 8 5]]\n",
            "[[4 8 8]\n",
            " [3 6 5]\n",
            " [2 8 6]]\n"
          ]
        }
      ]
    },
    {
      "cell_type": "markdown",
      "source": [
        "Soma"
      ],
      "metadata": {
        "id": "GHOSqKK6aBcp"
      }
    },
    {
      "cell_type": "code",
      "source": [
        "arr1 + arr2"
      ],
      "metadata": {
        "colab": {
          "base_uri": "https://localhost:8080/"
        },
        "id": "L-4FsTS_Z88N",
        "outputId": "a775cb9d-4aa0-4b1f-9f49-872bf08be51d"
      },
      "execution_count": 42,
      "outputs": [
        {
          "output_type": "execute_result",
          "data": {
            "text/plain": [
              "array([5, 7, 9])"
            ]
          },
          "metadata": {},
          "execution_count": 42
        }
      ]
    },
    {
      "cell_type": "code",
      "source": [
        "np.add(arr1, arr2)"
      ],
      "metadata": {
        "colab": {
          "base_uri": "https://localhost:8080/"
        },
        "id": "9tExpF4RaDxP",
        "outputId": "2058e076-c919-4895-bdc6-5a5522edf1b5"
      },
      "execution_count": 43,
      "outputs": [
        {
          "output_type": "execute_result",
          "data": {
            "text/plain": [
              "array([5, 7, 9])"
            ]
          },
          "metadata": {},
          "execution_count": 43
        }
      ]
    },
    {
      "cell_type": "markdown",
      "source": [
        "Subtração"
      ],
      "metadata": {
        "id": "VDMgSXYuaIBw"
      }
    },
    {
      "cell_type": "code",
      "source": [
        "arr1 - arr2"
      ],
      "metadata": {
        "colab": {
          "base_uri": "https://localhost:8080/"
        },
        "id": "d2nzopdiaFks",
        "outputId": "e2e08523-9ef5-4321-903d-1930296bdb07"
      },
      "execution_count": 44,
      "outputs": [
        {
          "output_type": "execute_result",
          "data": {
            "text/plain": [
              "array([-3, -3, -3])"
            ]
          },
          "metadata": {},
          "execution_count": 44
        }
      ]
    },
    {
      "cell_type": "code",
      "source": [
        "np.subtract(arr1, arr2)"
      ],
      "metadata": {
        "colab": {
          "base_uri": "https://localhost:8080/"
        },
        "id": "x3S6t6CXaJ9M",
        "outputId": "2b3b24a5-c886-4618-9361-8efabca99273"
      },
      "execution_count": 45,
      "outputs": [
        {
          "output_type": "execute_result",
          "data": {
            "text/plain": [
              "array([-3, -3, -3])"
            ]
          },
          "metadata": {},
          "execution_count": 45
        }
      ]
    },
    {
      "cell_type": "markdown",
      "source": [
        "Multiplicação (escalar)"
      ],
      "metadata": {
        "id": "ivt75cdNaakn"
      }
    },
    {
      "cell_type": "code",
      "source": [
        "arr1 * 2"
      ],
      "metadata": {
        "colab": {
          "base_uri": "https://localhost:8080/"
        },
        "id": "_L7O1sZAaS19",
        "outputId": "a1eec397-420c-4c5b-856c-9d919a2c39b0"
      },
      "execution_count": 46,
      "outputs": [
        {
          "output_type": "execute_result",
          "data": {
            "text/plain": [
              "array([2, 4, 6])"
            ]
          },
          "metadata": {},
          "execution_count": 46
        }
      ]
    },
    {
      "cell_type": "code",
      "source": [
        "arr1 * 2.1"
      ],
      "metadata": {
        "colab": {
          "base_uri": "https://localhost:8080/"
        },
        "id": "JP9VeW7raeX8",
        "outputId": "b2068256-1f27-49cd-8f82-9c3a6bf92051"
      },
      "execution_count": 47,
      "outputs": [
        {
          "output_type": "execute_result",
          "data": {
            "text/plain": [
              "array([2.1, 4.2, 6.3])"
            ]
          },
          "metadata": {},
          "execution_count": 47
        }
      ]
    },
    {
      "cell_type": "code",
      "source": [
        "np.multiply(arr1, 2)"
      ],
      "metadata": {
        "colab": {
          "base_uri": "https://localhost:8080/"
        },
        "id": "r1OtX96zagct",
        "outputId": "f5e5aa17-96c0-4069-def4-7560d99c3fb1"
      },
      "execution_count": 48,
      "outputs": [
        {
          "output_type": "execute_result",
          "data": {
            "text/plain": [
              "array([2, 4, 6])"
            ]
          },
          "metadata": {},
          "execution_count": 48
        }
      ]
    },
    {
      "cell_type": "markdown",
      "source": [
        "Multiplicação (element-wise)"
      ],
      "metadata": {
        "id": "7DEN7WaTapXt"
      }
    },
    {
      "cell_type": "code",
      "source": [
        "arr1 * arr2"
      ],
      "metadata": {
        "colab": {
          "base_uri": "https://localhost:8080/"
        },
        "id": "SSxITpT2amJw",
        "outputId": "bbe5ba5e-7c8a-4ea2-a6b5-27ff995f04b7"
      },
      "execution_count": 49,
      "outputs": [
        {
          "output_type": "execute_result",
          "data": {
            "text/plain": [
              "array([ 4, 10, 18])"
            ]
          },
          "metadata": {},
          "execution_count": 49
        }
      ]
    },
    {
      "cell_type": "code",
      "source": [
        "np.multiply(arr1, arr2)"
      ],
      "metadata": {
        "colab": {
          "base_uri": "https://localhost:8080/"
        },
        "id": "0gvStp8Fajvd",
        "outputId": "f6e5eed1-bcda-4924-ea43-d5fa0c7e09a8"
      },
      "execution_count": 50,
      "outputs": [
        {
          "output_type": "execute_result",
          "data": {
            "text/plain": [
              "array([ 4, 10, 18])"
            ]
          },
          "metadata": {},
          "execution_count": 50
        }
      ]
    },
    {
      "cell_type": "markdown",
      "source": [
        "Multiplicação (produto vetorial)"
      ],
      "metadata": {
        "id": "sE_QUo7ea3Hr"
      }
    },
    {
      "cell_type": "code",
      "source": [
        "sum(arr1 * arr2)"
      ],
      "metadata": {
        "colab": {
          "base_uri": "https://localhost:8080/"
        },
        "id": "a6cvfGyla1hN",
        "outputId": "f52f46c2-30fa-4111-b522-49ad5aa057f0"
      },
      "execution_count": 51,
      "outputs": [
        {
          "output_type": "execute_result",
          "data": {
            "text/plain": [
              "32"
            ]
          },
          "metadata": {},
          "execution_count": 51
        }
      ]
    },
    {
      "cell_type": "code",
      "source": [
        "arr1.dot(arr2)"
      ],
      "metadata": {
        "colab": {
          "base_uri": "https://localhost:8080/"
        },
        "id": "ZsF7jQcpa6ls",
        "outputId": "5738546a-ed18-467f-eb32-6d9ecad0e0db"
      },
      "execution_count": 52,
      "outputs": [
        {
          "output_type": "execute_result",
          "data": {
            "text/plain": [
              "32"
            ]
          },
          "metadata": {},
          "execution_count": 52
        }
      ]
    },
    {
      "cell_type": "code",
      "source": [
        "np.dot(arr1, arr2)"
      ],
      "metadata": {
        "colab": {
          "base_uri": "https://localhost:8080/"
        },
        "id": "gzTh-DVRa8Md",
        "outputId": "657d5b8c-9886-45ae-d28b-819447e1c662"
      },
      "execution_count": 53,
      "outputs": [
        {
          "output_type": "execute_result",
          "data": {
            "text/plain": [
              "32"
            ]
          },
          "metadata": {},
          "execution_count": 53
        }
      ]
    },
    {
      "cell_type": "markdown",
      "source": [
        "Multiplicação (cruzada)"
      ],
      "metadata": {
        "id": "rqimekK_bjSu"
      }
    },
    {
      "cell_type": "code",
      "source": [
        "np.cross(arr1, arr2)"
      ],
      "metadata": {
        "colab": {
          "base_uri": "https://localhost:8080/"
        },
        "id": "JNDCkPxJa9nd",
        "outputId": "02d6e79a-145b-456e-c2c6-2f960ffb671a"
      },
      "execution_count": 54,
      "outputs": [
        {
          "output_type": "execute_result",
          "data": {
            "text/plain": [
              "array([-3,  6, -3])"
            ]
          },
          "metadata": {},
          "execution_count": 54
        }
      ]
    },
    {
      "cell_type": "markdown",
      "source": [
        "Multiplicação (matricial)"
      ],
      "metadata": {
        "id": "YxPm4Iryb0lQ"
      }
    },
    {
      "cell_type": "code",
      "source": [
        "m1@m2"
      ],
      "metadata": {
        "colab": {
          "base_uri": "https://localhost:8080/"
        },
        "id": "48dFbA0ybzzO",
        "outputId": "60e2b0e6-6255-4086-d9fc-d137d4a6ee7e"
      },
      "execution_count": 55,
      "outputs": [
        {
          "output_type": "execute_result",
          "data": {
            "text/plain": [
              "array([[ 56, 144, 124],\n",
              "       [ 47, 106,  93],\n",
              "       [ 62, 144, 126]])"
            ]
          },
          "metadata": {},
          "execution_count": 55
        }
      ]
    },
    {
      "cell_type": "code",
      "source": [
        "np.matmul(m1, m2)"
      ],
      "metadata": {
        "colab": {
          "base_uri": "https://localhost:8080/"
        },
        "id": "7CVn_Lpab3zf",
        "outputId": "13713dae-e2b6-425e-85bc-5213278edde7"
      },
      "execution_count": 56,
      "outputs": [
        {
          "output_type": "execute_result",
          "data": {
            "text/plain": [
              "array([[ 56, 144, 124],\n",
              "       [ 47, 106,  93],\n",
              "       [ 62, 144, 126]])"
            ]
          },
          "metadata": {},
          "execution_count": 56
        }
      ]
    },
    {
      "cell_type": "markdown",
      "source": [
        "Divisão"
      ],
      "metadata": {
        "id": "3FBe02SZcCfB"
      }
    },
    {
      "cell_type": "code",
      "source": [
        "arr1 / arr2"
      ],
      "metadata": {
        "colab": {
          "base_uri": "https://localhost:8080/"
        },
        "id": "JVoNG9pUb70u",
        "outputId": "6ecab6d2-4a39-48d1-8d0a-574f85e9caee"
      },
      "execution_count": 57,
      "outputs": [
        {
          "output_type": "execute_result",
          "data": {
            "text/plain": [
              "array([0.25, 0.4 , 0.5 ])"
            ]
          },
          "metadata": {},
          "execution_count": 57
        }
      ]
    },
    {
      "cell_type": "code",
      "source": [
        "np.divide(arr1, arr2)"
      ],
      "metadata": {
        "colab": {
          "base_uri": "https://localhost:8080/"
        },
        "id": "QpJupjd1cFBN",
        "outputId": "fdc411af-ddeb-4b38-c7ac-c78c1138978a"
      },
      "execution_count": 58,
      "outputs": [
        {
          "output_type": "execute_result",
          "data": {
            "text/plain": [
              "array([0.25, 0.4 , 0.5 ])"
            ]
          },
          "metadata": {},
          "execution_count": 58
        }
      ]
    },
    {
      "cell_type": "markdown",
      "source": [
        "Exponenciação"
      ],
      "metadata": {
        "id": "m4sgrbDIcJKN"
      }
    },
    {
      "cell_type": "code",
      "source": [
        "arr1 ** 2"
      ],
      "metadata": {
        "colab": {
          "base_uri": "https://localhost:8080/"
        },
        "id": "no2WndSccGuM",
        "outputId": "0b24afab-3630-40a8-ab06-528acfbb6559"
      },
      "execution_count": 59,
      "outputs": [
        {
          "output_type": "execute_result",
          "data": {
            "text/plain": [
              "array([1, 4, 9])"
            ]
          },
          "metadata": {},
          "execution_count": 59
        }
      ]
    },
    {
      "cell_type": "code",
      "source": [
        "arr1 ** arr2"
      ],
      "metadata": {
        "colab": {
          "base_uri": "https://localhost:8080/"
        },
        "id": "T6Xe6Q4FcLW-",
        "outputId": "2ad4bc1f-3f6b-4c37-a86c-842a7ca70d8b"
      },
      "execution_count": 60,
      "outputs": [
        {
          "output_type": "execute_result",
          "data": {
            "text/plain": [
              "array([  1,  32, 729])"
            ]
          },
          "metadata": {},
          "execution_count": 60
        }
      ]
    },
    {
      "cell_type": "code",
      "source": [
        "np.power(arr1, arr2)"
      ],
      "metadata": {
        "colab": {
          "base_uri": "https://localhost:8080/"
        },
        "id": "MDHwRkKkcNCt",
        "outputId": "55877ae1-a87e-4f6f-e19d-951c4dbc0b6b"
      },
      "execution_count": 61,
      "outputs": [
        {
          "output_type": "execute_result",
          "data": {
            "text/plain": [
              "array([  1,  32, 729])"
            ]
          },
          "metadata": {},
          "execution_count": 61
        }
      ]
    },
    {
      "cell_type": "markdown",
      "source": [
        "Módulo de um vetor"
      ],
      "metadata": {
        "id": "T8b79fkYcVG2"
      }
    },
    {
      "cell_type": "code",
      "source": [
        "sum(arr1 * arr1) ** 0.5"
      ],
      "metadata": {
        "colab": {
          "base_uri": "https://localhost:8080/"
        },
        "id": "3AlOu90ZcO-8",
        "outputId": "ead337c5-62f1-4ff1-c0ec-966f5017197a"
      },
      "execution_count": 62,
      "outputs": [
        {
          "output_type": "execute_result",
          "data": {
            "text/plain": [
              "3.7416573867739413"
            ]
          },
          "metadata": {},
          "execution_count": 62
        }
      ]
    },
    {
      "cell_type": "code",
      "source": [
        "np.linalg.norm(arr1)"
      ],
      "metadata": {
        "colab": {
          "base_uri": "https://localhost:8080/"
        },
        "id": "-E8xMB-UcalM",
        "outputId": "44911115-a8bc-47c5-a8c9-2fd413f892b6"
      },
      "execution_count": 63,
      "outputs": [
        {
          "output_type": "execute_result",
          "data": {
            "text/plain": [
              "3.7416573867739413"
            ]
          },
          "metadata": {},
          "execution_count": 63
        }
      ]
    },
    {
      "cell_type": "markdown",
      "source": [
        "Determinante de uma matriz"
      ],
      "metadata": {
        "id": "uQut-n7gchDI"
      }
    },
    {
      "cell_type": "code",
      "source": [
        "np.linalg.det(m1)"
      ],
      "metadata": {
        "colab": {
          "base_uri": "https://localhost:8080/"
        },
        "id": "txD-xnEqcert",
        "outputId": "12a7d261-4be6-4927-d034-7fd8f629cb82"
      },
      "execution_count": 64,
      "outputs": [
        {
          "output_type": "execute_result",
          "data": {
            "text/plain": [
              "-11.00000000000003"
            ]
          },
          "metadata": {},
          "execution_count": 64
        }
      ]
    },
    {
      "cell_type": "markdown",
      "source": [
        "Matriz inversa"
      ],
      "metadata": {
        "id": "tkqthIUOcmph"
      }
    },
    {
      "cell_type": "code",
      "source": [
        "np.linalg.inv(m1)"
      ],
      "metadata": {
        "colab": {
          "base_uri": "https://localhost:8080/"
        },
        "id": "93DxDQPvckqd",
        "outputId": "0dc00ac6-abbd-448b-b46d-c571b50c01ee"
      },
      "execution_count": 65,
      "outputs": [
        {
          "output_type": "execute_result",
          "data": {
            "text/plain": [
              "array([[-1.        , -4.        ,  4.        ],\n",
              "       [ 0.36363636,  1.90909091, -1.72727273],\n",
              "       [ 0.81818182,  2.54545455, -2.63636364]])"
            ]
          },
          "metadata": {},
          "execution_count": 65
        }
      ]
    },
    {
      "cell_type": "markdown",
      "source": [
        "Matriz transposta"
      ],
      "metadata": {
        "id": "30YlrEVhcrpl"
      }
    },
    {
      "cell_type": "code",
      "source": [
        "np.transpose(m1)"
      ],
      "metadata": {
        "colab": {
          "base_uri": "https://localhost:8080/"
        },
        "id": "ZOuslrrhcqfd",
        "outputId": "88193ab9-3dd5-400a-915a-cce808dc9a43"
      },
      "execution_count": 66,
      "outputs": [
        {
          "output_type": "execute_result",
          "data": {
            "text/plain": [
              "array([[7, 5, 7],\n",
              "       [4, 7, 8],\n",
              "       [8, 3, 5]])"
            ]
          },
          "metadata": {},
          "execution_count": 66
        }
      ]
    },
    {
      "cell_type": "code",
      "source": [
        "m1.T"
      ],
      "metadata": {
        "colab": {
          "base_uri": "https://localhost:8080/"
        },
        "id": "QLk15-ofcvSs",
        "outputId": "06864354-46a0-4860-e393-84e933d3bd8c"
      },
      "execution_count": 67,
      "outputs": [
        {
          "output_type": "execute_result",
          "data": {
            "text/plain": [
              "array([[7, 5, 7],\n",
              "       [4, 7, 8],\n",
              "       [8, 3, 5]])"
            ]
          },
          "metadata": {},
          "execution_count": 67
        }
      ]
    },
    {
      "cell_type": "code",
      "source": [
        "arr1.T"
      ],
      "metadata": {
        "colab": {
          "base_uri": "https://localhost:8080/"
        },
        "id": "ZKb14zmkcwoy",
        "outputId": "78d8e5f8-644f-4c1f-e2f3-b1b7961d5b18"
      },
      "execution_count": 68,
      "outputs": [
        {
          "output_type": "execute_result",
          "data": {
            "text/plain": [
              "array([1, 2, 3])"
            ]
          },
          "metadata": {},
          "execution_count": 68
        }
      ]
    },
    {
      "cell_type": "markdown",
      "source": [
        "Uma propriedade especial de arrays é o \"broadcasting\", na qual uma operação pode ser propagada entre arrays de diferentes tamanhos contanto que obedeçam algumas propriedades específicas. Por exemplo, podemos somar dois arrays de tamanhos diferentes, contanto que possamos \"reproduzir\" um deles para ficar com o tamanho do outro."
      ],
      "metadata": {
        "id": "twjc4Jf4d7cR"
      }
    },
    {
      "cell_type": "code",
      "source": [
        "arr3 = np.array([1, 2, 3, 4])"
      ],
      "metadata": {
        "id": "bNiPRQF8cxtt"
      },
      "execution_count": 69,
      "outputs": []
    },
    {
      "cell_type": "code",
      "source": [
        "arr3 = np.array([[1, 2, 3], [4, 5, 6]])"
      ],
      "metadata": {
        "id": "46VAiJU7ehk9"
      },
      "execution_count": 70,
      "outputs": []
    },
    {
      "cell_type": "code",
      "source": [
        "arr3 + arr1"
      ],
      "metadata": {
        "colab": {
          "base_uri": "https://localhost:8080/"
        },
        "id": "O5-tKEa0epF8",
        "outputId": "fb9932c5-b89a-4534-b5e2-047c490ac4a2"
      },
      "execution_count": 71,
      "outputs": [
        {
          "output_type": "execute_result",
          "data": {
            "text/plain": [
              "array([[2, 4, 6],\n",
              "       [5, 7, 9]])"
            ]
          },
          "metadata": {},
          "execution_count": 71
        }
      ]
    },
    {
      "cell_type": "code",
      "source": [
        "arr3 * arr1"
      ],
      "metadata": {
        "colab": {
          "base_uri": "https://localhost:8080/"
        },
        "id": "ezWp_eeCesvB",
        "outputId": "227ce5c7-c981-4493-8138-50230ea1a32a"
      },
      "execution_count": 72,
      "outputs": [
        {
          "output_type": "execute_result",
          "data": {
            "text/plain": [
              "array([[ 1,  4,  9],\n",
              "       [ 4, 10, 18]])"
            ]
          },
          "metadata": {},
          "execution_count": 72
        }
      ]
    },
    {
      "cell_type": "markdown",
      "source": [
        "###**Representações**<br>\n",
        "Há alguns elementos matemáticos que possuem representações especiais no Numpy.<br>\n",
        "np.nan -> Not a Number, é a representação de um dado faltante."
      ],
      "metadata": {
        "id": "75fp0K0RxYaO"
      }
    },
    {
      "cell_type": "code",
      "source": [
        "arr = np.array([1, 2, np.nan, 4])\n",
        "arr"
      ],
      "metadata": {
        "colab": {
          "base_uri": "https://localhost:8080/"
        },
        "id": "bp4DtMiwxpKl",
        "outputId": "94f4f564-861f-420c-daeb-6f93304725fa"
      },
      "execution_count": 73,
      "outputs": [
        {
          "output_type": "execute_result",
          "data": {
            "text/plain": [
              "array([ 1.,  2., nan,  4.])"
            ]
          },
          "metadata": {},
          "execution_count": 73
        }
      ]
    },
    {
      "cell_type": "code",
      "source": [
        "np.isnan(arr)"
      ],
      "metadata": {
        "colab": {
          "base_uri": "https://localhost:8080/"
        },
        "id": "3NFtCpi7xs6y",
        "outputId": "728e6886-6f5e-4843-f41c-b70b5576c56e"
      },
      "execution_count": 74,
      "outputs": [
        {
          "output_type": "execute_result",
          "data": {
            "text/plain": [
              "array([False, False,  True, False])"
            ]
          },
          "metadata": {},
          "execution_count": 74
        }
      ]
    },
    {
      "cell_type": "code",
      "source": [
        "np.zeros(3)/0"
      ],
      "metadata": {
        "colab": {
          "base_uri": "https://localhost:8080/"
        },
        "id": "3ubwFJtWxuhD",
        "outputId": "9769d9d8-804f-4f3a-ef40-55fa8c5b516c"
      },
      "execution_count": 75,
      "outputs": [
        {
          "output_type": "stream",
          "name": "stderr",
          "text": [
            "<ipython-input-75-2f7de20c6e27>:1: RuntimeWarning: invalid value encountered in divide\n",
            "  np.zeros(3)/0\n"
          ]
        },
        {
          "output_type": "execute_result",
          "data": {
            "text/plain": [
              "array([nan, nan, nan])"
            ]
          },
          "metadata": {},
          "execution_count": 75
        }
      ]
    },
    {
      "cell_type": "markdown",
      "source": [
        "É importante destacar que None e NaN não são a mesma coisa. Not a Number indica um operação matemárica ou um dado númerico não existente dentro de um array, enquanto None é o objeto nulo do Python."
      ],
      "metadata": {
        "id": "feXQH6u3x0Ey"
      }
    },
    {
      "cell_type": "markdown",
      "source": [
        "np.inf -> Infinito, representa valores infinitos."
      ],
      "metadata": {
        "id": "w3GJtBnKyRxN"
      }
    },
    {
      "cell_type": "code",
      "source": [
        "arr = np.array([1, 2, np.inf, 4, -np.inf])\n",
        "arr"
      ],
      "metadata": {
        "colab": {
          "base_uri": "https://localhost:8080/"
        },
        "id": "4mG0_ghRyIrz",
        "outputId": "2efb9ca9-eeed-48e5-9abf-089b65ae5906"
      },
      "execution_count": 78,
      "outputs": [
        {
          "output_type": "execute_result",
          "data": {
            "text/plain": [
              "array([  1.,   2.,  inf,   4., -inf])"
            ]
          },
          "metadata": {},
          "execution_count": 78
        }
      ]
    },
    {
      "cell_type": "code",
      "source": [
        "np.isfinite(arr)"
      ],
      "metadata": {
        "colab": {
          "base_uri": "https://localhost:8080/"
        },
        "id": "ywrZWiB1yaqS",
        "outputId": "d9b3eabc-2fa0-4e0c-e0bc-0f8aa75148f3"
      },
      "execution_count": 79,
      "outputs": [
        {
          "output_type": "execute_result",
          "data": {
            "text/plain": [
              "array([ True,  True, False,  True, False])"
            ]
          },
          "metadata": {},
          "execution_count": 79
        }
      ]
    },
    {
      "cell_type": "code",
      "source": [
        "np.ones(3)/0"
      ],
      "metadata": {
        "colab": {
          "base_uri": "https://localhost:8080/"
        },
        "id": "D_GgcVVPydTi",
        "outputId": "ab0c78de-1885-472c-ea5c-8c33e59a8579"
      },
      "execution_count": 80,
      "outputs": [
        {
          "output_type": "stream",
          "name": "stderr",
          "text": [
            "<ipython-input-80-c6764c1134a7>:1: RuntimeWarning: divide by zero encountered in divide\n",
            "  np.ones(3)/0\n"
          ]
        },
        {
          "output_type": "execute_result",
          "data": {
            "text/plain": [
              "array([inf, inf, inf])"
            ]
          },
          "metadata": {},
          "execution_count": 80
        }
      ]
    },
    {
      "cell_type": "markdown",
      "metadata": {
        "id": "nNlYFVDWfT0a"
      },
      "source": [
        "Constantes numéricas:\n",
        "- np.pi: 3.14 (constante PI)\n",
        "- np.e: 2.72 (número de euler)"
      ]
    },
    {
      "cell_type": "code",
      "source": [
        "np.pi"
      ],
      "metadata": {
        "colab": {
          "base_uri": "https://localhost:8080/"
        },
        "id": "L_b4LSJ9y9FX",
        "outputId": "1ca97567-b5f8-402d-974a-6dc12d576483"
      },
      "execution_count": 81,
      "outputs": [
        {
          "output_type": "execute_result",
          "data": {
            "text/plain": [
              "3.141592653589793"
            ]
          },
          "metadata": {},
          "execution_count": 81
        }
      ]
    },
    {
      "cell_type": "code",
      "source": [
        "np.e"
      ],
      "metadata": {
        "colab": {
          "base_uri": "https://localhost:8080/"
        },
        "id": "AAl9j4O6y9vS",
        "outputId": "479d8bfa-09db-412b-cdd5-a3b878f5619e"
      },
      "execution_count": 82,
      "outputs": [
        {
          "output_type": "execute_result",
          "data": {
            "text/plain": [
              "2.718281828459045"
            ]
          },
          "metadata": {},
          "execution_count": 82
        }
      ]
    }
  ]
}