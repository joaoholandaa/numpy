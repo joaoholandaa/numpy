{
  "nbformat": 4,
  "nbformat_minor": 0,
  "metadata": {
    "colab": {
      "provenance": [],
      "authorship_tag": "ABX9TyPL4qkRxl7fepOxhtrFyhzk",
      "include_colab_link": true
    },
    "kernelspec": {
      "name": "python3",
      "display_name": "Python 3"
    },
    "language_info": {
      "name": "python"
    }
  },
  "cells": [
    {
      "cell_type": "markdown",
      "metadata": {
        "id": "view-in-github",
        "colab_type": "text"
      },
      "source": [
        "<a href=\"https://colab.research.google.com/github/joaoholandaa/numpy/blob/main/numpy.ipynb\" target=\"_parent\"><img src=\"https://colab.research.google.com/assets/colab-badge.svg\" alt=\"Open In Colab\"/></a>"
      ]
    },
    {
      "cell_type": "markdown",
      "source": [
        "#**Numpy**"
      ],
      "metadata": {
        "id": "E9m2x6pVIqWl"
      }
    },
    {
      "cell_type": "code",
      "execution_count": 1,
      "metadata": {
        "id": "85gjMTAdEuet"
      },
      "outputs": [],
      "source": [
        "import os\n",
        "import numpy as np\n",
        "import pandas as pd\n",
        "\n",
        "from pathlib import Path\n",
        "\n",
        "%config Completer.use_jedi = False"
      ]
    },
    {
      "cell_type": "markdown",
      "source": [
        "##**Criação**<br>\n",
        "Array são objetos que armazenam estruturas sequênciais de dados de tipo e tamanhos determinados que apontam para uma sequência de dados na memória RAM. Em Python, a biblioteca que lida com essas estruturas é o Numpy que não só oferece as funcionalidades clássicas de um array (que pode ser vistas em C, C++, Java...), mas também propriedades vetoriais utilizadas em operações em álgebra linear. <br> <br>\n",
        "Criar um array é uma tarefa simples, que pode ser realizada por meio de uma lista como abaixo."
      ],
      "metadata": {
        "id": "cKLwX1QQJAQ8"
      }
    },
    {
      "cell_type": "code",
      "source": [
        "array = np.array([1, 2, 3, 4, 5])\n",
        "array"
      ],
      "metadata": {
        "colab": {
          "base_uri": "https://localhost:8080/"
        },
        "id": "RtV68iEVJ1qF",
        "outputId": "16fed159-7888-43ee-a457-38a97ee76561"
      },
      "execution_count": 2,
      "outputs": [
        {
          "output_type": "execute_result",
          "data": {
            "text/plain": [
              "array([1, 2, 3, 4, 5])"
            ]
          },
          "metadata": {},
          "execution_count": 2
        }
      ]
    },
    {
      "cell_type": "code",
      "source": [
        "matriz = np.array([[1, 2, 3], [4, 5, 6]])\n",
        "matriz"
      ],
      "metadata": {
        "colab": {
          "base_uri": "https://localhost:8080/"
        },
        "id": "p614JJ8zKBJy",
        "outputId": "b7eea4d1-de1a-4f45-d443-058e2e9779c4"
      },
      "execution_count": 3,
      "outputs": [
        {
          "output_type": "execute_result",
          "data": {
            "text/plain": [
              "array([[1, 2, 3],\n",
              "       [4, 5, 6]])"
            ]
          },
          "metadata": {},
          "execution_count": 3
        }
      ]
    },
    {
      "cell_type": "markdown",
      "source": [
        "Ao fazer isso estaremos alocando os valores selecionados dentro da RAM do computador em endereços sequênciais, igualmente espaçados de acordo com o tipo de dado do array.<br><br>\n",
        "\n",
        "Dado isso, é fácil perceber que um array tem as seguintes características que podem ser acessadas na forma de atributos deste objeto:\n",
        "\n",
        "- dtype: O tipo de dados do array\n",
        "- shape: O tamanho do array em linhas e colunas\n",
        "- size: O tamanho do array em quantidade de elementos\n",
        "- itemsize: O consumo de memória de cada elemento do array (em bytes)\n",
        "- strides: Uma distancia em bytes entre os elementos armazenados na memória"
      ],
      "metadata": {
        "id": "uZrcoQIsKYT_"
      }
    },
    {
      "cell_type": "code",
      "source": [
        "print(\n",
        "    f\"array: dtype={array.dtype} | shape={array.shape} | size={array.size} \"\n",
        "    f\"| itemsize={array.itemsize} | strides={array.strides}\"\n",
        ")\n",
        "\n",
        "print(\n",
        "    f\"matriz: dtype={matriz.dtype} | shape={matriz.shape} | size={matriz.size} \"\n",
        "    f\"| itemsize={matriz.itemsize} | strides={matriz.strides}\"\n",
        ")"
      ],
      "metadata": {
        "colab": {
          "base_uri": "https://localhost:8080/"
        },
        "id": "2YJXV9vQKFxt",
        "outputId": "5ff02d59-ef75-4761-8e74-c3f18bb99b54"
      },
      "execution_count": 4,
      "outputs": [
        {
          "output_type": "stream",
          "name": "stdout",
          "text": [
            "array: dtype=int64 | shape=(5,) | size=5 | itemsize=8 | strides=(8,)\n",
            "matriz: dtype=int64 | shape=(2, 3) | size=6 | itemsize=8 | strides=(24, 8)\n"
          ]
        }
      ]
    },
    {
      "cell_type": "markdown",
      "source": [
        "Dado que inicializações de diferentes tipos de array são bastante comuns, a biblioteza contém uma série de funcionalidades que permitem criar arrays com diferentes tipos de dados. <br><br>\n",
        "**np.zeros** -> Cria um array preenchido com zeros."
      ],
      "metadata": {
        "id": "ZoJ3ljSILjXw"
      }
    },
    {
      "cell_type": "code",
      "source": [
        "np.zeros(shape=(3, 2))"
      ],
      "metadata": {
        "colab": {
          "base_uri": "https://localhost:8080/"
        },
        "id": "7BsRmwqBL7E8",
        "outputId": "cf2108e4-c5d0-43e5-df84-d7a761f44520"
      },
      "execution_count": 5,
      "outputs": [
        {
          "output_type": "execute_result",
          "data": {
            "text/plain": [
              "array([[0., 0.],\n",
              "       [0., 0.],\n",
              "       [0., 0.]])"
            ]
          },
          "metadata": {},
          "execution_count": 5
        }
      ]
    },
    {
      "cell_type": "markdown",
      "source": [
        "**np.ones** -> Cria um array preenchido com \"um's\"."
      ],
      "metadata": {
        "id": "lxCWwko9L-ra"
      }
    },
    {
      "cell_type": "code",
      "source": [
        "np.ones(shape=(3, ))"
      ],
      "metadata": {
        "colab": {
          "base_uri": "https://localhost:8080/"
        },
        "id": "uXj3UoNUMLPU",
        "outputId": "35417bfd-75d1-4a98-f0a9-bec6220686f3"
      },
      "execution_count": 6,
      "outputs": [
        {
          "output_type": "execute_result",
          "data": {
            "text/plain": [
              "array([1., 1., 1.])"
            ]
          },
          "metadata": {},
          "execution_count": 6
        }
      ]
    },
    {
      "cell_type": "markdown",
      "source": [
        "**np.eye** -> Cria a matriz identidade com o tamanho especificado."
      ],
      "metadata": {
        "id": "mLz6wyVsN5Ey"
      }
    },
    {
      "cell_type": "code",
      "source": [
        "np.eye(4)"
      ],
      "metadata": {
        "colab": {
          "base_uri": "https://localhost:8080/"
        },
        "id": "Unw5Sz4eOEKK",
        "outputId": "d7aff7aa-2526-4822-9493-c1b3a90d1c8a"
      },
      "execution_count": 7,
      "outputs": [
        {
          "output_type": "execute_result",
          "data": {
            "text/plain": [
              "array([[1., 0., 0., 0.],\n",
              "       [0., 1., 0., 0.],\n",
              "       [0., 0., 1., 0.],\n",
              "       [0., 0., 0., 1.]])"
            ]
          },
          "metadata": {},
          "execution_count": 7
        }
      ]
    },
    {
      "cell_type": "markdown",
      "source": [
        "**np.arange** -> Mesma coisa que a função range, só que para arrays."
      ],
      "metadata": {
        "id": "MJfcsUzYw1ZL"
      }
    },
    {
      "cell_type": "code",
      "source": [
        "np.arange(1, 10, 2)"
      ],
      "metadata": {
        "colab": {
          "base_uri": "https://localhost:8080/"
        },
        "id": "qVVOpoTtxDvH",
        "outputId": "6c1ccf3b-662b-451b-f147-6bc0f0e68340"
      },
      "execution_count": 8,
      "outputs": [
        {
          "output_type": "execute_result",
          "data": {
            "text/plain": [
              "array([1, 3, 5, 7, 9])"
            ]
          },
          "metadata": {},
          "execution_count": 8
        }
      ]
    },
    {
      "cell_type": "markdown",
      "source": [
        "**np.linspace** -> Cria um array entre dois números espaçados linearmente."
      ],
      "metadata": {
        "id": "5hOH5mWqxNOx"
      }
    },
    {
      "cell_type": "code",
      "source": [
        "np.linspace(5, 10, num=5)"
      ],
      "metadata": {
        "colab": {
          "base_uri": "https://localhost:8080/"
        },
        "id": "tKxZZJGhxTFH",
        "outputId": "c5d433d2-323f-4f00-cbc4-922dec88b316"
      },
      "execution_count": 9,
      "outputs": [
        {
          "output_type": "execute_result",
          "data": {
            "text/plain": [
              "array([ 5.  ,  6.25,  7.5 ,  8.75, 10.  ])"
            ]
          },
          "metadata": {},
          "execution_count": 9
        }
      ]
    },
    {
      "cell_type": "markdown",
      "source": [
        "**np.logspace** -> Cria um array entre dois números espaçados logaritmicamente."
      ],
      "metadata": {
        "id": "NnHF5EAWxn8g"
      }
    },
    {
      "cell_type": "code",
      "source": [
        "np.logspace(0, 1, 3)"
      ],
      "metadata": {
        "colab": {
          "base_uri": "https://localhost:8080/"
        },
        "id": "Ta5XPkoXxWdZ",
        "outputId": "efc75da7-89c8-4179-85f4-6585269844d2"
      },
      "execution_count": 10,
      "outputs": [
        {
          "output_type": "execute_result",
          "data": {
            "text/plain": [
              "array([ 1.        ,  3.16227766, 10.        ])"
            ]
          },
          "metadata": {},
          "execution_count": 10
        }
      ]
    },
    {
      "cell_type": "markdown",
      "source": [
        "**np.random.int** -> Cria um array de valores aleatórios entre um valor menor e maior (exclusivo)."
      ],
      "metadata": {
        "id": "rFYI_qxpyLhH"
      }
    },
    {
      "cell_type": "code",
      "source": [
        "np.random.randint(0, 10, size=(5,5))"
      ],
      "metadata": {
        "colab": {
          "base_uri": "https://localhost:8080/"
        },
        "id": "iAvleq7Zxy3W",
        "outputId": "4787aa28-63c0-4d7c-c88a-d7fe91bc0003"
      },
      "execution_count": 11,
      "outputs": [
        {
          "output_type": "execute_result",
          "data": {
            "text/plain": [
              "array([[2, 0, 6, 4, 6],\n",
              "       [9, 7, 9, 4, 5],\n",
              "       [7, 3, 9, 3, 1],\n",
              "       [6, 1, 9, 9, 3],\n",
              "       [0, 6, 2, 2, 9]])"
            ]
          },
          "metadata": {},
          "execution_count": 11
        }
      ]
    },
    {
      "cell_type": "markdown",
      "source": [
        "**np.random.normal** -> Cria um array aleatório com valores baseados em uma distribuição normal."
      ],
      "metadata": {
        "id": "o4juXygwzqwv"
      }
    },
    {
      "cell_type": "code",
      "source": [
        "np.random.normal(1, 2, 10)"
      ],
      "metadata": {
        "colab": {
          "base_uri": "https://localhost:8080/"
        },
        "id": "u3cmxJfXygPn",
        "outputId": "61ebdcd4-fa3f-4abc-d894-642dce55b9e1"
      },
      "execution_count": 12,
      "outputs": [
        {
          "output_type": "execute_result",
          "data": {
            "text/plain": [
              "array([ 2.78330553,  1.65785123,  2.32848251, -0.62132574,  2.6138556 ,\n",
              "        4.24364608, -0.75914664,  1.83944802,  1.94965863,  0.68709567])"
            ]
          },
          "metadata": {},
          "execution_count": 12
        }
      ]
    },
    {
      "cell_type": "markdown",
      "source": [
        "É interessante notar que algumas dessas funções não permitem passar o tamanho do array (como o np.arange), por muitas vezes é comum combiná-las com o método reshape."
      ],
      "metadata": {
        "id": "XB9e4bxs0OuY"
      }
    },
    {
      "cell_type": "code",
      "source": [
        "a = np.arange(12)\n",
        "a = a.reshape(3, 4)\n",
        "a"
      ],
      "metadata": {
        "colab": {
          "base_uri": "https://localhost:8080/"
        },
        "id": "g0bmK31U0KOb",
        "outputId": "693c5d1b-ba04-487c-9cb6-efcc3a50a921"
      },
      "execution_count": 13,
      "outputs": [
        {
          "output_type": "execute_result",
          "data": {
            "text/plain": [
              "array([[ 0,  1,  2,  3],\n",
              "       [ 4,  5,  6,  7],\n",
              "       [ 8,  9, 10, 11]])"
            ]
          },
          "metadata": {},
          "execution_count": 13
        }
      ]
    },
    {
      "cell_type": "markdown",
      "source": [
        "##**Tipagem**<br>\n",
        "Uma das diferenças mais gritantes entre arrays e listas é sua tipagem. Enquanto listas podem conter múltiplos tipos de dados (inteiros, strings, floats, etc) arrays tendem a tipagem fixa e tal tipagem pode ser modificda utilizando o método astype."
      ],
      "metadata": {
        "id": "gdVy8Xy_M0ka"
      }
    },
    {
      "cell_type": "code",
      "source": [
        "arr = np.array([1, 2, 3])\n",
        "print(arr.dtype, arr)"
      ],
      "metadata": {
        "colab": {
          "base_uri": "https://localhost:8080/"
        },
        "id": "8WP9RbI5OByy",
        "outputId": "385fadc6-67c0-4763-912e-0ed85514bca4"
      },
      "execution_count": 14,
      "outputs": [
        {
          "output_type": "stream",
          "name": "stdout",
          "text": [
            "int64 [1 2 3]\n"
          ]
        }
      ]
    },
    {
      "cell_type": "code",
      "source": [
        "arr = np.array([1, 2, 3])\n",
        "arr = arr.astype(\"float\")\n",
        "print(arr.dtype, arr)"
      ],
      "metadata": {
        "colab": {
          "base_uri": "https://localhost:8080/"
        },
        "id": "T7ktAP9JOG7g",
        "outputId": "696b3cd4-a871-422b-84d3-46c5c87cc164"
      },
      "execution_count": 15,
      "outputs": [
        {
          "output_type": "stream",
          "name": "stdout",
          "text": [
            "float64 [1. 2. 3.]\n"
          ]
        }
      ]
    },
    {
      "cell_type": "code",
      "source": [
        "arr = np.array([1, 2, 3], dtype=np.uint8)\n",
        "print(arr.dtype, arr)"
      ],
      "metadata": {
        "colab": {
          "base_uri": "https://localhost:8080/"
        },
        "id": "M3wyTct3ORuO",
        "outputId": "3cf326bf-8be6-4001-ec7a-bd918631e7b8"
      },
      "execution_count": 16,
      "outputs": [
        {
          "output_type": "stream",
          "name": "stdout",
          "text": [
            "uint8 [1 2 3]\n"
          ]
        }
      ]
    },
    {
      "cell_type": "code",
      "source": [
        "arr = np.array([\"olá\", 2.1, [2, 3, 4]], dtype=\"object\")\n",
        "arr.shape"
      ],
      "metadata": {
        "colab": {
          "base_uri": "https://localhost:8080/"
        },
        "id": "5G81uTNsOdeP",
        "outputId": "ca5f0aeb-8943-43c4-e85f-260501b77998"
      },
      "execution_count": 17,
      "outputs": [
        {
          "output_type": "execute_result",
          "data": {
            "text/plain": [
              "(3,)"
            ]
          },
          "metadata": {},
          "execution_count": 17
        }
      ]
    }
  ]
}