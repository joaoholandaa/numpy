{
  "nbformat": 4,
  "nbformat_minor": 0,
  "metadata": {
    "colab": {
      "provenance": [],
      "authorship_tag": "ABX9TyO+9sG7F4KPvZZr7LEoHW+x",
      "include_colab_link": true
    },
    "kernelspec": {
      "name": "python3",
      "display_name": "Python 3"
    },
    "language_info": {
      "name": "python"
    }
  },
  "cells": [
    {
      "cell_type": "markdown",
      "metadata": {
        "id": "view-in-github",
        "colab_type": "text"
      },
      "source": [
        "<a href=\"https://colab.research.google.com/github/joaoholandaa/numpy/blob/main/numpy.ipynb\" target=\"_parent\"><img src=\"https://colab.research.google.com/assets/colab-badge.svg\" alt=\"Open In Colab\"/></a>"
      ]
    },
    {
      "cell_type": "markdown",
      "source": [
        "#**Numpy**"
      ],
      "metadata": {
        "id": "E9m2x6pVIqWl"
      }
    },
    {
      "cell_type": "code",
      "execution_count": 1,
      "metadata": {
        "id": "85gjMTAdEuet"
      },
      "outputs": [],
      "source": [
        "import os\n",
        "import numpy as np\n",
        "import pandas as pd\n",
        "\n",
        "from pathlib import Path\n",
        "\n",
        "%config Completer.use_jedi = False"
      ]
    },
    {
      "cell_type": "markdown",
      "source": [
        "##**Criação**<br>\n",
        "Array são objetos que armazenam estruturas sequênciais de dados de tipo e tamanhos determinados que apontam para uma sequência de dados na memória RAM. Em Python, a biblioteca que lida com essas estruturas é o Numpy que não só oferece as funcionalidades clássicas de um array (que pode ser vistas em C, C++, Java...), mas também propriedades vetoriais utilizadas em operações em álgebra linear. <br> <br>\n",
        "Criar um array é uma tarefa simples, que pode ser realizada por meio de uma lista como abaixo."
      ],
      "metadata": {
        "id": "cKLwX1QQJAQ8"
      }
    },
    {
      "cell_type": "code",
      "source": [
        "array = np.array([1, 2, 3, 4, 5])\n",
        "array"
      ],
      "metadata": {
        "colab": {
          "base_uri": "https://localhost:8080/"
        },
        "id": "RtV68iEVJ1qF",
        "outputId": "0365ee2a-d662-4755-cd78-53abf9bd15a8"
      },
      "execution_count": 2,
      "outputs": [
        {
          "output_type": "execute_result",
          "data": {
            "text/plain": [
              "array([1, 2, 3, 4, 5])"
            ]
          },
          "metadata": {},
          "execution_count": 2
        }
      ]
    },
    {
      "cell_type": "code",
      "source": [
        "matriz = np.array([[1, 2, 3], [4, 5, 6]])\n",
        "matriz"
      ],
      "metadata": {
        "colab": {
          "base_uri": "https://localhost:8080/"
        },
        "id": "p614JJ8zKBJy",
        "outputId": "a39a9ef6-f634-4b60-bafe-4b96e7f340ea"
      },
      "execution_count": 3,
      "outputs": [
        {
          "output_type": "execute_result",
          "data": {
            "text/plain": [
              "array([[1, 2, 3],\n",
              "       [4, 5, 6]])"
            ]
          },
          "metadata": {},
          "execution_count": 3
        }
      ]
    },
    {
      "cell_type": "markdown",
      "source": [
        "Ao fazer isso estaremos alocando os valores selecionados dentro da RAM do computador em endereços sequênciais, igualmente espaçados de acordo com o tipo de dado do array.<br><br>\n",
        "\n",
        "Dado isso, é fácil perceber que um array tem as seguintes características que podem ser acessadas na forma de atributos deste objeto:\n",
        "\n",
        "- dtype: O tipo de dados do array\n",
        "- shape: O tamanho do array em linhas e colunas\n",
        "- size: O tamanho do array em quantidade de elementos\n",
        "- itemsize: O consumo de memória de cada elemento do array (em bytes)\n",
        "- strides: Uma distancia em bytes entre os elementos armazenados na memória"
      ],
      "metadata": {
        "id": "uZrcoQIsKYT_"
      }
    },
    {
      "cell_type": "code",
      "source": [
        "print(\n",
        "    f\"array: dtype={array.dtype} | shape={array.shape} | size={array.size} \"\n",
        "    f\"| itemsize={array.itemsize} | strides={array.strides}\"\n",
        ")\n",
        "\n",
        "print(\n",
        "    f\"matriz: dtype={matriz.dtype} | shape={matriz.shape} | size={matriz.size} \"\n",
        "    f\"| itemsize={matriz.itemsize} | strides={matriz.strides}\"\n",
        ")"
      ],
      "metadata": {
        "colab": {
          "base_uri": "https://localhost:8080/"
        },
        "id": "2YJXV9vQKFxt",
        "outputId": "ccc8646c-35bf-4aaf-8ad5-6511ae0d081c"
      },
      "execution_count": 4,
      "outputs": [
        {
          "output_type": "stream",
          "name": "stdout",
          "text": [
            "array: dtype=int64 | shape=(5,) | size=5 | itemsize=8 | strides=(8,)\n",
            "matriz: dtype=int64 | shape=(2, 3) | size=6 | itemsize=8 | strides=(24, 8)\n"
          ]
        }
      ]
    },
    {
      "cell_type": "markdown",
      "source": [
        "Dado que inicializações de diferentes tipos de array são bastante comuns, a biblioteza contém uma série de funcionalidades que permitem criar arrays com diferentes tipos de dados. <br><br>\n",
        "**np.zeros** -> Cria um array preenchido com zeros."
      ],
      "metadata": {
        "id": "ZoJ3ljSILjXw"
      }
    },
    {
      "cell_type": "code",
      "source": [
        "np.zeros(shape=(3, 2))"
      ],
      "metadata": {
        "colab": {
          "base_uri": "https://localhost:8080/"
        },
        "id": "7BsRmwqBL7E8",
        "outputId": "e3f5bbc9-2233-4dae-b97c-032f70c5f172"
      },
      "execution_count": 5,
      "outputs": [
        {
          "output_type": "execute_result",
          "data": {
            "text/plain": [
              "array([[0., 0.],\n",
              "       [0., 0.],\n",
              "       [0., 0.]])"
            ]
          },
          "metadata": {},
          "execution_count": 5
        }
      ]
    },
    {
      "cell_type": "markdown",
      "source": [
        "**np.ones** -> Cria um array preenchido com \"um's\"."
      ],
      "metadata": {
        "id": "lxCWwko9L-ra"
      }
    },
    {
      "cell_type": "code",
      "source": [
        "np.ones(shape=(3, ))"
      ],
      "metadata": {
        "colab": {
          "base_uri": "https://localhost:8080/"
        },
        "id": "uXj3UoNUMLPU",
        "outputId": "617b8f11-0382-46a4-80f4-f601693fffb9"
      },
      "execution_count": 6,
      "outputs": [
        {
          "output_type": "execute_result",
          "data": {
            "text/plain": [
              "array([1., 1., 1.])"
            ]
          },
          "metadata": {},
          "execution_count": 6
        }
      ]
    },
    {
      "cell_type": "markdown",
      "source": [
        "**np.eye** -> Cria a matriz identidade com o tamanho especificado."
      ],
      "metadata": {
        "id": "mLz6wyVsN5Ey"
      }
    },
    {
      "cell_type": "code",
      "source": [
        "np.eye(4)"
      ],
      "metadata": {
        "colab": {
          "base_uri": "https://localhost:8080/"
        },
        "id": "Unw5Sz4eOEKK",
        "outputId": "fc28447b-0781-4302-9ae8-b84d2a9b090f"
      },
      "execution_count": 7,
      "outputs": [
        {
          "output_type": "execute_result",
          "data": {
            "text/plain": [
              "array([[1., 0., 0., 0.],\n",
              "       [0., 1., 0., 0.],\n",
              "       [0., 0., 1., 0.],\n",
              "       [0., 0., 0., 1.]])"
            ]
          },
          "metadata": {},
          "execution_count": 7
        }
      ]
    },
    {
      "cell_type": "markdown",
      "source": [
        "**np.arange** -> Mesma coisa que a função range, só que para arrays."
      ],
      "metadata": {
        "id": "MJfcsUzYw1ZL"
      }
    },
    {
      "cell_type": "code",
      "source": [
        "np.arange(1, 10, 2)"
      ],
      "metadata": {
        "colab": {
          "base_uri": "https://localhost:8080/"
        },
        "id": "qVVOpoTtxDvH",
        "outputId": "11ee976b-fb59-4bc3-fa31-03e11bef6d97"
      },
      "execution_count": 8,
      "outputs": [
        {
          "output_type": "execute_result",
          "data": {
            "text/plain": [
              "array([1, 3, 5, 7, 9])"
            ]
          },
          "metadata": {},
          "execution_count": 8
        }
      ]
    },
    {
      "cell_type": "markdown",
      "source": [
        "**np.linspace** -> Cria um array entre dois números espaçados linearmente."
      ],
      "metadata": {
        "id": "5hOH5mWqxNOx"
      }
    },
    {
      "cell_type": "code",
      "source": [
        "np.linspace(5, 10, num=5)"
      ],
      "metadata": {
        "colab": {
          "base_uri": "https://localhost:8080/"
        },
        "id": "tKxZZJGhxTFH",
        "outputId": "dbf0cc21-e641-490e-fdad-dd1c1ff87e34"
      },
      "execution_count": 9,
      "outputs": [
        {
          "output_type": "execute_result",
          "data": {
            "text/plain": [
              "array([ 5.  ,  6.25,  7.5 ,  8.75, 10.  ])"
            ]
          },
          "metadata": {},
          "execution_count": 9
        }
      ]
    },
    {
      "cell_type": "markdown",
      "source": [
        "**np.logspace** -> Cria um array entre dois números espaçados logaritmicamente."
      ],
      "metadata": {
        "id": "NnHF5EAWxn8g"
      }
    },
    {
      "cell_type": "code",
      "source": [
        "np.logspace(0, 1, 3)"
      ],
      "metadata": {
        "colab": {
          "base_uri": "https://localhost:8080/"
        },
        "id": "Ta5XPkoXxWdZ",
        "outputId": "ca5793c9-bcd7-44ca-f4ab-0b5cfd2ca845"
      },
      "execution_count": 10,
      "outputs": [
        {
          "output_type": "execute_result",
          "data": {
            "text/plain": [
              "array([ 1.        ,  3.16227766, 10.        ])"
            ]
          },
          "metadata": {},
          "execution_count": 10
        }
      ]
    },
    {
      "cell_type": "markdown",
      "source": [
        "**np.random.int** -> Cria um array de valores aleatórios entre um valor menor e maior (exclusivo)."
      ],
      "metadata": {
        "id": "rFYI_qxpyLhH"
      }
    },
    {
      "cell_type": "code",
      "source": [
        "np.random.randint(0, 10, size=(5,5))"
      ],
      "metadata": {
        "colab": {
          "base_uri": "https://localhost:8080/"
        },
        "id": "iAvleq7Zxy3W",
        "outputId": "461a492c-fb91-467b-eca9-a0d18ffd9295"
      },
      "execution_count": 11,
      "outputs": [
        {
          "output_type": "execute_result",
          "data": {
            "text/plain": [
              "array([[5, 1, 4, 7, 4],\n",
              "       [1, 2, 9, 9, 2],\n",
              "       [2, 8, 0, 5, 9],\n",
              "       [6, 0, 1, 8, 9],\n",
              "       [3, 2, 1, 8, 7]])"
            ]
          },
          "metadata": {},
          "execution_count": 11
        }
      ]
    },
    {
      "cell_type": "markdown",
      "source": [
        "**np.random.normal** -> Cria um array aleatório com valores baseados em uma distribuição normal."
      ],
      "metadata": {
        "id": "o4juXygwzqwv"
      }
    },
    {
      "cell_type": "code",
      "source": [
        "np.random.normal(1, 2, 10)"
      ],
      "metadata": {
        "colab": {
          "base_uri": "https://localhost:8080/"
        },
        "id": "u3cmxJfXygPn",
        "outputId": "0837fe53-ee0a-41a2-f0a9-1f43e071d8ce"
      },
      "execution_count": 12,
      "outputs": [
        {
          "output_type": "execute_result",
          "data": {
            "text/plain": [
              "array([ 1.35569512,  0.08102956, -0.92717276, -0.69959635,  0.70582136,\n",
              "        2.1493306 ,  2.6322909 , -0.05923155,  4.70139939,  3.02622145])"
            ]
          },
          "metadata": {},
          "execution_count": 12
        }
      ]
    },
    {
      "cell_type": "markdown",
      "source": [
        "É interessante notar que algumas dessas funções não permitem passar o tamanho do array (como o np.arange), por muitas vezes é comum combiná-las com o método reshape."
      ],
      "metadata": {
        "id": "XB9e4bxs0OuY"
      }
    },
    {
      "cell_type": "code",
      "source": [
        "a = np.arange(12)\n",
        "a = a.reshape(3, 4)\n",
        "a"
      ],
      "metadata": {
        "colab": {
          "base_uri": "https://localhost:8080/"
        },
        "id": "g0bmK31U0KOb",
        "outputId": "ca5e7bb6-5888-4867-fb9d-5c08b66a9dd2"
      },
      "execution_count": 13,
      "outputs": [
        {
          "output_type": "execute_result",
          "data": {
            "text/plain": [
              "array([[ 0,  1,  2,  3],\n",
              "       [ 4,  5,  6,  7],\n",
              "       [ 8,  9, 10, 11]])"
            ]
          },
          "metadata": {},
          "execution_count": 13
        }
      ]
    },
    {
      "cell_type": "markdown",
      "source": [
        "##**Tipagem**<br>\n",
        "Uma das diferenças mais gritantes entre arrays e listas é sua tipagem. Enquanto listas podem conter múltiplos tipos de dados (inteiros, strings, floats, etc) arrays tendem a tipagem fixa e tal tipagem pode ser modificda utilizando o método astype."
      ],
      "metadata": {
        "id": "gdVy8Xy_M0ka"
      }
    },
    {
      "cell_type": "code",
      "source": [
        "arr = np.array([1, 2, 3])\n",
        "print(arr.dtype, arr)"
      ],
      "metadata": {
        "colab": {
          "base_uri": "https://localhost:8080/"
        },
        "id": "8WP9RbI5OByy",
        "outputId": "c57ed80b-f65c-4dbb-a4ea-6e09fe97678f"
      },
      "execution_count": 14,
      "outputs": [
        {
          "output_type": "stream",
          "name": "stdout",
          "text": [
            "int64 [1 2 3]\n"
          ]
        }
      ]
    },
    {
      "cell_type": "markdown",
      "source": [
        "##**Indexação**<br>\n",
        "Tal como listas os arrays são objetos indexáveis de maneira similar, de forma que a sintaxe de chaves e os slices funcionam normalmente.\n"
      ],
      "metadata": {
        "id": "Tr2pvLT6PFft"
      }
    },
    {
      "cell_type": "code",
      "source": [
        "array = np.arange(1, 10)\n",
        "matriz = np.random.normal(1, 2, (3, 3))\n",
        "\n",
        "print(array)\n",
        "print(matriz)"
      ],
      "metadata": {
        "colab": {
          "base_uri": "https://localhost:8080/"
        },
        "id": "CBrWLdnfPWIC",
        "outputId": "175687b6-4a00-4a75-aa52-0603a53cb6a0"
      },
      "execution_count": 15,
      "outputs": [
        {
          "output_type": "stream",
          "name": "stdout",
          "text": [
            "[1 2 3 4 5 6 7 8 9]\n",
            "[[ 3.89204503  1.34963431 -2.27612955]\n",
            " [ 0.5129508  -1.34506625  1.00876716]\n",
            " [ 0.8427577   1.25245355 -0.47462462]]\n"
          ]
        }
      ]
    },
    {
      "cell_type": "code",
      "source": [
        "array[0]"
      ],
      "metadata": {
        "colab": {
          "base_uri": "https://localhost:8080/"
        },
        "id": "2fB-fTxYPIWg",
        "outputId": "17757269-f950-4ba8-be6a-3817d43c4317"
      },
      "execution_count": 16,
      "outputs": [
        {
          "output_type": "execute_result",
          "data": {
            "text/plain": [
              "1"
            ]
          },
          "metadata": {},
          "execution_count": 16
        }
      ]
    },
    {
      "cell_type": "code",
      "source": [
        "matriz[2][-1]"
      ],
      "metadata": {
        "colab": {
          "base_uri": "https://localhost:8080/"
        },
        "id": "EEHrMKn4PsYr",
        "outputId": "3433a6d9-a926-48dd-cee2-bbec2e8b92a3"
      },
      "execution_count": 17,
      "outputs": [
        {
          "output_type": "execute_result",
          "data": {
            "text/plain": [
              "-0.47462462024147944"
            ]
          },
          "metadata": {},
          "execution_count": 17
        }
      ]
    },
    {
      "cell_type": "code",
      "source": [
        "matriz[1]"
      ],
      "metadata": {
        "colab": {
          "base_uri": "https://localhost:8080/"
        },
        "id": "Rau1mTLZPtuu",
        "outputId": "faab276c-7d35-4d11-f5a5-1b1079ca2de2"
      },
      "execution_count": 18,
      "outputs": [
        {
          "output_type": "execute_result",
          "data": {
            "text/plain": [
              "array([ 0.5129508 , -1.34506625,  1.00876716])"
            ]
          },
          "metadata": {},
          "execution_count": 18
        }
      ]
    },
    {
      "cell_type": "code",
      "source": [
        "array[::2]"
      ],
      "metadata": {
        "colab": {
          "base_uri": "https://localhost:8080/"
        },
        "id": "dzDmWqjnP56-",
        "outputId": "dfca2cdf-c0cb-427a-ec4f-bc68964f04d4"
      },
      "execution_count": 19,
      "outputs": [
        {
          "output_type": "execute_result",
          "data": {
            "text/plain": [
              "array([1, 3, 5, 7, 9])"
            ]
          },
          "metadata": {},
          "execution_count": 19
        }
      ]
    },
    {
      "cell_type": "markdown",
      "source": [
        "Entretanto o Numpy oferece uma maneira adicional de indexar elementos selecionando múltiplos índices por meio de uma lista."
      ],
      "metadata": {
        "id": "EBTqEY4AQPow"
      }
    },
    {
      "cell_type": "code",
      "source": [
        "array[1:3]"
      ],
      "metadata": {
        "colab": {
          "base_uri": "https://localhost:8080/"
        },
        "id": "tAAqv6PtQgbK",
        "outputId": "4597c1b8-dfa4-4cbc-83a9-d32b5b1e404d"
      },
      "execution_count": 20,
      "outputs": [
        {
          "output_type": "execute_result",
          "data": {
            "text/plain": [
              "array([2, 3])"
            ]
          },
          "metadata": {},
          "execution_count": 20
        }
      ]
    },
    {
      "cell_type": "code",
      "source": [
        "array[[1, 2]]"
      ],
      "metadata": {
        "colab": {
          "base_uri": "https://localhost:8080/"
        },
        "id": "9c3Wbx79QiJu",
        "outputId": "cc2a4256-44b9-42f4-bab5-c434ae90969f"
      },
      "execution_count": 21,
      "outputs": [
        {
          "output_type": "execute_result",
          "data": {
            "text/plain": [
              "array([2, 3])"
            ]
          },
          "metadata": {},
          "execution_count": 21
        }
      ]
    },
    {
      "cell_type": "markdown",
      "source": [
        "Por fim, Numpy oferece a flexibilidade, especialmente com matrizes, de selecionar os elementos de linhas e colunas em conjunto por meio da sintaxe de \",\" na qual fornecemos dois slices, o primeiro selecionando linhas e o segundo selecionando colunas."
      ],
      "metadata": {
        "id": "ijUqPJYXRAS1"
      }
    },
    {
      "cell_type": "code",
      "source": [
        "matriz[:, 1]"
      ],
      "metadata": {
        "colab": {
          "base_uri": "https://localhost:8080/"
        },
        "id": "0qdwr9t2RlwZ",
        "outputId": "e7d737bc-a927-4e4d-aec0-a14d1a571292"
      },
      "execution_count": 22,
      "outputs": [
        {
          "output_type": "execute_result",
          "data": {
            "text/plain": [
              "array([ 1.34963431, -1.34506625,  1.25245355])"
            ]
          },
          "metadata": {},
          "execution_count": 22
        }
      ]
    },
    {
      "cell_type": "code",
      "source": [
        "matriz[1, 2]"
      ],
      "metadata": {
        "colab": {
          "base_uri": "https://localhost:8080/"
        },
        "id": "53wmMQQERolP",
        "outputId": "9fa63c68-7bfa-4e85-e3b9-d59b3dc6c87f"
      },
      "execution_count": 23,
      "outputs": [
        {
          "output_type": "execute_result",
          "data": {
            "text/plain": [
              "1.0087671635480426"
            ]
          },
          "metadata": {},
          "execution_count": 23
        }
      ]
    },
    {
      "cell_type": "code",
      "source": [
        "matriz[:, [1, 2]]"
      ],
      "metadata": {
        "colab": {
          "base_uri": "https://localhost:8080/"
        },
        "id": "0GJe1AIhRqTd",
        "outputId": "12340777-f8bf-4d85-f669-0e7d8707821f"
      },
      "execution_count": 24,
      "outputs": [
        {
          "output_type": "execute_result",
          "data": {
            "text/plain": [
              "array([[ 1.34963431, -2.27612955],\n",
              "       [-1.34506625,  1.00876716],\n",
              "       [ 1.25245355, -0.47462462]])"
            ]
          },
          "metadata": {},
          "execution_count": 24
        }
      ]
    },
    {
      "cell_type": "code",
      "source": [
        "arr = np.array([1, 2, 3])\n",
        "arr = arr.astype(\"float\")\n",
        "print(arr.dtype, arr)"
      ],
      "metadata": {
        "colab": {
          "base_uri": "https://localhost:8080/"
        },
        "id": "T7ktAP9JOG7g",
        "outputId": "98d73b50-d2b3-42ed-a94a-71b374bfe3c8"
      },
      "execution_count": 25,
      "outputs": [
        {
          "output_type": "stream",
          "name": "stdout",
          "text": [
            "float64 [1. 2. 3.]\n"
          ]
        }
      ]
    },
    {
      "cell_type": "code",
      "source": [
        "arr = np.array([1, 2, 3], dtype=np.uint8)\n",
        "print(arr.dtype, arr)"
      ],
      "metadata": {
        "colab": {
          "base_uri": "https://localhost:8080/"
        },
        "id": "M3wyTct3ORuO",
        "outputId": "a3c6b2a3-7033-4420-c316-1b53726641a7"
      },
      "execution_count": 26,
      "outputs": [
        {
          "output_type": "stream",
          "name": "stdout",
          "text": [
            "uint8 [1 2 3]\n"
          ]
        }
      ]
    },
    {
      "cell_type": "code",
      "source": [
        "arr = np.array([\"olá\", 2.1, [2, 3, 4]], dtype=\"object\")\n",
        "arr.shape"
      ],
      "metadata": {
        "colab": {
          "base_uri": "https://localhost:8080/"
        },
        "id": "5G81uTNsOdeP",
        "outputId": "f81d5d1e-4f02-4032-b177-17e257a3f87a"
      },
      "execution_count": 27,
      "outputs": [
        {
          "output_type": "execute_result",
          "data": {
            "text/plain": [
              "(3,)"
            ]
          },
          "metadata": {},
          "execution_count": 27
        }
      ]
    },
    {
      "cell_type": "markdown",
      "source": [
        "##**Mutabilidade**<br>\n",
        "Diferente de listas arrays são objetos imutáveis em tamanho e tipo (como visto acima, para mudar o tipo de array é criado um novo).\n"
      ],
      "metadata": {
        "id": "N46SBEt9SfCR"
      }
    },
    {
      "cell_type": "code",
      "source": [
        "arr = np.array([1, 2, 3])\n",
        "'''\n",
        "arr.append(4)\n",
        "Gera um erro!\n",
        "'''"
      ],
      "metadata": {
        "colab": {
          "base_uri": "https://localhost:8080/",
          "height": 35
        },
        "id": "kKsb7Sl5ShQU",
        "outputId": "ee19adb6-ff5e-4724-b6cb-34247ac9df99"
      },
      "execution_count": 28,
      "outputs": [
        {
          "output_type": "execute_result",
          "data": {
            "text/plain": [
              "'\\narr.append(4)\\nGera um erro!\\n'"
            ],
            "application/vnd.google.colaboratory.intrinsic+json": {
              "type": "string"
            }
          },
          "metadata": {},
          "execution_count": 28
        }
      ]
    },
    {
      "cell_type": "markdown",
      "source": [
        "Entretanto, diferente de tuplas, arrays são mútaveis em conteúdo."
      ],
      "metadata": {
        "id": "f8HsGXlZTUdv"
      }
    },
    {
      "cell_type": "code",
      "source": [
        "arr[2] = 5\n",
        "arr"
      ],
      "metadata": {
        "colab": {
          "base_uri": "https://localhost:8080/"
        },
        "id": "dnDeLqnhTAkR",
        "outputId": "43bf80bf-8b12-4160-d1dd-fd8fe88e5023"
      },
      "execution_count": 29,
      "outputs": [
        {
          "output_type": "execute_result",
          "data": {
            "text/plain": [
              "array([1, 2, 5])"
            ]
          },
          "metadata": {},
          "execution_count": 29
        }
      ]
    },
    {
      "cell_type": "markdown",
      "source": [
        "Ao tentar mudar o valor de um elemento o Numpy o converterá para a tipagem adequada quando possível."
      ],
      "metadata": {
        "id": "5wN_ATcMTXHv"
      }
    },
    {
      "cell_type": "code",
      "source": [
        "arr[1] = 1.7334\n",
        "arr"
      ],
      "metadata": {
        "colab": {
          "base_uri": "https://localhost:8080/"
        },
        "id": "fXttsi4HS2GN",
        "outputId": "c2e118c7-7e5d-4b26-ec43-97d47e593db8"
      },
      "execution_count": 30,
      "outputs": [
        {
          "output_type": "execute_result",
          "data": {
            "text/plain": [
              "array([1, 1, 5])"
            ]
          },
          "metadata": {},
          "execution_count": 30
        }
      ]
    },
    {
      "cell_type": "code",
      "source": [
        "arr[1] = \"3\"\n",
        "arr"
      ],
      "metadata": {
        "colab": {
          "base_uri": "https://localhost:8080/"
        },
        "id": "fYKgVe52ToWx",
        "outputId": "727490c2-9d45-4bf2-bbc5-317b5cf2475e"
      },
      "execution_count": 31,
      "outputs": [
        {
          "output_type": "execute_result",
          "data": {
            "text/plain": [
              "array([1, 3, 5])"
            ]
          },
          "metadata": {},
          "execution_count": 31
        }
      ]
    },
    {
      "cell_type": "code",
      "source": [
        "'''\n",
        "arr[1] = \"3.2\"\n",
        "arr\n",
        "Gera um erro!\n",
        "'''"
      ],
      "metadata": {
        "colab": {
          "base_uri": "https://localhost:8080/",
          "height": 35
        },
        "id": "SlIjTW5FTsNu",
        "outputId": "15f7473a-33ff-4a67-ea27-7ca7fd487564"
      },
      "execution_count": 32,
      "outputs": [
        {
          "output_type": "execute_result",
          "data": {
            "text/plain": [
              "'\\narr[1] = \"3.2\"\\narr\\nGera um erro!\\n'"
            ],
            "application/vnd.google.colaboratory.intrinsic+json": {
              "type": "string"
            }
          },
          "metadata": {},
          "execution_count": 32
        }
      ]
    },
    {
      "cell_type": "markdown",
      "source": [
        "É interessante notar como funciona a alocação de memória para transformações particulares do array que podem afetar sua mutabilidade. Por exemplo, suponhamos que temos os arrays a, b e c todos criados a partir de transformações do vetor a."
      ],
      "metadata": {
        "id": "IXUzA3svT9w8"
      }
    },
    {
      "cell_type": "code",
      "source": [
        "a = np.arange(12, dtype=\"int64\")\n",
        "b = a.reshape(3, 4)\n",
        "c = a[::2]\n",
        "print(a)\n",
        "print(b)\n",
        "print(c)"
      ],
      "metadata": {
        "colab": {
          "base_uri": "https://localhost:8080/"
        },
        "id": "W03G68XXTvA-",
        "outputId": "144dcac5-c879-44c4-f0e6-a1e82469d3cd"
      },
      "execution_count": 33,
      "outputs": [
        {
          "output_type": "stream",
          "name": "stdout",
          "text": [
            "[ 0  1  2  3  4  5  6  7  8  9 10 11]\n",
            "[[ 0  1  2  3]\n",
            " [ 4  5  6  7]\n",
            " [ 8  9 10 11]]\n",
            "[ 0  2  4  6  8 10]\n"
          ]
        }
      ]
    },
    {
      "cell_type": "markdown",
      "source": [
        "O que acontece, neste caso, se eu alterar o vetor a?"
      ],
      "metadata": {
        "id": "f_-i_gITUlYw"
      }
    },
    {
      "cell_type": "code",
      "source": [
        "a[0] = -1\n",
        "print(a)\n",
        "print(b)\n",
        "print(c)"
      ],
      "metadata": {
        "colab": {
          "base_uri": "https://localhost:8080/"
        },
        "id": "QGXDma8MUeO-",
        "outputId": "a835bda0-fcbb-42eb-b5a8-1c5497d7b2f7"
      },
      "execution_count": 34,
      "outputs": [
        {
          "output_type": "stream",
          "name": "stdout",
          "text": [
            "[-1  1  2  3  4  5  6  7  8  9 10 11]\n",
            "[[-1  1  2  3]\n",
            " [ 4  5  6  7]\n",
            " [ 8  9 10 11]]\n",
            "[-1  2  4  6  8 10]\n"
          ]
        }
      ]
    },
    {
      "cell_type": "markdown",
      "source": [
        "Veja que se altera os vetores b e c. Isso acontece porque na visão de memória esses vetores apontam para a mesma localização na RAM."
      ],
      "metadata": {
        "id": "BkX4xdwgVb3G"
      }
    },
    {
      "cell_type": "code",
      "source": [
        "print(f\"a: dtype={a.dtype} | shape={a.shape} | size={a.size} | itemsize={a.itemsize} | strides={a.strides}\")\n",
        "print(f\"b: dtype={b.dtype} | shape={b.shape} | size={b.size} | itemsize={b.itemsize} | strides={b.strides}\")"
      ],
      "metadata": {
        "colab": {
          "base_uri": "https://localhost:8080/"
        },
        "id": "i4CaVpf9UrjP",
        "outputId": "034dd17a-3fcc-48b6-87f2-fff45c37b5d5"
      },
      "execution_count": 35,
      "outputs": [
        {
          "output_type": "stream",
          "name": "stdout",
          "text": [
            "a: dtype=int64 | shape=(12,) | size=12 | itemsize=8 | strides=(8,)\n",
            "b: dtype=int64 | shape=(3, 4) | size=12 | itemsize=8 | strides=(32, 8)\n"
          ]
        }
      ]
    },
    {
      "cell_type": "markdown",
      "source": [
        "Da mesma forma o vetor c é uma representação especial do vetor a, na qual mudamos o valor de passo entre elementos do array."
      ],
      "metadata": {
        "id": "BKxe-YNOXGfl"
      }
    },
    {
      "cell_type": "code",
      "source": [
        "print(f\"a: dtype={a.dtype} | shape={a.shape} | size={a.size} | itemsize={a.itemsize} | strides={a.strides}\")\n",
        "print(f\"c: dtype={c.dtype} | shape={c.shape} | size={c.size} | itemsize={c.itemsize} | strides={c.strides}\")"
      ],
      "metadata": {
        "colab": {
          "base_uri": "https://localhost:8080/"
        },
        "id": "diDVgBCQXXz5",
        "outputId": "7aec0cd4-d397-4391-d0d2-3c5026c443fc"
      },
      "execution_count": 36,
      "outputs": [
        {
          "output_type": "stream",
          "name": "stdout",
          "text": [
            "a: dtype=int64 | shape=(12,) | size=12 | itemsize=8 | strides=(8,)\n",
            "c: dtype=int64 | shape=(6,) | size=6 | itemsize=8 | strides=(16,)\n"
          ]
        }
      ]
    },
    {
      "cell_type": "markdown",
      "source": [
        "Por fim é importante lembrar que tal como listas e dicionário, arrays são passados como referência em função, de forma que qualquer alteração no array feito dentro de uma função será carregada para fora da mesma."
      ],
      "metadata": {
        "id": "JAm3AGx_XgRT"
      }
    },
    {
      "cell_type": "code",
      "source": [
        "def muda_a(a):\n",
        "  a[1] = 12890\n",
        "print(a)\n",
        "muda_a(a)\n",
        "print(a)\n",
        "print(b)\n",
        "print(c)"
      ],
      "metadata": {
        "colab": {
          "base_uri": "https://localhost:8080/"
        },
        "id": "atuX1cAQX45B",
        "outputId": "bcc2dfe2-0989-4f1b-f88e-263bf465ab9d"
      },
      "execution_count": 37,
      "outputs": [
        {
          "output_type": "stream",
          "name": "stdout",
          "text": [
            "[-1  1  2  3  4  5  6  7  8  9 10 11]\n",
            "[   -1 12890     2     3     4     5     6     7     8     9    10    11]\n",
            "[[   -1 12890     2     3]\n",
            " [    4     5     6     7]\n",
            " [    8     9    10    11]]\n",
            "[-1  2  4  6  8 10]\n"
          ]
        }
      ]
    },
    {
      "cell_type": "markdown",
      "source": [
        "##**Operações**<br>\n",
        "Como descrito anteriormente, Numpy é uma biblioteca de álgebra linear, de forma que suporta todas as operações vetoriais tradicionais."
      ],
      "metadata": {
        "id": "Wzg-T50MZfnT"
      }
    },
    {
      "cell_type": "code",
      "source": [
        "np.random.seed(42)\n",
        "arr1 = np.array([1, 2, 3])\n",
        "arr2 = np.array([4, 5, 6])\n",
        "m1 = np.random.randint(1, 10, size=(3, 3))\n",
        "m2 = np.random.randint(1, 10, size=(3, 3))\n",
        "\n",
        "print(m1)\n",
        "print(m2)"
      ],
      "metadata": {
        "colab": {
          "base_uri": "https://localhost:8080/"
        },
        "id": "6NahGxvxZiJ_",
        "outputId": "91bc98d9-0f27-4277-8005-10f2c9b32c21"
      },
      "execution_count": 38,
      "outputs": [
        {
          "output_type": "stream",
          "name": "stdout",
          "text": [
            "[[7 4 8]\n",
            " [5 7 3]\n",
            " [7 8 5]]\n",
            "[[4 8 8]\n",
            " [3 6 5]\n",
            " [2 8 6]]\n"
          ]
        }
      ]
    },
    {
      "cell_type": "markdown",
      "source": [
        "Soma"
      ],
      "metadata": {
        "id": "GHOSqKK6aBcp"
      }
    },
    {
      "cell_type": "code",
      "source": [
        "arr1 + arr2"
      ],
      "metadata": {
        "colab": {
          "base_uri": "https://localhost:8080/"
        },
        "id": "L-4FsTS_Z88N",
        "outputId": "e68aace7-b7dc-46e0-dd5d-e20adad2da97"
      },
      "execution_count": 39,
      "outputs": [
        {
          "output_type": "execute_result",
          "data": {
            "text/plain": [
              "array([5, 7, 9])"
            ]
          },
          "metadata": {},
          "execution_count": 39
        }
      ]
    },
    {
      "cell_type": "code",
      "source": [
        "np.add(arr1, arr2)"
      ],
      "metadata": {
        "colab": {
          "base_uri": "https://localhost:8080/"
        },
        "id": "9tExpF4RaDxP",
        "outputId": "ba2fd3da-0fb0-472e-9826-9227c0124ab1"
      },
      "execution_count": 40,
      "outputs": [
        {
          "output_type": "execute_result",
          "data": {
            "text/plain": [
              "array([5, 7, 9])"
            ]
          },
          "metadata": {},
          "execution_count": 40
        }
      ]
    },
    {
      "cell_type": "markdown",
      "source": [
        "Subtração"
      ],
      "metadata": {
        "id": "VDMgSXYuaIBw"
      }
    },
    {
      "cell_type": "code",
      "source": [
        "arr1 - arr2"
      ],
      "metadata": {
        "colab": {
          "base_uri": "https://localhost:8080/"
        },
        "id": "d2nzopdiaFks",
        "outputId": "11b54415-26f7-4faa-84dc-5d9ffeddd379"
      },
      "execution_count": 41,
      "outputs": [
        {
          "output_type": "execute_result",
          "data": {
            "text/plain": [
              "array([-3, -3, -3])"
            ]
          },
          "metadata": {},
          "execution_count": 41
        }
      ]
    },
    {
      "cell_type": "code",
      "source": [
        "np.subtract(arr1, arr2)"
      ],
      "metadata": {
        "colab": {
          "base_uri": "https://localhost:8080/"
        },
        "id": "x3S6t6CXaJ9M",
        "outputId": "65c0b113-de52-44e7-e1e0-8629b1637851"
      },
      "execution_count": 42,
      "outputs": [
        {
          "output_type": "execute_result",
          "data": {
            "text/plain": [
              "array([-3, -3, -3])"
            ]
          },
          "metadata": {},
          "execution_count": 42
        }
      ]
    },
    {
      "cell_type": "markdown",
      "source": [
        "Multiplicação (escalar)"
      ],
      "metadata": {
        "id": "ivt75cdNaakn"
      }
    },
    {
      "cell_type": "code",
      "source": [
        "arr1 * 2"
      ],
      "metadata": {
        "colab": {
          "base_uri": "https://localhost:8080/"
        },
        "id": "_L7O1sZAaS19",
        "outputId": "d7e6e185-8d5d-460a-deaa-0764fc5c2fcb"
      },
      "execution_count": 43,
      "outputs": [
        {
          "output_type": "execute_result",
          "data": {
            "text/plain": [
              "array([2, 4, 6])"
            ]
          },
          "metadata": {},
          "execution_count": 43
        }
      ]
    },
    {
      "cell_type": "code",
      "source": [
        "arr1 * 2.1"
      ],
      "metadata": {
        "colab": {
          "base_uri": "https://localhost:8080/"
        },
        "id": "JP9VeW7raeX8",
        "outputId": "7d3996f4-c849-48e4-ddda-239ac0d9bc48"
      },
      "execution_count": 44,
      "outputs": [
        {
          "output_type": "execute_result",
          "data": {
            "text/plain": [
              "array([2.1, 4.2, 6.3])"
            ]
          },
          "metadata": {},
          "execution_count": 44
        }
      ]
    },
    {
      "cell_type": "code",
      "source": [
        "np.multiply(arr1, 2)"
      ],
      "metadata": {
        "colab": {
          "base_uri": "https://localhost:8080/"
        },
        "id": "r1OtX96zagct",
        "outputId": "b57bd5a0-0c80-47fd-d10c-99a09ff3730d"
      },
      "execution_count": 45,
      "outputs": [
        {
          "output_type": "execute_result",
          "data": {
            "text/plain": [
              "array([2, 4, 6])"
            ]
          },
          "metadata": {},
          "execution_count": 45
        }
      ]
    },
    {
      "cell_type": "markdown",
      "source": [
        "Multiplicação (element-wise)"
      ],
      "metadata": {
        "id": "7DEN7WaTapXt"
      }
    },
    {
      "cell_type": "code",
      "source": [
        "arr1 * arr2"
      ],
      "metadata": {
        "colab": {
          "base_uri": "https://localhost:8080/"
        },
        "id": "SSxITpT2amJw",
        "outputId": "83658d7c-35e7-4d71-80e1-e0f91e3a9ae1"
      },
      "execution_count": 46,
      "outputs": [
        {
          "output_type": "execute_result",
          "data": {
            "text/plain": [
              "array([ 4, 10, 18])"
            ]
          },
          "metadata": {},
          "execution_count": 46
        }
      ]
    },
    {
      "cell_type": "code",
      "source": [
        "np.multiply(arr1, arr2)"
      ],
      "metadata": {
        "colab": {
          "base_uri": "https://localhost:8080/"
        },
        "id": "0gvStp8Fajvd",
        "outputId": "b68f0af4-4ab4-48dd-d3c5-2b4d104cb559"
      },
      "execution_count": 47,
      "outputs": [
        {
          "output_type": "execute_result",
          "data": {
            "text/plain": [
              "array([ 4, 10, 18])"
            ]
          },
          "metadata": {},
          "execution_count": 47
        }
      ]
    },
    {
      "cell_type": "markdown",
      "source": [
        "Multiplicação (produto vetorial)"
      ],
      "metadata": {
        "id": "sE_QUo7ea3Hr"
      }
    },
    {
      "cell_type": "code",
      "source": [
        "sum(arr1 * arr2)"
      ],
      "metadata": {
        "colab": {
          "base_uri": "https://localhost:8080/"
        },
        "id": "a6cvfGyla1hN",
        "outputId": "b995a592-eaf1-42c4-b669-9accc9a6e82f"
      },
      "execution_count": 48,
      "outputs": [
        {
          "output_type": "execute_result",
          "data": {
            "text/plain": [
              "32"
            ]
          },
          "metadata": {},
          "execution_count": 48
        }
      ]
    },
    {
      "cell_type": "code",
      "source": [
        "arr1.dot(arr2)"
      ],
      "metadata": {
        "colab": {
          "base_uri": "https://localhost:8080/"
        },
        "id": "ZsF7jQcpa6ls",
        "outputId": "840a8316-fa1f-4486-c202-66bde1d26f42"
      },
      "execution_count": 49,
      "outputs": [
        {
          "output_type": "execute_result",
          "data": {
            "text/plain": [
              "32"
            ]
          },
          "metadata": {},
          "execution_count": 49
        }
      ]
    },
    {
      "cell_type": "code",
      "source": [
        "np.dot(arr1, arr2)"
      ],
      "metadata": {
        "colab": {
          "base_uri": "https://localhost:8080/"
        },
        "id": "gzTh-DVRa8Md",
        "outputId": "1ca07b0c-4dde-4801-d166-61d00add306a"
      },
      "execution_count": 50,
      "outputs": [
        {
          "output_type": "execute_result",
          "data": {
            "text/plain": [
              "32"
            ]
          },
          "metadata": {},
          "execution_count": 50
        }
      ]
    },
    {
      "cell_type": "markdown",
      "source": [
        "Multiplicação (cruzada)"
      ],
      "metadata": {
        "id": "rqimekK_bjSu"
      }
    },
    {
      "cell_type": "code",
      "source": [
        "np.cross(arr1, arr2)"
      ],
      "metadata": {
        "colab": {
          "base_uri": "https://localhost:8080/"
        },
        "id": "JNDCkPxJa9nd",
        "outputId": "8968685a-f9e5-49d4-d39b-7bae1f333948"
      },
      "execution_count": 51,
      "outputs": [
        {
          "output_type": "execute_result",
          "data": {
            "text/plain": [
              "array([-3,  6, -3])"
            ]
          },
          "metadata": {},
          "execution_count": 51
        }
      ]
    },
    {
      "cell_type": "markdown",
      "source": [
        "Multiplicação (matricial)"
      ],
      "metadata": {
        "id": "YxPm4Iryb0lQ"
      }
    },
    {
      "cell_type": "code",
      "source": [
        "m1@m2"
      ],
      "metadata": {
        "colab": {
          "base_uri": "https://localhost:8080/"
        },
        "id": "48dFbA0ybzzO",
        "outputId": "ad7019dc-559b-4ed5-94ca-041a496a6ad6"
      },
      "execution_count": 52,
      "outputs": [
        {
          "output_type": "execute_result",
          "data": {
            "text/plain": [
              "array([[ 56, 144, 124],\n",
              "       [ 47, 106,  93],\n",
              "       [ 62, 144, 126]])"
            ]
          },
          "metadata": {},
          "execution_count": 52
        }
      ]
    },
    {
      "cell_type": "code",
      "source": [
        "np.matmul(m1, m2)"
      ],
      "metadata": {
        "colab": {
          "base_uri": "https://localhost:8080/"
        },
        "id": "7CVn_Lpab3zf",
        "outputId": "f8bf5968-b4a6-4c31-e1b7-005d008bf947"
      },
      "execution_count": 53,
      "outputs": [
        {
          "output_type": "execute_result",
          "data": {
            "text/plain": [
              "array([[ 56, 144, 124],\n",
              "       [ 47, 106,  93],\n",
              "       [ 62, 144, 126]])"
            ]
          },
          "metadata": {},
          "execution_count": 53
        }
      ]
    },
    {
      "cell_type": "markdown",
      "source": [
        "Divisão"
      ],
      "metadata": {
        "id": "3FBe02SZcCfB"
      }
    },
    {
      "cell_type": "code",
      "source": [
        "arr1 / arr2"
      ],
      "metadata": {
        "colab": {
          "base_uri": "https://localhost:8080/"
        },
        "id": "JVoNG9pUb70u",
        "outputId": "f18ca41f-d1a0-4b6f-a696-ba091edac085"
      },
      "execution_count": 54,
      "outputs": [
        {
          "output_type": "execute_result",
          "data": {
            "text/plain": [
              "array([0.25, 0.4 , 0.5 ])"
            ]
          },
          "metadata": {},
          "execution_count": 54
        }
      ]
    },
    {
      "cell_type": "code",
      "source": [
        "np.divide(arr1, arr2)"
      ],
      "metadata": {
        "colab": {
          "base_uri": "https://localhost:8080/"
        },
        "id": "QpJupjd1cFBN",
        "outputId": "97a55ab6-af99-4a82-cbd7-0169c44334d2"
      },
      "execution_count": 55,
      "outputs": [
        {
          "output_type": "execute_result",
          "data": {
            "text/plain": [
              "array([0.25, 0.4 , 0.5 ])"
            ]
          },
          "metadata": {},
          "execution_count": 55
        }
      ]
    },
    {
      "cell_type": "markdown",
      "source": [
        "Exponenciação"
      ],
      "metadata": {
        "id": "m4sgrbDIcJKN"
      }
    },
    {
      "cell_type": "code",
      "source": [
        "arr1 ** 2"
      ],
      "metadata": {
        "colab": {
          "base_uri": "https://localhost:8080/"
        },
        "id": "no2WndSccGuM",
        "outputId": "396a0157-dadf-4a03-e86b-55a732f0f777"
      },
      "execution_count": 56,
      "outputs": [
        {
          "output_type": "execute_result",
          "data": {
            "text/plain": [
              "array([1, 4, 9])"
            ]
          },
          "metadata": {},
          "execution_count": 56
        }
      ]
    },
    {
      "cell_type": "code",
      "source": [
        "arr1 ** arr2"
      ],
      "metadata": {
        "colab": {
          "base_uri": "https://localhost:8080/"
        },
        "id": "T6Xe6Q4FcLW-",
        "outputId": "c598c54b-43f3-48aa-c200-8033c363aeb5"
      },
      "execution_count": 57,
      "outputs": [
        {
          "output_type": "execute_result",
          "data": {
            "text/plain": [
              "array([  1,  32, 729])"
            ]
          },
          "metadata": {},
          "execution_count": 57
        }
      ]
    },
    {
      "cell_type": "code",
      "source": [
        "np.power(arr1, arr2)"
      ],
      "metadata": {
        "colab": {
          "base_uri": "https://localhost:8080/"
        },
        "id": "MDHwRkKkcNCt",
        "outputId": "ad7a9718-4e80-43b3-c4c0-47cd25de256f"
      },
      "execution_count": 58,
      "outputs": [
        {
          "output_type": "execute_result",
          "data": {
            "text/plain": [
              "array([  1,  32, 729])"
            ]
          },
          "metadata": {},
          "execution_count": 58
        }
      ]
    },
    {
      "cell_type": "markdown",
      "source": [
        "Módulo de um vetor"
      ],
      "metadata": {
        "id": "T8b79fkYcVG2"
      }
    },
    {
      "cell_type": "code",
      "source": [
        "sum(arr1 * arr1) ** 0.5"
      ],
      "metadata": {
        "colab": {
          "base_uri": "https://localhost:8080/"
        },
        "id": "3AlOu90ZcO-8",
        "outputId": "63b5fb27-aadc-436c-9aca-ef5df61e0314"
      },
      "execution_count": 59,
      "outputs": [
        {
          "output_type": "execute_result",
          "data": {
            "text/plain": [
              "3.7416573867739413"
            ]
          },
          "metadata": {},
          "execution_count": 59
        }
      ]
    },
    {
      "cell_type": "code",
      "source": [
        "np.linalg.norm(arr1)"
      ],
      "metadata": {
        "colab": {
          "base_uri": "https://localhost:8080/"
        },
        "id": "-E8xMB-UcalM",
        "outputId": "c8b80341-c60d-4185-f58a-96ef4dc7c92e"
      },
      "execution_count": 60,
      "outputs": [
        {
          "output_type": "execute_result",
          "data": {
            "text/plain": [
              "3.7416573867739413"
            ]
          },
          "metadata": {},
          "execution_count": 60
        }
      ]
    },
    {
      "cell_type": "markdown",
      "source": [
        "Determinante de uma matriz"
      ],
      "metadata": {
        "id": "uQut-n7gchDI"
      }
    },
    {
      "cell_type": "code",
      "source": [
        "np.linalg.det(m1)"
      ],
      "metadata": {
        "colab": {
          "base_uri": "https://localhost:8080/"
        },
        "id": "txD-xnEqcert",
        "outputId": "d9556d44-ab95-46b5-bf52-7c4829de1f8c"
      },
      "execution_count": 61,
      "outputs": [
        {
          "output_type": "execute_result",
          "data": {
            "text/plain": [
              "-11.00000000000003"
            ]
          },
          "metadata": {},
          "execution_count": 61
        }
      ]
    },
    {
      "cell_type": "markdown",
      "source": [
        "Matriz inversa"
      ],
      "metadata": {
        "id": "tkqthIUOcmph"
      }
    },
    {
      "cell_type": "code",
      "source": [
        "np.linalg.inv(m1)"
      ],
      "metadata": {
        "colab": {
          "base_uri": "https://localhost:8080/"
        },
        "id": "93DxDQPvckqd",
        "outputId": "6d30913a-7509-461e-bb5a-744fe0ca2fc9"
      },
      "execution_count": 62,
      "outputs": [
        {
          "output_type": "execute_result",
          "data": {
            "text/plain": [
              "array([[-1.        , -4.        ,  4.        ],\n",
              "       [ 0.36363636,  1.90909091, -1.72727273],\n",
              "       [ 0.81818182,  2.54545455, -2.63636364]])"
            ]
          },
          "metadata": {},
          "execution_count": 62
        }
      ]
    },
    {
      "cell_type": "markdown",
      "source": [
        "Matriz transposta"
      ],
      "metadata": {
        "id": "30YlrEVhcrpl"
      }
    },
    {
      "cell_type": "code",
      "source": [
        "np.transpose(m1)"
      ],
      "metadata": {
        "colab": {
          "base_uri": "https://localhost:8080/"
        },
        "id": "ZOuslrrhcqfd",
        "outputId": "17b9fc8e-377a-4482-d32c-c8bd29175d82"
      },
      "execution_count": 63,
      "outputs": [
        {
          "output_type": "execute_result",
          "data": {
            "text/plain": [
              "array([[7, 5, 7],\n",
              "       [4, 7, 8],\n",
              "       [8, 3, 5]])"
            ]
          },
          "metadata": {},
          "execution_count": 63
        }
      ]
    },
    {
      "cell_type": "code",
      "source": [
        "m1.T"
      ],
      "metadata": {
        "colab": {
          "base_uri": "https://localhost:8080/"
        },
        "id": "QLk15-ofcvSs",
        "outputId": "a12c9445-66b2-43f9-9951-a019a8e4020d"
      },
      "execution_count": 64,
      "outputs": [
        {
          "output_type": "execute_result",
          "data": {
            "text/plain": [
              "array([[7, 5, 7],\n",
              "       [4, 7, 8],\n",
              "       [8, 3, 5]])"
            ]
          },
          "metadata": {},
          "execution_count": 64
        }
      ]
    },
    {
      "cell_type": "code",
      "source": [
        "arr1.T"
      ],
      "metadata": {
        "colab": {
          "base_uri": "https://localhost:8080/"
        },
        "id": "ZKb14zmkcwoy",
        "outputId": "f437ec35-59d1-4672-f1be-d4bd69f2dd00"
      },
      "execution_count": 65,
      "outputs": [
        {
          "output_type": "execute_result",
          "data": {
            "text/plain": [
              "array([1, 2, 3])"
            ]
          },
          "metadata": {},
          "execution_count": 65
        }
      ]
    },
    {
      "cell_type": "markdown",
      "source": [
        "Uma propriedade especial de arrays é o \"broadcasting\", na qual uma operação pode ser propagada entre arrays de diferentes tamanhos contanto que obedeçam algumas propriedades específicas. Por exemplo, podemos somar dois arrays de tamanhos diferentes, contanto que possamos \"reproduzir\" um deles para ficar com o tamanho do outro."
      ],
      "metadata": {
        "id": "twjc4Jf4d7cR"
      }
    },
    {
      "cell_type": "code",
      "source": [
        "arr3 = np.array([1, 2, 3, 4])"
      ],
      "metadata": {
        "id": "bNiPRQF8cxtt"
      },
      "execution_count": 66,
      "outputs": []
    },
    {
      "cell_type": "code",
      "source": [
        "arr3 = np.array([[1, 2, 3], [4, 5, 6]])"
      ],
      "metadata": {
        "id": "46VAiJU7ehk9"
      },
      "execution_count": 67,
      "outputs": []
    },
    {
      "cell_type": "code",
      "source": [
        "arr3 + arr1"
      ],
      "metadata": {
        "colab": {
          "base_uri": "https://localhost:8080/"
        },
        "id": "O5-tKEa0epF8",
        "outputId": "58559b4c-b184-435d-e10d-d21b2b207446"
      },
      "execution_count": 68,
      "outputs": [
        {
          "output_type": "execute_result",
          "data": {
            "text/plain": [
              "array([[2, 4, 6],\n",
              "       [5, 7, 9]])"
            ]
          },
          "metadata": {},
          "execution_count": 68
        }
      ]
    },
    {
      "cell_type": "code",
      "source": [
        "arr3 * arr1"
      ],
      "metadata": {
        "colab": {
          "base_uri": "https://localhost:8080/"
        },
        "id": "ezWp_eeCesvB",
        "outputId": "93d4da30-3d1f-4163-e53a-65f9a38f5dcb"
      },
      "execution_count": 69,
      "outputs": [
        {
          "output_type": "execute_result",
          "data": {
            "text/plain": [
              "array([[ 1,  4,  9],\n",
              "       [ 4, 10, 18]])"
            ]
          },
          "metadata": {},
          "execution_count": 69
        }
      ]
    },
    {
      "cell_type": "markdown",
      "source": [
        "###**Representações**<br>\n",
        "Há alguns elementos matemáticos que possuem representações especiais no Numpy.<br>\n",
        "np.nan -> Not a Number, é a representação de um dado faltante."
      ],
      "metadata": {
        "id": "75fp0K0RxYaO"
      }
    },
    {
      "cell_type": "code",
      "source": [
        "arr = np.array([1, 2, np.nan, 4])\n",
        "arr"
      ],
      "metadata": {
        "colab": {
          "base_uri": "https://localhost:8080/"
        },
        "id": "bp4DtMiwxpKl",
        "outputId": "dc4e1c97-b713-4234-a811-a94e288a3558"
      },
      "execution_count": 70,
      "outputs": [
        {
          "output_type": "execute_result",
          "data": {
            "text/plain": [
              "array([ 1.,  2., nan,  4.])"
            ]
          },
          "metadata": {},
          "execution_count": 70
        }
      ]
    },
    {
      "cell_type": "code",
      "source": [
        "np.isnan(arr)"
      ],
      "metadata": {
        "colab": {
          "base_uri": "https://localhost:8080/"
        },
        "id": "3NFtCpi7xs6y",
        "outputId": "239196ae-bd12-4693-b723-47c50272f063"
      },
      "execution_count": 71,
      "outputs": [
        {
          "output_type": "execute_result",
          "data": {
            "text/plain": [
              "array([False, False,  True, False])"
            ]
          },
          "metadata": {},
          "execution_count": 71
        }
      ]
    },
    {
      "cell_type": "code",
      "source": [
        "np.zeros(3)/0"
      ],
      "metadata": {
        "colab": {
          "base_uri": "https://localhost:8080/"
        },
        "id": "3ubwFJtWxuhD",
        "outputId": "426744b7-b37b-435f-8d98-36deadb14533"
      },
      "execution_count": 72,
      "outputs": [
        {
          "output_type": "stream",
          "name": "stderr",
          "text": [
            "<ipython-input-72-2f7de20c6e27>:1: RuntimeWarning: invalid value encountered in divide\n",
            "  np.zeros(3)/0\n"
          ]
        },
        {
          "output_type": "execute_result",
          "data": {
            "text/plain": [
              "array([nan, nan, nan])"
            ]
          },
          "metadata": {},
          "execution_count": 72
        }
      ]
    },
    {
      "cell_type": "markdown",
      "source": [
        "É importante destacar que None e NaN não são a mesma coisa. Not a Number indica um operação matemárica ou um dado númerico não existente dentro de um array, enquanto None é o objeto nulo do Python."
      ],
      "metadata": {
        "id": "feXQH6u3x0Ey"
      }
    },
    {
      "cell_type": "markdown",
      "source": [
        "np.inf -> Infinito, representa valores infinitos."
      ],
      "metadata": {
        "id": "w3GJtBnKyRxN"
      }
    },
    {
      "cell_type": "code",
      "source": [
        "arr = np.array([1, 2, np.inf, 4, -np.inf])\n",
        "arr"
      ],
      "metadata": {
        "colab": {
          "base_uri": "https://localhost:8080/"
        },
        "id": "4mG0_ghRyIrz",
        "outputId": "17177192-a14d-43ea-ba1d-1d588356a996"
      },
      "execution_count": 73,
      "outputs": [
        {
          "output_type": "execute_result",
          "data": {
            "text/plain": [
              "array([  1.,   2.,  inf,   4., -inf])"
            ]
          },
          "metadata": {},
          "execution_count": 73
        }
      ]
    },
    {
      "cell_type": "code",
      "source": [
        "np.isfinite(arr)"
      ],
      "metadata": {
        "colab": {
          "base_uri": "https://localhost:8080/"
        },
        "id": "ywrZWiB1yaqS",
        "outputId": "a23e0748-aad1-44a0-f4f6-589b41f5fbfb"
      },
      "execution_count": 74,
      "outputs": [
        {
          "output_type": "execute_result",
          "data": {
            "text/plain": [
              "array([ True,  True, False,  True, False])"
            ]
          },
          "metadata": {},
          "execution_count": 74
        }
      ]
    },
    {
      "cell_type": "code",
      "source": [
        "np.ones(3)/0"
      ],
      "metadata": {
        "colab": {
          "base_uri": "https://localhost:8080/"
        },
        "id": "D_GgcVVPydTi",
        "outputId": "f08c004e-de4c-4dbf-a076-b5bfa14e1636"
      },
      "execution_count": 75,
      "outputs": [
        {
          "output_type": "stream",
          "name": "stderr",
          "text": [
            "<ipython-input-75-c6764c1134a7>:1: RuntimeWarning: divide by zero encountered in divide\n",
            "  np.ones(3)/0\n"
          ]
        },
        {
          "output_type": "execute_result",
          "data": {
            "text/plain": [
              "array([inf, inf, inf])"
            ]
          },
          "metadata": {},
          "execution_count": 75
        }
      ]
    },
    {
      "cell_type": "markdown",
      "metadata": {
        "id": "nNlYFVDWfT0a"
      },
      "source": [
        "Constantes numéricas:\n",
        "- np.pi: 3.14 (constante PI)\n",
        "- np.e: 2.72 (número de euler)"
      ]
    },
    {
      "cell_type": "code",
      "source": [
        "np.pi"
      ],
      "metadata": {
        "colab": {
          "base_uri": "https://localhost:8080/"
        },
        "id": "L_b4LSJ9y9FX",
        "outputId": "d4770e1d-24cf-4f1e-b352-f992788b3a51"
      },
      "execution_count": 76,
      "outputs": [
        {
          "output_type": "execute_result",
          "data": {
            "text/plain": [
              "3.141592653589793"
            ]
          },
          "metadata": {},
          "execution_count": 76
        }
      ]
    },
    {
      "cell_type": "code",
      "source": [
        "np.e"
      ],
      "metadata": {
        "colab": {
          "base_uri": "https://localhost:8080/"
        },
        "id": "AAl9j4O6y9vS",
        "outputId": "30727331-df90-4eac-8025-8eb709b401de"
      },
      "execution_count": 77,
      "outputs": [
        {
          "output_type": "execute_result",
          "data": {
            "text/plain": [
              "2.718281828459045"
            ]
          },
          "metadata": {},
          "execution_count": 77
        }
      ]
    },
    {
      "cell_type": "markdown",
      "source": [
        "###**Filtros**<br>\n",
        "Uma particularidade interessante de arrays é a habilidade de realizar filtros de seus dados a partir de comparações booleanas."
      ],
      "metadata": {
        "id": "9BNPt5vL0Mic"
      }
    },
    {
      "cell_type": "code",
      "source": [
        "np.random.seed(42)\n",
        "arr = np.random.randint(0, 100, size=10)\n",
        "arr"
      ],
      "metadata": {
        "colab": {
          "base_uri": "https://localhost:8080/"
        },
        "id": "rv5PClwE0gQU",
        "outputId": "0f15cd81-3670-4b5f-af4e-fb586ad95591"
      },
      "execution_count": 78,
      "outputs": [
        {
          "output_type": "execute_result",
          "data": {
            "text/plain": [
              "array([51, 92, 14, 71, 60, 20, 82, 86, 74, 74])"
            ]
          },
          "metadata": {},
          "execution_count": 78
        }
      ]
    },
    {
      "cell_type": "markdown",
      "source": [
        "Ao gerar uma comparação (tratando arrays como uma variável) o resultado é um array de booleanos com o resultado da comparação de cada elemento do array."
      ],
      "metadata": {
        "id": "liXlpIGR0pmC"
      }
    },
    {
      "cell_type": "code",
      "source": [
        "arr > 50"
      ],
      "metadata": {
        "colab": {
          "base_uri": "https://localhost:8080/"
        },
        "id": "sZ61KhH40mFy",
        "outputId": "0467541a-b0e2-4adc-fece-3a24afb56259"
      },
      "execution_count": 79,
      "outputs": [
        {
          "output_type": "execute_result",
          "data": {
            "text/plain": [
              "array([ True,  True, False,  True,  True, False,  True,  True,  True,\n",
              "        True])"
            ]
          },
          "metadata": {},
          "execution_count": 79
        }
      ]
    },
    {
      "cell_type": "markdown",
      "source": [
        "Essas comparações também aceitam os operadors lógicos and/or/not, entretanto os mesmos devem vir no formato &/|/~ (respectivamente) e, além disso, obrigatoriamente necessitam de () para cada operação lógica."
      ],
      "metadata": {
        "id": "eFTT7-y908AI"
      }
    },
    {
      "cell_type": "code",
      "source": [
        "(arr > 50) & (arr < 75)"
      ],
      "metadata": {
        "colab": {
          "base_uri": "https://localhost:8080/"
        },
        "id": "0UI4dnqx03-2",
        "outputId": "94bf89e8-4b65-43c7-b785-3639dd06e089"
      },
      "execution_count": 80,
      "outputs": [
        {
          "output_type": "execute_result",
          "data": {
            "text/plain": [
              "array([ True, False, False,  True,  True, False, False, False,  True,\n",
              "        True])"
            ]
          },
          "metadata": {},
          "execution_count": 80
        }
      ]
    },
    {
      "cell_type": "markdown",
      "source": [
        "O filtro do array ocorre ao passar uma comparação como parte da sintaxe de chaves, de forma que é como se estivessemos indexando o array onde o resultado da comparação lógica é verdadeiro."
      ],
      "metadata": {
        "id": "5WKrGXkz1Vud"
      }
    },
    {
      "cell_type": "code",
      "source": [
        "arr[(arr > 50) & (arr < 75)]"
      ],
      "metadata": {
        "id": "E868a19r1sYC",
        "colab": {
          "base_uri": "https://localhost:8080/"
        },
        "outputId": "d5112bdd-d4ce-4941-c4b0-844593739eb8"
      },
      "execution_count": 81,
      "outputs": [
        {
          "output_type": "execute_result",
          "data": {
            "text/plain": [
              "array([51, 71, 60, 74, 74])"
            ]
          },
          "metadata": {},
          "execution_count": 81
        }
      ]
    },
    {
      "cell_type": "markdown",
      "source": [
        "Uma função muito interessante criada com esse propósito é o where, na qual espera-se receber como primeiro input uma comparação e devolve como output os índices na qual a comparação é verdadeira."
      ],
      "metadata": {
        "id": "ozxX8v_wZJyW"
      }
    },
    {
      "cell_type": "code",
      "source": [
        "np.where((arr > 50) & (arr < 75))"
      ],
      "metadata": {
        "colab": {
          "base_uri": "https://localhost:8080/"
        },
        "id": "Wm73_-snZnCq",
        "outputId": "f8be49e1-5350-4242-a63e-6d2e6cc86103"
      },
      "execution_count": 82,
      "outputs": [
        {
          "output_type": "execute_result",
          "data": {
            "text/plain": [
              "(array([0, 3, 4, 8, 9]),)"
            ]
          },
          "metadata": {},
          "execution_count": 82
        }
      ]
    },
    {
      "cell_type": "markdown",
      "metadata": {
        "id": "ym-doPVNF66l"
      },
      "source": [
        "Alternativamente ainda podemos passar mais dois parâmetros para a função where, de tal forma que criaremos um novo array obtendo o segundo parâmetro como resultado onde a comparação é verdadeira e o terceiro onde a comparação é falsa."
      ]
    },
    {
      "cell_type": "code",
      "source": [
        "np.where((arr > 50) & (arr < 75), \"Papai Noel é top\", \"Papai Noel não é legal\")"
      ],
      "metadata": {
        "colab": {
          "base_uri": "https://localhost:8080/"
        },
        "id": "3p7lVvuAZsxS",
        "outputId": "cbeb085b-fdf2-47ba-a779-c835d362692f"
      },
      "execution_count": 83,
      "outputs": [
        {
          "output_type": "execute_result",
          "data": {
            "text/plain": [
              "array(['Papai Noel é top', 'Papai Noel não é legal',\n",
              "       'Papai Noel não é legal', 'Papai Noel é top', 'Papai Noel é top',\n",
              "       'Papai Noel não é legal', 'Papai Noel não é legal',\n",
              "       'Papai Noel não é legal', 'Papai Noel é top', 'Papai Noel é top'],\n",
              "      dtype='<U22')"
            ]
          },
          "metadata": {},
          "execution_count": 83
        }
      ]
    },
    {
      "cell_type": "markdown",
      "source": [
        "Nós inclusive conseguimos fazer alterações em arrays utilizando filtros."
      ],
      "metadata": {
        "id": "QP8vHotIaVGF"
      }
    },
    {
      "cell_type": "code",
      "source": [
        "arr[(arr > 50) & (arr < 75)] = -1\n",
        "arr"
      ],
      "metadata": {
        "colab": {
          "base_uri": "https://localhost:8080/"
        },
        "id": "E88UXC42abIx",
        "outputId": "ca76d9af-b6b6-4659-e6ee-31ef62598efb"
      },
      "execution_count": 84,
      "outputs": [
        {
          "output_type": "execute_result",
          "data": {
            "text/plain": [
              "array([-1, 92, 14, -1, -1, 20, 82, 86, -1, -1])"
            ]
          },
          "metadata": {},
          "execution_count": 84
        }
      ]
    },
    {
      "cell_type": "markdown",
      "metadata": {
        "id": "sYSptHTefT0g"
      },
      "source": [
        "Além dos comparadores lógicos entre elementos, o numpy ainda contém agregadores lógicos tais com as funções nativas de python all e any, na qual checamos se todos (all) elementos de uma sequência são verdadeiros ou se algum (any) dos elementos são verdadeiros"
      ]
    },
    {
      "cell_type": "code",
      "source": [
        "np.random.seed(42)\n",
        "arr = np.random.randint(0, 100, size=10)\n",
        "\n",
        "print(arr)\n",
        "print((arr > 50) & (arr < 75))\n",
        "\n",
        "print(all((arr > 50) & (arr < 75)))\n",
        "print(np.all((arr > 50) & (arr < 75)))\n",
        "\n",
        "print(any((arr > 50) & (arr < 75)))\n",
        "print(np.any((arr > 50) & (arr < 75)))"
      ],
      "metadata": {
        "colab": {
          "base_uri": "https://localhost:8080/"
        },
        "id": "e1oCAHi2aejx",
        "outputId": "f7f8b78b-d86a-4d13-be0a-b38402b9cfc7"
      },
      "execution_count": 85,
      "outputs": [
        {
          "output_type": "stream",
          "name": "stdout",
          "text": [
            "[51 92 14 71 60 20 82 86 74 74]\n",
            "[ True False False  True  True False False False  True  True]\n",
            "False\n",
            "False\n",
            "True\n",
            "True\n"
          ]
        }
      ]
    },
    {
      "cell_type": "markdown",
      "metadata": {
        "id": "u_5RBhqafT0h"
      },
      "source": [
        "A vantagem dos operadores do Numpy em contrapartida as funções do Python é a possibilidade de fazer isso em arrays multidimensionais, até mesmo selecionando eixos específicos."
      ]
    },
    {
      "cell_type": "code",
      "source": [
        "arr.reshape(2, 5) < 70"
      ],
      "metadata": {
        "colab": {
          "base_uri": "https://localhost:8080/"
        },
        "id": "3-ZApgeKbDKj",
        "outputId": "c54c1e03-c0f5-41c7-ed45-9e3d78d71b60"
      },
      "execution_count": 86,
      "outputs": [
        {
          "output_type": "execute_result",
          "data": {
            "text/plain": [
              "array([[ True, False,  True, False,  True],\n",
              "       [ True, False, False, False, False]])"
            ]
          },
          "metadata": {},
          "execution_count": 86
        }
      ]
    },
    {
      "cell_type": "code",
      "source": [
        "np.all(arr.reshape(2, 5) < 70)"
      ],
      "metadata": {
        "colab": {
          "base_uri": "https://localhost:8080/"
        },
        "id": "CmddHQI8bQrj",
        "outputId": "dc273036-5d6a-487f-8039-2699dbba002d"
      },
      "execution_count": 87,
      "outputs": [
        {
          "output_type": "execute_result",
          "data": {
            "text/plain": [
              "False"
            ]
          },
          "metadata": {},
          "execution_count": 87
        }
      ]
    },
    {
      "cell_type": "code",
      "source": [
        "np.all(arr.reshape(2, 5) < 70, axis = 0)"
      ],
      "metadata": {
        "colab": {
          "base_uri": "https://localhost:8080/"
        },
        "id": "AIWtinPxbYIC",
        "outputId": "0e7b58fa-3a21-48f2-9968-6a17329a8f7c"
      },
      "execution_count": 88,
      "outputs": [
        {
          "output_type": "execute_result",
          "data": {
            "text/plain": [
              "array([ True, False, False, False, False])"
            ]
          },
          "metadata": {},
          "execution_count": 88
        }
      ]
    },
    {
      "cell_type": "markdown",
      "metadata": {
        "id": "KZozKqb9fT0i"
      },
      "source": [
        "Por fim, vale destacar que as mesmas regras de broadcast que se aplicam a operações matemáticas se aplicam à operadores lógicos."
      ]
    },
    {
      "cell_type": "code",
      "source": [
        "arr.reshape(2, 5) > np.array([20, 30, 40, 50, 60])"
      ],
      "metadata": {
        "colab": {
          "base_uri": "https://localhost:8080/"
        },
        "id": "9ZzZU1IQbjJj",
        "outputId": "38ac7d70-71c6-4622-b637-0718c4523cde"
      },
      "execution_count": 89,
      "outputs": [
        {
          "output_type": "execute_result",
          "data": {
            "text/plain": [
              "array([[ True,  True, False,  True, False],\n",
              "       [False,  True,  True,  True,  True]])"
            ]
          },
          "metadata": {},
          "execution_count": 89
        }
      ]
    },
    {
      "cell_type": "code",
      "source": [
        "arr.reshape(2, 5, 1) > np.array([20, 30, 40, 50, 60])"
      ],
      "metadata": {
        "colab": {
          "base_uri": "https://localhost:8080/"
        },
        "id": "oD8KtVP1b1jS",
        "outputId": "283be563-c70f-4ad0-d5c7-ddfb0e02c13f"
      },
      "execution_count": 90,
      "outputs": [
        {
          "output_type": "execute_result",
          "data": {
            "text/plain": [
              "array([[[ True,  True,  True,  True, False],\n",
              "        [ True,  True,  True,  True,  True],\n",
              "        [False, False, False, False, False],\n",
              "        [ True,  True,  True,  True,  True],\n",
              "        [ True,  True,  True,  True, False]],\n",
              "\n",
              "       [[False, False, False, False, False],\n",
              "        [ True,  True,  True,  True,  True],\n",
              "        [ True,  True,  True,  True,  True],\n",
              "        [ True,  True,  True,  True,  True],\n",
              "        [ True,  True,  True,  True,  True]]])"
            ]
          },
          "metadata": {},
          "execution_count": 90
        }
      ]
    },
    {
      "cell_type": "markdown",
      "metadata": {
        "id": "IZwbkDbofT0p"
      },
      "source": [
        "###**Funções**<br>\n",
        "Ao longo das sessões anteriores nós já vimos uma série de funcionalidades úteis que podem ser utilizadas para realizar cálculos especiais, como np.cross, np.isnan e assim por diante. O Numpy é recheado dessas funções que nos ajudam a realizar todo o tipo de cálculo, como álgebra linear, estatística, funções matemáticas e mais.\n",
        "\n",
        "Poderíamos passar horas apenas só falando sobre essas diferentes funções, mas a verdade é que nós vamos nos familiarizando com elas conforme vamos aplicando-as em diferentes contexto.\n",
        "\n",
        "Abaixo nós agrupamos as funções que esperamos encontrar mais recorrentemente em nossos cálculos e colocamos alguns exemplos de como elas funcionam."
      ]
    },
    {
      "cell_type": "code",
      "source": [
        "np.random.seed(42)\n",
        "A = np.random.normal(loc=5, size=(5, 3))\n",
        "B = np.random.choice([\"A\", \"B\", \"C\"], size=(5,3))\n",
        "C = np.array([0, 1, 2, 0, 4, 5])\n",
        "D = np.random.normal(size=(5, 3))"
      ],
      "metadata": {
        "id": "ikk6BoFUcxtB"
      },
      "execution_count": 91,
      "outputs": []
    },
    {
      "cell_type": "markdown",
      "metadata": {
        "id": "3PfWMaoyfT0p"
      },
      "source": [
        "**Agregação**:\n",
        "- np.mean: Calcula a média\n",
        "- np.median: Calcula a mediana\n",
        "- np.min: Calcula o valor mínimo\n",
        "- np.max: Calcula o valor máximo\n",
        "- np.std: Calcula o desvio-padrão\n",
        "- np.var: Calcula a variância\n",
        "- np.percentile: Calcula o percentil específicado\n",
        "- np.sum: Calcula a soma de todos os elementos\n",
        "- np.count_nonzero: Realiza a contagem dos elementos não nulos do array\n",
        "- np.unique: Obtém os valores únicos de um array"
      ]
    },
    {
      "cell_type": "code",
      "source": [
        "print(A, np.mean(A))"
      ],
      "metadata": {
        "colab": {
          "base_uri": "https://localhost:8080/"
        },
        "id": "koAx9HiVdqkC",
        "outputId": "d07c5577-9748-42bf-bbc4-c8fe122a1c13"
      },
      "execution_count": 92,
      "outputs": [
        {
          "output_type": "stream",
          "name": "stdout",
          "text": [
            "[[5.49671415 4.8617357  5.64768854]\n",
            " [6.52302986 4.76584663 4.76586304]\n",
            " [6.57921282 5.76743473 4.53052561]\n",
            " [5.54256004 4.53658231 4.53427025]\n",
            " [5.24196227 3.08671976 3.27508217]] 5.010348524333337\n"
          ]
        }
      ]
    },
    {
      "cell_type": "code",
      "source": [
        "print(A, np.mean(A, axis=1))"
      ],
      "metadata": {
        "colab": {
          "base_uri": "https://localhost:8080/"
        },
        "id": "bFHKb3IGdzsw",
        "outputId": "2e4c3378-4220-4790-d5d9-215ca20bf5a6"
      },
      "execution_count": 93,
      "outputs": [
        {
          "output_type": "stream",
          "name": "stdout",
          "text": [
            "[[5.49671415 4.8617357  5.64768854]\n",
            " [6.52302986 4.76584663 4.76586304]\n",
            " [6.57921282 5.76743473 4.53052561]\n",
            " [5.54256004 4.53658231 4.53427025]\n",
            " [5.24196227 3.08671976 3.27508217]] [5.33537946 5.35157984 5.62572439 4.87113753 3.8679214 ]\n"
          ]
        }
      ]
    },
    {
      "cell_type": "code",
      "source": [
        "print(A, np.percentile(A, 0.25))"
      ],
      "metadata": {
        "colab": {
          "base_uri": "https://localhost:8080/"
        },
        "id": "gBC1OrQ1d3VS",
        "outputId": "c75b7d12-2acc-42c7-dd4e-3c29fcee11b2"
      },
      "execution_count": 94,
      "outputs": [
        {
          "output_type": "stream",
          "name": "stdout",
          "text": [
            "[[5.49671415 4.8617357  5.64768854]\n",
            " [6.52302986 4.76584663 4.76586304]\n",
            " [6.57921282 5.76743473 4.53052561]\n",
            " [5.54256004 4.53658231 4.53427025]\n",
            " [5.24196227 3.08671976 3.27508217]] 3.093312439767269\n"
          ]
        }
      ]
    },
    {
      "cell_type": "code",
      "source": [
        "print(B, np.unique(B))"
      ],
      "metadata": {
        "colab": {
          "base_uri": "https://localhost:8080/"
        },
        "id": "99QP0BGJd6HB",
        "outputId": "b6743b57-514c-4538-d09d-628353e61172"
      },
      "execution_count": 95,
      "outputs": [
        {
          "output_type": "stream",
          "name": "stdout",
          "text": [
            "[['C' 'C' 'B']\n",
            " ['C' 'B' 'B']\n",
            " ['C' 'B' 'C']\n",
            " ['C' 'A' 'C']\n",
            " ['A' 'C' 'C']] ['A' 'B' 'C']\n"
          ]
        }
      ]
    },
    {
      "cell_type": "code",
      "source": [
        "print(C, C.shape, np.count_nonzero(C))"
      ],
      "metadata": {
        "colab": {
          "base_uri": "https://localhost:8080/"
        },
        "id": "_4HE9EXUd_CB",
        "outputId": "6736a423-974c-4bb2-a770-f41348494649"
      },
      "execution_count": 96,
      "outputs": [
        {
          "output_type": "stream",
          "name": "stdout",
          "text": [
            "[0 1 2 0 4 5] (6,) 4\n"
          ]
        }
      ]
    },
    {
      "cell_type": "markdown",
      "metadata": {
        "id": "eVpoKbXAfT0r"
      },
      "source": [
        "**Transformação**:\n",
        "\n",
        "- np.ceil: Arredonda os valores de um array para cima\n",
        "- np.floor: Arredonda os valores de um array para baixo\n",
        "- np.round: Arredonda os valores de um array para as casas decimais desejadas\n",
        "- np.trunc: Remove as casas decimais do valor numérico\n",
        "- np.abs: Calcula o valor absoluto dos elementos\n",
        "- np.sign: Obtém os sinais dos números de um array"
      ]
    },
    {
      "cell_type": "code",
      "source": [
        "print(A, np.ceil(A))"
      ],
      "metadata": {
        "colab": {
          "base_uri": "https://localhost:8080/"
        },
        "id": "2kdIYQL7eI6h",
        "outputId": "edf49936-241d-4e19-a0ea-f90b5e7ebe33"
      },
      "execution_count": 97,
      "outputs": [
        {
          "output_type": "stream",
          "name": "stdout",
          "text": [
            "[[5.49671415 4.8617357  5.64768854]\n",
            " [6.52302986 4.76584663 4.76586304]\n",
            " [6.57921282 5.76743473 4.53052561]\n",
            " [5.54256004 4.53658231 4.53427025]\n",
            " [5.24196227 3.08671976 3.27508217]] [[6. 5. 6.]\n",
            " [7. 5. 5.]\n",
            " [7. 6. 5.]\n",
            " [6. 5. 5.]\n",
            " [6. 4. 4.]]\n"
          ]
        }
      ]
    },
    {
      "cell_type": "code",
      "source": [
        "print(A, np.round(A, 2))"
      ],
      "metadata": {
        "colab": {
          "base_uri": "https://localhost:8080/"
        },
        "id": "GpRmEaJleYtx",
        "outputId": "1a0c0572-fa99-44b8-8eb6-0e7df59cdc26"
      },
      "execution_count": 98,
      "outputs": [
        {
          "output_type": "stream",
          "name": "stdout",
          "text": [
            "[[5.49671415 4.8617357  5.64768854]\n",
            " [6.52302986 4.76584663 4.76586304]\n",
            " [6.57921282 5.76743473 4.53052561]\n",
            " [5.54256004 4.53658231 4.53427025]\n",
            " [5.24196227 3.08671976 3.27508217]] [[5.5  4.86 5.65]\n",
            " [6.52 4.77 4.77]\n",
            " [6.58 5.77 4.53]\n",
            " [5.54 4.54 4.53]\n",
            " [5.24 3.09 3.28]]\n"
          ]
        }
      ]
    },
    {
      "cell_type": "code",
      "source": [
        "print(A, np.trunc(A))"
      ],
      "metadata": {
        "colab": {
          "base_uri": "https://localhost:8080/"
        },
        "id": "nIPwsuqwek6s",
        "outputId": "a5f926f9-fd24-469f-cbbf-6cfe030a5017"
      },
      "execution_count": 99,
      "outputs": [
        {
          "output_type": "stream",
          "name": "stdout",
          "text": [
            "[[5.49671415 4.8617357  5.64768854]\n",
            " [6.52302986 4.76584663 4.76586304]\n",
            " [6.57921282 5.76743473 4.53052561]\n",
            " [5.54256004 4.53658231 4.53427025]\n",
            " [5.24196227 3.08671976 3.27508217]] [[5. 4. 5.]\n",
            " [6. 4. 4.]\n",
            " [6. 5. 4.]\n",
            " [5. 4. 4.]\n",
            " [5. 3. 3.]]\n"
          ]
        }
      ]
    },
    {
      "cell_type": "code",
      "source": [
        "print(D, np.sign(D))"
      ],
      "metadata": {
        "colab": {
          "base_uri": "https://localhost:8080/"
        },
        "id": "xFFxYEszeqCB",
        "outputId": "4c6bd7a7-e47f-4d05-db02-6f87899c0639"
      },
      "execution_count": 100,
      "outputs": [
        {
          "output_type": "stream",
          "name": "stdout",
          "text": [
            "[[-0.56228753 -0.60025385  0.94743982]\n",
            " [ 0.291034   -0.63555974 -1.02155219]\n",
            " [-0.16175539 -0.5336488  -0.00552786]\n",
            " [-0.22945045  0.38934891 -1.26511911]\n",
            " [ 1.09199226  2.77831304  1.19363972]] [[-1. -1.  1.]\n",
            " [ 1. -1. -1.]\n",
            " [-1. -1. -1.]\n",
            " [-1.  1. -1.]\n",
            " [ 1.  1.  1.]]\n"
          ]
        }
      ]
    },
    {
      "cell_type": "markdown",
      "metadata": {
        "id": "-kAi26rcfT0s"
      },
      "source": [
        "**Função Matemática**:\n",
        "\n",
        "- np.exp: Realiza a exponenciação dos elementos\n",
        "- np.log: Aplica o log sobre os elementos\n",
        "- np.expm1: Aplica a função exp(x) - 1 sobre os elementos\n",
        "- np.log1p: Aplica a função log(x + 1) sobre os elementos\n",
        "- np.power: Eleva os elementos do array a uma potência\n",
        "- np.sqrt: Extraí a raíz quadrada dos números de um array\n",
        "- np.sin/cos/tan: Aplica a função seno/cosseno/tangente sobre os elementos\n",
        "- np.asin/acos/atan: Aplica a função de arc seno/cosseno/tangente sobre os elementos"
      ]
    },
    {
      "cell_type": "code",
      "source": [
        "np.log(A)"
      ],
      "metadata": {
        "colab": {
          "base_uri": "https://localhost:8080/"
        },
        "id": "fU4RgxOTe6XJ",
        "outputId": "56f1f277-3791-4844-ade1-c3fd12bea043"
      },
      "execution_count": 101,
      "outputs": [
        {
          "output_type": "execute_result",
          "data": {
            "text/plain": [
              "array([[1.70415049, 1.58139551, 1.73124635],\n",
              "       [1.87533897, 1.5614752 , 1.56147864],\n",
              "       [1.88391511, 1.75222739, 1.51083796],\n",
              "       [1.7124565 , 1.51217393, 1.51166415],\n",
              "       [1.65669591, 1.12710896, 1.18634296]])"
            ]
          },
          "metadata": {},
          "execution_count": 101
        }
      ]
    },
    {
      "cell_type": "code",
      "source": [
        "np.sin(D)"
      ],
      "metadata": {
        "colab": {
          "base_uri": "https://localhost:8080/"
        },
        "id": "7VL-HIT1e67h",
        "outputId": "3c2900ec-2b4d-4ea1-b62f-c10e6929dbce"
      },
      "execution_count": 102,
      "outputs": [
        {
          "output_type": "execute_result",
          "data": {
            "text/plain": [
              "array([[-0.53312293, -0.56485197,  0.81192363],\n",
              "       [ 0.2869429 , -0.59362805, -0.85291936],\n",
              "       [-0.16105093, -0.50867818, -0.00552783],\n",
              "       [-0.22744241,  0.37958614, -0.95364337],\n",
              "       [ 0.88754655,  0.35534171,  0.92971555]])"
            ]
          },
          "metadata": {},
          "execution_count": 102
        }
      ]
    },
    {
      "cell_type": "markdown",
      "metadata": {
        "id": "zrt23Os4fT0t"
      },
      "source": [
        "**Elemento a Elemento**\n",
        "- np.diff: Obtém a diferença entre valores sequenciais do array\n",
        "- np.cumsum: Obtém a soma dos valores cumulativos\n",
        "- np.cummin: Obtém o valor mínimo cumulativo do array\n",
        "- np.cummax: Obtém o valor máximo cumulativo do array\n",
        "- np.cumprod: Obtém o valor produto cumulativo do array"
      ]
    },
    {
      "cell_type": "code",
      "source": [
        "print(C, np.diff(C))"
      ],
      "metadata": {
        "colab": {
          "base_uri": "https://localhost:8080/"
        },
        "id": "k3VJizjtfHUb",
        "outputId": "84be693e-2565-493b-d24c-72f7b5306e8c"
      },
      "execution_count": 103,
      "outputs": [
        {
          "output_type": "stream",
          "name": "stdout",
          "text": [
            "[0 1 2 0 4 5] [ 1  1 -2  4  1]\n"
          ]
        }
      ]
    },
    {
      "cell_type": "code",
      "source": [
        "print(C, np.cumsum(C))"
      ],
      "metadata": {
        "colab": {
          "base_uri": "https://localhost:8080/"
        },
        "id": "u4rj9FASfRBZ",
        "outputId": "e863aaa1-94f2-4552-f6cb-f13d6c5c4ebf"
      },
      "execution_count": 104,
      "outputs": [
        {
          "output_type": "stream",
          "name": "stdout",
          "text": [
            "[0 1 2 0 4 5] [ 0  1  3  3  7 12]\n"
          ]
        }
      ]
    },
    {
      "cell_type": "markdown",
      "source": [
        "###**Vetorização**<br>\n",
        "Apesar do Numpy ter muitas funções pré-definidas, muitas vezes teremos que criar tratamentos de dados específicos e aplicar essas transformações para os arrays.<br>\n",
        "Para fazer isso de forma eficiente o Numpy conta com algumas funcionalidades de vetorização de funções. Na verdade as funções pré-definidas que trabalhamos (np.sum, np.mean, etc.) nada mais são do que a versão vetorizada de funções conhecidas do Python referente a biblioteca math."
      ],
      "metadata": {
        "id": "X1yUcV2Fg6x2"
      }
    },
    {
      "cell_type": "code",
      "source": [
        "%%timeit\n",
        "sum(np.arange(5000))"
      ],
      "metadata": {
        "colab": {
          "base_uri": "https://localhost:8080/"
        },
        "id": "x5I2Rl55huzC",
        "outputId": "92318d40-8329-4d27-b12b-f925ef2eced7"
      },
      "execution_count": 105,
      "outputs": [
        {
          "output_type": "stream",
          "name": "stdout",
          "text": [
            "679 µs ± 232 µs per loop (mean ± std. dev. of 7 runs, 1000 loops each)\n"
          ]
        }
      ]
    },
    {
      "cell_type": "code",
      "source": [
        "%%timeit\n",
        "np.sum(np.arange(5000))"
      ],
      "metadata": {
        "colab": {
          "base_uri": "https://localhost:8080/"
        },
        "id": "FIm8pFEShxqS",
        "outputId": "a9690a07-9c59-425f-ec59-2273fcd7ab06"
      },
      "execution_count": 106,
      "outputs": [
        {
          "output_type": "stream",
          "name": "stdout",
          "text": [
            "21.6 µs ± 5.38 µs per loop (mean ± std. dev. of 7 runs, 10000 loops each)\n"
          ]
        }
      ]
    },
    {
      "cell_type": "markdown",
      "source": [
        "Entretanto o numpy nos oferece a flexibilidade de criar nossas próprias funções através de algumas funções específicas.<br><br>\n",
        "np.vectorize -> Define uma função vetorizada que leva uma sequência aninhada de objetos ou matrizes numpy como entradas e retorna uma única matriz numpy ou uma tupla de numpy matrizes. A função vetorizada avalia `pyfunc` em tuplas sucessivas das matrizes de entrada como a função de mapa python, exceto que usa o regras de transmissão de numpy."
      ],
      "metadata": {
        "id": "WXk95xeCiNQP"
      }
    },
    {
      "cell_type": "code",
      "source": [
        "func = np.vectorize(\n",
        "    pyfunc=lambda a, b: a + b if a < b else a - b,\n",
        "    otypes=[float],\n",
        "    doc=\"\"\"\n",
        "Dados dois arrays a e b calcula o valor da soma\n",
        "dos dois caso a < b e a subtração caso contrário\n",
        "\n",
        ":param a: array de dados a\n",
        ":param b: array de dados b\n",
        ":return: array com resultado da operação\n",
        "\"\"\",\n",
        "    cache=False,\n",
        "    # signature=\"(n), (m) -> (k)\"\n",
        ")"
      ],
      "metadata": {
        "id": "2khqsPxdh3cg"
      },
      "execution_count": 107,
      "outputs": []
    },
    {
      "cell_type": "code",
      "source": [
        "func(1, 2)"
      ],
      "metadata": {
        "colab": {
          "base_uri": "https://localhost:8080/"
        },
        "id": "ADGMIqz9ievz",
        "outputId": "e35a5a61-f808-41ed-b3c1-2c7f9591964a"
      },
      "execution_count": 108,
      "outputs": [
        {
          "output_type": "execute_result",
          "data": {
            "text/plain": [
              "array(3.)"
            ]
          },
          "metadata": {},
          "execution_count": 108
        }
      ]
    },
    {
      "cell_type": "code",
      "source": [
        "func(3, 1)"
      ],
      "metadata": {
        "colab": {
          "base_uri": "https://localhost:8080/"
        },
        "id": "xaDYYGbuinaq",
        "outputId": "cd9f756c-2f68-4200-ee5a-ec33ee89c97c"
      },
      "execution_count": 109,
      "outputs": [
        {
          "output_type": "execute_result",
          "data": {
            "text/plain": [
              "array(2.)"
            ]
          },
          "metadata": {},
          "execution_count": 109
        }
      ]
    },
    {
      "cell_type": "code",
      "source": [
        "func(np.array([1, 5, 3]), np.array([2, 4, 6]))"
      ],
      "metadata": {
        "colab": {
          "base_uri": "https://localhost:8080/"
        },
        "id": "1zUySqOPis7O",
        "outputId": "bb5a21be-49db-443e-a7a9-9332f266b5be"
      },
      "execution_count": 110,
      "outputs": [
        {
          "output_type": "execute_result",
          "data": {
            "text/plain": [
              "array([3., 1., 9.])"
            ]
          },
          "metadata": {},
          "execution_count": 110
        }
      ]
    },
    {
      "cell_type": "code",
      "source": [
        "func = np.vectorize(\n",
        "    pyfunc=lambda x: 1 / (1 + np.exp(-x)),\n",
        "    otypes=[float],\n",
        "    doc=\"\"\"\n",
        "Aplica a transformação sigmoid sob o array\n",
        "\n",
        ":param x: array de dados\n",
        ":return: array de dados transformados\n",
        "\"\"\",\n",
        "    cache=False,\n",
        "    signature=\"(n)->(n)\"\n",
        ")"
      ],
      "metadata": {
        "id": "fhgldFMhizlJ"
      },
      "execution_count": 111,
      "outputs": []
    },
    {
      "cell_type": "code",
      "source": [
        "func(np.array([2, 3, 4]))"
      ],
      "metadata": {
        "colab": {
          "base_uri": "https://localhost:8080/"
        },
        "id": "9bfqa709i4_U",
        "outputId": "e9de96ff-5c64-4981-dae9-38849f65044a"
      },
      "execution_count": 112,
      "outputs": [
        {
          "output_type": "execute_result",
          "data": {
            "text/plain": [
              "array([0.88079708, 0.95257413, 0.98201379])"
            ]
          },
          "metadata": {},
          "execution_count": 112
        }
      ]
    },
    {
      "cell_type": "markdown",
      "source": [
        "np.apply_along_axis -> Aplica uma função a um slice 1-D de um array."
      ],
      "metadata": {
        "id": "-J6XSJ1Vi9G7"
      }
    },
    {
      "cell_type": "code",
      "source": [
        "np.apply_along_axis(\n",
        "    func1d=lambda x: 1 / (1 + np.exp(-x)),\n",
        "    axis=0,\n",
        "    arr=np.array([2, 3, 4])\n",
        ")"
      ],
      "metadata": {
        "colab": {
          "base_uri": "https://localhost:8080/"
        },
        "id": "mKhC515ajDjA",
        "outputId": "3091631f-c820-48ac-eff4-6cb07226b1ef"
      },
      "execution_count": 113,
      "outputs": [
        {
          "output_type": "execute_result",
          "data": {
            "text/plain": [
              "array([0.88079708, 0.95257413, 0.98201379])"
            ]
          },
          "metadata": {},
          "execution_count": 113
        }
      ]
    },
    {
      "cell_type": "markdown",
      "source": [
        "A dúvida que você deve ter é porque usar? Bom, geralmente porque para operações simples ela costuma ser mais eficiente."
      ],
      "metadata": {
        "id": "XHxexVgtjNJ3"
      }
    },
    {
      "cell_type": "code",
      "source": [
        "%%timeit\n",
        "func(np.array([2, 3, 4]))"
      ],
      "metadata": {
        "colab": {
          "base_uri": "https://localhost:8080/"
        },
        "id": "DP7XQI14jPvy",
        "outputId": "b11b8fd5-b51c-4d6b-e91b-ece92e93ec6d"
      },
      "execution_count": 114,
      "outputs": [
        {
          "output_type": "stream",
          "name": "stdout",
          "text": [
            "342 µs ± 103 µs per loop (mean ± std. dev. of 7 runs, 1000 loops each)\n"
          ]
        }
      ]
    },
    {
      "cell_type": "code",
      "source": [
        "%%timeit\n",
        "np.apply_along_axis(\n",
        "    func1d=lambda x: 1 / (1 + np.exp(-x)),\n",
        "    axis=0,\n",
        "    arr=np.array([2, 3, 4])\n",
        ")"
      ],
      "metadata": {
        "colab": {
          "base_uri": "https://localhost:8080/"
        },
        "id": "qXTQkIqFjR-w",
        "outputId": "e52bb13c-9148-450e-a1f6-989651562a9a"
      },
      "execution_count": 115,
      "outputs": [
        {
          "output_type": "stream",
          "name": "stdout",
          "text": [
            "83.8 µs ± 22.5 µs per loop (mean ± std. dev. of 7 runs, 10000 loops each)\n"
          ]
        }
      ]
    },
    {
      "cell_type": "markdown",
      "source": [
        "np.apply_over_axes -> Aplica uma função entre múltiplos eixos."
      ],
      "metadata": {
        "id": "BO7t6U43jYQN"
      }
    },
    {
      "cell_type": "code",
      "source": [
        "np.apply_over_axes(\n",
        "    func=lambda x, axes: x.any(axes),\n",
        "    axes=(2, 1),\n",
        "    a=np.random.choice([True, False], size=(10, 5, 3))\n",
        ")"
      ],
      "metadata": {
        "colab": {
          "base_uri": "https://localhost:8080/"
        },
        "id": "ZF_x_QjtjagI",
        "outputId": "296934b6-0d64-4a93-ac73-8f6f500fc71e"
      },
      "execution_count": 116,
      "outputs": [
        {
          "output_type": "execute_result",
          "data": {
            "text/plain": [
              "array([[[ True]],\n",
              "\n",
              "       [[ True]],\n",
              "\n",
              "       [[ True]],\n",
              "\n",
              "       [[ True]],\n",
              "\n",
              "       [[ True]],\n",
              "\n",
              "       [[ True]],\n",
              "\n",
              "       [[ True]],\n",
              "\n",
              "       [[ True]],\n",
              "\n",
              "       [[ True]],\n",
              "\n",
              "       [[ True]]])"
            ]
          },
          "metadata": {},
          "execution_count": 116
        }
      ]
    },
    {
      "cell_type": "markdown",
      "source": [
        "###**Concatenação**<br>\n",
        "\n",
        "Apesar de serem imutáveis, arrays podem ser concatenados para formar novos arrays por meio de funções específicas da biblioteca.<br>\n",
        "\n",
        "np.concatenate -> Concatena dois arrays ao longo de um eixo determinado."
      ],
      "metadata": {
        "id": "nzf_0jY-jsLY"
      }
    },
    {
      "cell_type": "code",
      "source": [
        "a = np.array([1, 2, 3])\n",
        "b = np.array([4, 5, 6])\n",
        "print(np.concatenate([a, b]))"
      ],
      "metadata": {
        "colab": {
          "base_uri": "https://localhost:8080/"
        },
        "id": "69bJg9dTj6DD",
        "outputId": "6669b9eb-7a68-4949-84f8-f700e2baffc6"
      },
      "execution_count": 117,
      "outputs": [
        {
          "output_type": "stream",
          "name": "stdout",
          "text": [
            "[1 2 3 4 5 6]\n"
          ]
        }
      ]
    },
    {
      "cell_type": "code",
      "source": [
        "print(np.concatenate([a, b], axis=0))"
      ],
      "metadata": {
        "colab": {
          "base_uri": "https://localhost:8080/"
        },
        "id": "yUA18PTAkVnI",
        "outputId": "39adf591-cdb1-4147-dab0-670a9fe8c1db"
      },
      "execution_count": 118,
      "outputs": [
        {
          "output_type": "stream",
          "name": "stdout",
          "text": [
            "[1 2 3 4 5 6]\n"
          ]
        }
      ]
    },
    {
      "cell_type": "code",
      "source": [
        "a = np.array([[1, 2, 3]])\n",
        "b = np.array([[4, 5, 6]])\n",
        "print(np.concatenate([a, b]))\n",
        "print(np.concatenate([a, b], axis=0))\n",
        "print(np.concatenate([a, b], axis=1))"
      ],
      "metadata": {
        "colab": {
          "base_uri": "https://localhost:8080/"
        },
        "id": "jPkAz-RNkBPy",
        "outputId": "521311e1-6898-46f2-fc24-21a8ef140b3f"
      },
      "execution_count": 119,
      "outputs": [
        {
          "output_type": "stream",
          "name": "stdout",
          "text": [
            "[[1 2 3]\n",
            " [4 5 6]]\n",
            "[[1 2 3]\n",
            " [4 5 6]]\n",
            "[[1 2 3 4 5 6]]\n"
          ]
        }
      ]
    },
    {
      "cell_type": "markdown",
      "source": [
        "np.vstack -> Empilha arrays verticalmente (linha a linha)."
      ],
      "metadata": {
        "id": "27njTFofkbiX"
      }
    },
    {
      "cell_type": "code",
      "source": [
        "a = np.array([1, 2, 3])\n",
        "b = np.array([4, 5, 6])\n",
        "print(np.vstack([a, b]))"
      ],
      "metadata": {
        "colab": {
          "base_uri": "https://localhost:8080/"
        },
        "id": "MybsRH0fkesI",
        "outputId": "32f13162-a935-4392-8da4-55e4bd88750b"
      },
      "execution_count": 120,
      "outputs": [
        {
          "output_type": "stream",
          "name": "stdout",
          "text": [
            "[[1 2 3]\n",
            " [4 5 6]]\n"
          ]
        }
      ]
    },
    {
      "cell_type": "code",
      "source": [
        "a = np.array([[1, 2, 3]])\n",
        "b = np.array([[4, 5, 6]])\n",
        "print(np.vstack([a, b]))"
      ],
      "metadata": {
        "colab": {
          "base_uri": "https://localhost:8080/"
        },
        "id": "zlKAFSBwkhYp",
        "outputId": "03c1e857-da83-41f1-beb2-89ea7ef29841"
      },
      "execution_count": 121,
      "outputs": [
        {
          "output_type": "stream",
          "name": "stdout",
          "text": [
            "[[1 2 3]\n",
            " [4 5 6]]\n"
          ]
        }
      ]
    },
    {
      "cell_type": "code",
      "source": [
        "a = np.array([[1, 2, 3], [4, 5, 6]])\n",
        "b = np.array([[7, 8, 9], [10, 11, 12]])\n",
        "print(np.vstack([a, b]))"
      ],
      "metadata": {
        "colab": {
          "base_uri": "https://localhost:8080/"
        },
        "id": "zwLv8yIfklij",
        "outputId": "a3f1e88a-5897-4da9-e5cb-54e70d7e31af"
      },
      "execution_count": 122,
      "outputs": [
        {
          "output_type": "stream",
          "name": "stdout",
          "text": [
            "[[ 1  2  3]\n",
            " [ 4  5  6]\n",
            " [ 7  8  9]\n",
            " [10 11 12]]\n"
          ]
        }
      ]
    },
    {
      "cell_type": "code",
      "source": [
        "a = np.array([[1, 2, 3], [4, 5, 6]])\n",
        "b = np.array([[7, 8, 9]])\n",
        "print(np.vstack([a, b]))"
      ],
      "metadata": {
        "colab": {
          "base_uri": "https://localhost:8080/"
        },
        "id": "dnEJOVmskxrR",
        "outputId": "51aa0319-40ff-48be-f253-288f622f1f4a"
      },
      "execution_count": 123,
      "outputs": [
        {
          "output_type": "stream",
          "name": "stdout",
          "text": [
            "[[1 2 3]\n",
            " [4 5 6]\n",
            " [7 8 9]]\n"
          ]
        }
      ]
    },
    {
      "cell_type": "markdown",
      "source": [
        "np.hstack -> Empilha arrays horizontalmente (coluna a coluna)."
      ],
      "metadata": {
        "id": "JBbCFhawk17q"
      }
    },
    {
      "cell_type": "code",
      "source": [
        "a = np.array([1, 2, 3])\n",
        "b = np.array([4, 5, 6])\n",
        "print(np.hstack([a, b]))"
      ],
      "metadata": {
        "colab": {
          "base_uri": "https://localhost:8080/"
        },
        "id": "c6VK36NBk3jU",
        "outputId": "789ed395-9e8b-4819-ab3c-a44ccb0cf60c"
      },
      "execution_count": 124,
      "outputs": [
        {
          "output_type": "stream",
          "name": "stdout",
          "text": [
            "[1 2 3 4 5 6]\n"
          ]
        }
      ]
    },
    {
      "cell_type": "code",
      "source": [
        "a = np.array([[1, 2, 3]])\n",
        "b = np.array([[4, 5, 6]])\n",
        "print(np.hstack([a, b]))"
      ],
      "metadata": {
        "colab": {
          "base_uri": "https://localhost:8080/"
        },
        "id": "nR8syFSsk5ZM",
        "outputId": "3dfd4c87-282a-43ae-9561-308539eb9a9c"
      },
      "execution_count": 125,
      "outputs": [
        {
          "output_type": "stream",
          "name": "stdout",
          "text": [
            "[[1 2 3 4 5 6]]\n"
          ]
        }
      ]
    },
    {
      "cell_type": "code",
      "source": [
        "a = np.array([[1, 2, 3], [4, 5, 6]])\n",
        "b = np.array([[7, 8, 9], [10, 11, 12]])\n",
        "print(np.hstack([a, b]))"
      ],
      "metadata": {
        "colab": {
          "base_uri": "https://localhost:8080/"
        },
        "id": "L5CX4e_Sk60J",
        "outputId": "bde6058d-8ac9-4037-91f1-83f93d10c64b"
      },
      "execution_count": 126,
      "outputs": [
        {
          "output_type": "stream",
          "name": "stdout",
          "text": [
            "[[ 1  2  3  7  8  9]\n",
            " [ 4  5  6 10 11 12]]\n"
          ]
        }
      ]
    },
    {
      "cell_type": "code",
      "source": [
        "a = np.array([[1, 2, 3], [4, 5, 6]])\n",
        "b = np.array([[7], [10]])\n",
        "print(np.hstack([a, b]))"
      ],
      "metadata": {
        "colab": {
          "base_uri": "https://localhost:8080/"
        },
        "id": "p1P_iQMdlEDa",
        "outputId": "d9b140c8-474a-4e57-927c-8d6a51e200b8"
      },
      "execution_count": 127,
      "outputs": [
        {
          "output_type": "stream",
          "name": "stdout",
          "text": [
            "[[ 1  2  3  7]\n",
            " [ 4  5  6 10]]\n"
          ]
        }
      ]
    },
    {
      "cell_type": "markdown",
      "source": [
        "np.append -> Adiciona um novo elemento ao final de um array. Se o array for > 1-D, converte o array para 1-D."
      ],
      "metadata": {
        "id": "akCRNXHflH6t"
      }
    },
    {
      "cell_type": "code",
      "source": [
        "a = np.array([1, 2, 3])\n",
        "b = np.array([4, 5, 6])\n",
        "print(np.append(a, b))"
      ],
      "metadata": {
        "colab": {
          "base_uri": "https://localhost:8080/"
        },
        "id": "U5Y5VIrQlPEo",
        "outputId": "2ab25f95-f807-4dd2-9edf-885835d1370a"
      },
      "execution_count": 128,
      "outputs": [
        {
          "output_type": "stream",
          "name": "stdout",
          "text": [
            "[1 2 3 4 5 6]\n"
          ]
        }
      ]
    },
    {
      "cell_type": "code",
      "source": [
        "a = np.array([[1, 2, 3]])\n",
        "b = np.array([[4, 5, 6]])\n",
        "print(np.append(a, b))"
      ],
      "metadata": {
        "colab": {
          "base_uri": "https://localhost:8080/"
        },
        "id": "kCcRpybDlRGf",
        "outputId": "52b83401-4733-43a9-b60b-519e735a1ca1"
      },
      "execution_count": 129,
      "outputs": [
        {
          "output_type": "stream",
          "name": "stdout",
          "text": [
            "[1 2 3 4 5 6]\n"
          ]
        }
      ]
    },
    {
      "cell_type": "code",
      "source": [
        "a = np.array([[1, 2, 3], [4, 5, 6]])\n",
        "b = np.array([[7, 8, 9], [10, 11, 12]])\n",
        "print(np.append(a, b))"
      ],
      "metadata": {
        "colab": {
          "base_uri": "https://localhost:8080/"
        },
        "id": "SSib3b-3lUgb",
        "outputId": "bda7e485-92d9-42b4-9c6a-43bcb18dbf34"
      },
      "execution_count": 130,
      "outputs": [
        {
          "output_type": "stream",
          "name": "stdout",
          "text": [
            "[ 1  2  3  4  5  6  7  8  9 10 11 12]\n"
          ]
        }
      ]
    },
    {
      "cell_type": "code",
      "source": [
        "a = np.array([[1, 2, 3], [4, 5, 6]])\n",
        "b = np.array([[7, 8], [10, 11]])\n",
        "print(np.append(a, b))"
      ],
      "metadata": {
        "colab": {
          "base_uri": "https://localhost:8080/"
        },
        "id": "JS5ATeZKlaPo",
        "outputId": "4360e5cb-bca6-40ef-8190-c9a8a7a6f4fa"
      },
      "execution_count": 131,
      "outputs": [
        {
          "output_type": "stream",
          "name": "stdout",
          "text": [
            "[ 1  2  3  4  5  6  7  8 10 11]\n"
          ]
        }
      ]
    },
    {
      "cell_type": "code",
      "source": [
        "print(a, a.flatten())"
      ],
      "metadata": {
        "colab": {
          "base_uri": "https://localhost:8080/"
        },
        "id": "rHQuhgFJlfN3",
        "outputId": "d9760bae-0d53-4ec3-c5de-c9b9553c7880"
      },
      "execution_count": 132,
      "outputs": [
        {
          "output_type": "stream",
          "name": "stdout",
          "text": [
            "[[1 2 3]\n",
            " [4 5 6]] [1 2 3 4 5 6]\n"
          ]
        }
      ]
    }
  ]
}