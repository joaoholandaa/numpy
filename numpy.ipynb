{
  "nbformat": 4,
  "nbformat_minor": 0,
  "metadata": {
    "colab": {
      "provenance": [],
      "authorship_tag": "ABX9TyMH51SndPSFN+l/yR6RP9wz",
      "include_colab_link": true
    },
    "kernelspec": {
      "name": "python3",
      "display_name": "Python 3"
    },
    "language_info": {
      "name": "python"
    }
  },
  "cells": [
    {
      "cell_type": "markdown",
      "metadata": {
        "id": "view-in-github",
        "colab_type": "text"
      },
      "source": [
        "<a href=\"https://colab.research.google.com/github/joaoholandaa/numpy/blob/main/numpy.ipynb\" target=\"_parent\"><img src=\"https://colab.research.google.com/assets/colab-badge.svg\" alt=\"Open In Colab\"/></a>"
      ]
    },
    {
      "cell_type": "markdown",
      "source": [
        "#**Numpy**"
      ],
      "metadata": {
        "id": "E9m2x6pVIqWl"
      }
    },
    {
      "cell_type": "code",
      "execution_count": 1,
      "metadata": {
        "id": "85gjMTAdEuet"
      },
      "outputs": [],
      "source": [
        "import os\n",
        "import numpy as np\n",
        "import pandas as pd\n",
        "\n",
        "from pathlib import Path\n",
        "\n",
        "%config Completer.use_jedi = False"
      ]
    },
    {
      "cell_type": "markdown",
      "source": [
        "##**Criação**<br>\n",
        "Array são objetos que armazenam estruturas sequênciais de dados de tipo e tamanhos determinados que apontam para uma sequência de dados na memória RAM. Em Python, a biblioteca que lida com essas estruturas é o Numpy que não só oferece as funcionalidades clássicas de um array (que pode ser vistas em C, C++, Java...), mas também propriedades vetoriais utilizadas em operações em álgebra linear. <br> <br>\n",
        "Criar um array é uma tarefa simples, que pode ser realizada por meio de uma lista como abaixo."
      ],
      "metadata": {
        "id": "cKLwX1QQJAQ8"
      }
    },
    {
      "cell_type": "code",
      "source": [
        "array = np.array([1, 2, 3, 4, 5])\n",
        "array"
      ],
      "metadata": {
        "colab": {
          "base_uri": "https://localhost:8080/"
        },
        "id": "RtV68iEVJ1qF",
        "outputId": "d4926407-9dbc-496c-af7f-3568bbdaa09e"
      },
      "execution_count": 2,
      "outputs": [
        {
          "output_type": "execute_result",
          "data": {
            "text/plain": [
              "array([1, 2, 3, 4, 5])"
            ]
          },
          "metadata": {},
          "execution_count": 2
        }
      ]
    },
    {
      "cell_type": "code",
      "source": [
        "matriz = np.array([[1, 2, 3], [4, 5, 6]])\n",
        "matriz"
      ],
      "metadata": {
        "colab": {
          "base_uri": "https://localhost:8080/"
        },
        "id": "p614JJ8zKBJy",
        "outputId": "391e6a21-c0ce-4c56-8539-5aa9fa266298"
      },
      "execution_count": 3,
      "outputs": [
        {
          "output_type": "execute_result",
          "data": {
            "text/plain": [
              "array([[1, 2, 3],\n",
              "       [4, 5, 6]])"
            ]
          },
          "metadata": {},
          "execution_count": 3
        }
      ]
    },
    {
      "cell_type": "markdown",
      "source": [
        "Ao fazer isso estaremos alocando os valores selecionados dentro da RAM do computador em endereços sequênciais, igualmente espaçados de acordo com o tipo de dado do array.<br><br>\n",
        "\n",
        "Dado isso, é fácil perceber que um array tem as seguintes características que podem ser acessadas na forma de atributos deste objeto:\n",
        "\n",
        "- dtype: O tipo de dados do array\n",
        "- shape: O tamanho do array em linhas e colunas\n",
        "- size: O tamanho do array em quantidade de elementos\n",
        "- itemsize: O consumo de memória de cada elemento do array (em bytes)\n",
        "- strides: Uma distancia em bytes entre os elementos armazenados na memória"
      ],
      "metadata": {
        "id": "uZrcoQIsKYT_"
      }
    },
    {
      "cell_type": "code",
      "source": [
        "print(\n",
        "    f\"array: dtype={array.dtype} | shape={array.shape} | size={array.size} \"\n",
        "    f\"| itemsize={array.itemsize} | strides={array.strides}\"\n",
        ")\n",
        "\n",
        "print(\n",
        "    f\"matriz: dtype={matriz.dtype} | shape={matriz.shape} | size={matriz.size} \"\n",
        "    f\"| itemsize={matriz.itemsize} | strides={matriz.strides}\"\n",
        ")"
      ],
      "metadata": {
        "colab": {
          "base_uri": "https://localhost:8080/"
        },
        "id": "2YJXV9vQKFxt",
        "outputId": "f99ef8c0-4223-4342-c624-7982f5942e5b"
      },
      "execution_count": 4,
      "outputs": [
        {
          "output_type": "stream",
          "name": "stdout",
          "text": [
            "array: dtype=int64 | shape=(5,) | size=5 | itemsize=8 | strides=(8,)\n",
            "matriz: dtype=int64 | shape=(2, 3) | size=6 | itemsize=8 | strides=(24, 8)\n"
          ]
        }
      ]
    },
    {
      "cell_type": "markdown",
      "source": [
        "Dado que inicializações de diferentes tipos de array são bastante comuns, a biblioteza contém uma série de funcionalidades que permitem criar arrays com diferentes tipos de dados. <br><br>\n",
        "**np.zeros** -> Cria um array preenchido com zeros."
      ],
      "metadata": {
        "id": "ZoJ3ljSILjXw"
      }
    },
    {
      "cell_type": "code",
      "source": [
        "np.zeros(shape=(3, 2))"
      ],
      "metadata": {
        "colab": {
          "base_uri": "https://localhost:8080/"
        },
        "id": "7BsRmwqBL7E8",
        "outputId": "b7a06192-b57b-4c3f-8f30-afa4b12f9d10"
      },
      "execution_count": 5,
      "outputs": [
        {
          "output_type": "execute_result",
          "data": {
            "text/plain": [
              "array([[0., 0.],\n",
              "       [0., 0.],\n",
              "       [0., 0.]])"
            ]
          },
          "metadata": {},
          "execution_count": 5
        }
      ]
    },
    {
      "cell_type": "markdown",
      "source": [
        "**np.ones** -> Cria um array preenchido com \"um's\"."
      ],
      "metadata": {
        "id": "lxCWwko9L-ra"
      }
    },
    {
      "cell_type": "code",
      "source": [
        "np.ones(shape=(3, ))"
      ],
      "metadata": {
        "colab": {
          "base_uri": "https://localhost:8080/"
        },
        "id": "uXj3UoNUMLPU",
        "outputId": "98a817fc-5b8f-40a6-e7bd-0b3450fdffbf"
      },
      "execution_count": 6,
      "outputs": [
        {
          "output_type": "execute_result",
          "data": {
            "text/plain": [
              "array([1., 1., 1.])"
            ]
          },
          "metadata": {},
          "execution_count": 6
        }
      ]
    },
    {
      "cell_type": "markdown",
      "source": [
        "**np.eye** -> Cria a matriz identidade com o tamanho especificado."
      ],
      "metadata": {
        "id": "mLz6wyVsN5Ey"
      }
    },
    {
      "cell_type": "code",
      "source": [
        "np.eye(4)"
      ],
      "metadata": {
        "colab": {
          "base_uri": "https://localhost:8080/"
        },
        "id": "Unw5Sz4eOEKK",
        "outputId": "30c378cc-df95-41c8-af25-5e0b337f5495"
      },
      "execution_count": 7,
      "outputs": [
        {
          "output_type": "execute_result",
          "data": {
            "text/plain": [
              "array([[1., 0., 0., 0.],\n",
              "       [0., 1., 0., 0.],\n",
              "       [0., 0., 1., 0.],\n",
              "       [0., 0., 0., 1.]])"
            ]
          },
          "metadata": {},
          "execution_count": 7
        }
      ]
    },
    {
      "cell_type": "markdown",
      "source": [
        "**np.arange** -> Mesma coisa que a função range, só que para arrays."
      ],
      "metadata": {
        "id": "MJfcsUzYw1ZL"
      }
    },
    {
      "cell_type": "code",
      "source": [
        "np.arange(1, 10, 2)"
      ],
      "metadata": {
        "colab": {
          "base_uri": "https://localhost:8080/"
        },
        "id": "qVVOpoTtxDvH",
        "outputId": "4c3a0655-92b1-4695-c693-0f5b5c508b1e"
      },
      "execution_count": 8,
      "outputs": [
        {
          "output_type": "execute_result",
          "data": {
            "text/plain": [
              "array([1, 3, 5, 7, 9])"
            ]
          },
          "metadata": {},
          "execution_count": 8
        }
      ]
    },
    {
      "cell_type": "markdown",
      "source": [
        "**np.linspace** -> Cria um array entre dois números espaçados linearmente."
      ],
      "metadata": {
        "id": "5hOH5mWqxNOx"
      }
    },
    {
      "cell_type": "code",
      "source": [
        "np.linspace(5, 10, num=5)"
      ],
      "metadata": {
        "colab": {
          "base_uri": "https://localhost:8080/"
        },
        "id": "tKxZZJGhxTFH",
        "outputId": "b0d3abb7-1562-42bb-a8af-72df4fd108f6"
      },
      "execution_count": 9,
      "outputs": [
        {
          "output_type": "execute_result",
          "data": {
            "text/plain": [
              "array([ 5.  ,  6.25,  7.5 ,  8.75, 10.  ])"
            ]
          },
          "metadata": {},
          "execution_count": 9
        }
      ]
    },
    {
      "cell_type": "markdown",
      "source": [
        "**np.logspace** -> Cria um array entre dois números espaçados logaritmicamente."
      ],
      "metadata": {
        "id": "NnHF5EAWxn8g"
      }
    },
    {
      "cell_type": "code",
      "source": [
        "np.logspace(0, 1, 3)"
      ],
      "metadata": {
        "colab": {
          "base_uri": "https://localhost:8080/"
        },
        "id": "Ta5XPkoXxWdZ",
        "outputId": "e3902b0e-f8f8-43dd-f37b-72962e61ca5a"
      },
      "execution_count": 10,
      "outputs": [
        {
          "output_type": "execute_result",
          "data": {
            "text/plain": [
              "array([ 1.        ,  3.16227766, 10.        ])"
            ]
          },
          "metadata": {},
          "execution_count": 10
        }
      ]
    },
    {
      "cell_type": "markdown",
      "source": [
        "**np.random.int** -> Cria um array de valores aleatórios entre um valor menor e maior (exclusivo)."
      ],
      "metadata": {
        "id": "rFYI_qxpyLhH"
      }
    },
    {
      "cell_type": "code",
      "source": [
        "np.random.randint(0, 10, size=(5,5))"
      ],
      "metadata": {
        "colab": {
          "base_uri": "https://localhost:8080/"
        },
        "id": "iAvleq7Zxy3W",
        "outputId": "9312854e-1a43-4aad-8e26-10aa42aa3e9e"
      },
      "execution_count": 11,
      "outputs": [
        {
          "output_type": "execute_result",
          "data": {
            "text/plain": [
              "array([[3, 8, 3, 0, 0],\n",
              "       [4, 5, 2, 8, 9],\n",
              "       [6, 8, 2, 4, 2],\n",
              "       [3, 1, 3, 2, 4],\n",
              "       [3, 8, 6, 3, 0]])"
            ]
          },
          "metadata": {},
          "execution_count": 11
        }
      ]
    },
    {
      "cell_type": "markdown",
      "source": [
        "**np.random.normal** -> Cria um array aleatório com valores baseados em uma distribuição normal."
      ],
      "metadata": {
        "id": "o4juXygwzqwv"
      }
    },
    {
      "cell_type": "code",
      "source": [
        "np.random.normal(1, 2, 10)"
      ],
      "metadata": {
        "colab": {
          "base_uri": "https://localhost:8080/"
        },
        "id": "u3cmxJfXygPn",
        "outputId": "e37291bb-e252-4051-c527-6c7e35d233b2"
      },
      "execution_count": 12,
      "outputs": [
        {
          "output_type": "execute_result",
          "data": {
            "text/plain": [
              "array([ 3.82204266,  3.30755498,  3.95601352, -0.89719341, -0.74344077,\n",
              "        1.29507462,  0.68625026,  4.3287014 ,  4.36491058,  2.58302165])"
            ]
          },
          "metadata": {},
          "execution_count": 12
        }
      ]
    },
    {
      "cell_type": "markdown",
      "source": [
        "É interessante notar que algumas dessas funções não permitem passar o tamanho do array (como o np.arange), por muitas vezes é comum combiná-las com o método reshape."
      ],
      "metadata": {
        "id": "XB9e4bxs0OuY"
      }
    },
    {
      "cell_type": "code",
      "source": [
        "a = np.arange(12)\n",
        "a = a.reshape(3, 4)\n",
        "a"
      ],
      "metadata": {
        "colab": {
          "base_uri": "https://localhost:8080/"
        },
        "id": "g0bmK31U0KOb",
        "outputId": "31ae4d8e-6f51-4fb9-ff89-e436f91ea23c"
      },
      "execution_count": 13,
      "outputs": [
        {
          "output_type": "execute_result",
          "data": {
            "text/plain": [
              "array([[ 0,  1,  2,  3],\n",
              "       [ 4,  5,  6,  7],\n",
              "       [ 8,  9, 10, 11]])"
            ]
          },
          "metadata": {},
          "execution_count": 13
        }
      ]
    },
    {
      "cell_type": "markdown",
      "source": [
        "##**Tipagem**<br>\n",
        "Uma das diferenças mais gritantes entre arrays e listas é sua tipagem. Enquanto listas podem conter múltiplos tipos de dados (inteiros, strings, floats, etc) arrays tendem a tipagem fixa e tal tipagem pode ser modificda utilizando o método astype."
      ],
      "metadata": {
        "id": "gdVy8Xy_M0ka"
      }
    },
    {
      "cell_type": "code",
      "source": [
        "arr = np.array([1, 2, 3])\n",
        "print(arr.dtype, arr)"
      ],
      "metadata": {
        "colab": {
          "base_uri": "https://localhost:8080/"
        },
        "id": "8WP9RbI5OByy",
        "outputId": "c5c5608b-6223-4e54-c782-b27e0d628272"
      },
      "execution_count": 14,
      "outputs": [
        {
          "output_type": "stream",
          "name": "stdout",
          "text": [
            "int64 [1 2 3]\n"
          ]
        }
      ]
    },
    {
      "cell_type": "markdown",
      "source": [
        "##**Indexação**<br>\n",
        "Tal como listas os arrays são objetos indexáveis de maneira similar, de forma que a sintaxe de chaves e os slices funcionam normalmente.\n"
      ],
      "metadata": {
        "id": "Tr2pvLT6PFft"
      }
    },
    {
      "cell_type": "code",
      "source": [
        "array = np.arange(1, 10)\n",
        "matriz = np.random.normal(1, 2, (3, 3))\n",
        "\n",
        "print(array)\n",
        "print(matriz)"
      ],
      "metadata": {
        "colab": {
          "base_uri": "https://localhost:8080/"
        },
        "id": "CBrWLdnfPWIC",
        "outputId": "1bcd6413-1631-484a-fc6d-748dc02481bc"
      },
      "execution_count": 15,
      "outputs": [
        {
          "output_type": "stream",
          "name": "stdout",
          "text": [
            "[1 2 3 4 5 6 7 8 9]\n",
            "[[ 2.6716372   1.17422732  1.99771282]\n",
            " [ 1.31420914  0.6916707   1.65603843]\n",
            " [ 1.36549891 -0.60187732  3.24454024]]\n"
          ]
        }
      ]
    },
    {
      "cell_type": "code",
      "source": [
        "array[0]"
      ],
      "metadata": {
        "colab": {
          "base_uri": "https://localhost:8080/"
        },
        "id": "2fB-fTxYPIWg",
        "outputId": "1240a03f-320e-4527-dc4e-12a1771e2ac5"
      },
      "execution_count": 16,
      "outputs": [
        {
          "output_type": "execute_result",
          "data": {
            "text/plain": [
              "1"
            ]
          },
          "metadata": {},
          "execution_count": 16
        }
      ]
    },
    {
      "cell_type": "code",
      "source": [
        "matriz[2][-1]"
      ],
      "metadata": {
        "colab": {
          "base_uri": "https://localhost:8080/"
        },
        "id": "EEHrMKn4PsYr",
        "outputId": "6589b233-1003-4ac4-9056-504af153333e"
      },
      "execution_count": 17,
      "outputs": [
        {
          "output_type": "execute_result",
          "data": {
            "text/plain": [
              "3.2445402383774686"
            ]
          },
          "metadata": {},
          "execution_count": 17
        }
      ]
    },
    {
      "cell_type": "code",
      "source": [
        "matriz[1]"
      ],
      "metadata": {
        "colab": {
          "base_uri": "https://localhost:8080/"
        },
        "id": "Rau1mTLZPtuu",
        "outputId": "b50dd876-ce3d-4328-b172-b6ba57e31bde"
      },
      "execution_count": 18,
      "outputs": [
        {
          "output_type": "execute_result",
          "data": {
            "text/plain": [
              "array([1.31420914, 0.6916707 , 1.65603843])"
            ]
          },
          "metadata": {},
          "execution_count": 18
        }
      ]
    },
    {
      "cell_type": "code",
      "source": [
        "array[::2]"
      ],
      "metadata": {
        "colab": {
          "base_uri": "https://localhost:8080/"
        },
        "id": "dzDmWqjnP56-",
        "outputId": "58ecfc3a-9e98-4042-fd43-b2949dec976c"
      },
      "execution_count": 19,
      "outputs": [
        {
          "output_type": "execute_result",
          "data": {
            "text/plain": [
              "array([1, 3, 5, 7, 9])"
            ]
          },
          "metadata": {},
          "execution_count": 19
        }
      ]
    },
    {
      "cell_type": "markdown",
      "source": [
        "Entretanto o Numpy oferece uma maneira adicional de indexar elementos selecionando múltiplos índices por meio de uma lista."
      ],
      "metadata": {
        "id": "EBTqEY4AQPow"
      }
    },
    {
      "cell_type": "code",
      "source": [
        "array[1:3]"
      ],
      "metadata": {
        "colab": {
          "base_uri": "https://localhost:8080/"
        },
        "id": "tAAqv6PtQgbK",
        "outputId": "bb1847f5-73b6-4612-9626-b7bc00ff91a3"
      },
      "execution_count": 20,
      "outputs": [
        {
          "output_type": "execute_result",
          "data": {
            "text/plain": [
              "array([2, 3])"
            ]
          },
          "metadata": {},
          "execution_count": 20
        }
      ]
    },
    {
      "cell_type": "code",
      "source": [
        "array[[1, 2]]"
      ],
      "metadata": {
        "colab": {
          "base_uri": "https://localhost:8080/"
        },
        "id": "9c3Wbx79QiJu",
        "outputId": "8eeefbb8-34ae-4b7c-9dcd-def22a0a990f"
      },
      "execution_count": 21,
      "outputs": [
        {
          "output_type": "execute_result",
          "data": {
            "text/plain": [
              "array([2, 3])"
            ]
          },
          "metadata": {},
          "execution_count": 21
        }
      ]
    },
    {
      "cell_type": "markdown",
      "source": [
        "Por fim, Numpy oferece a flexibilidade, especialmente com matrizes, de selecionar os elementos de linhas e colunas em conjunto por meio da sintaxe de \",\" na qual fornecemos dois slices, o primeiro selecionando linhas e o segundo selecionando colunas."
      ],
      "metadata": {
        "id": "ijUqPJYXRAS1"
      }
    },
    {
      "cell_type": "code",
      "source": [
        "matriz[:, 1]"
      ],
      "metadata": {
        "colab": {
          "base_uri": "https://localhost:8080/"
        },
        "id": "0qdwr9t2RlwZ",
        "outputId": "6364590c-59a2-46e0-e38f-8d50c9401093"
      },
      "execution_count": 22,
      "outputs": [
        {
          "output_type": "execute_result",
          "data": {
            "text/plain": [
              "array([ 1.17422732,  0.6916707 , -0.60187732])"
            ]
          },
          "metadata": {},
          "execution_count": 22
        }
      ]
    },
    {
      "cell_type": "code",
      "source": [
        "matriz[1, 2]"
      ],
      "metadata": {
        "colab": {
          "base_uri": "https://localhost:8080/"
        },
        "id": "53wmMQQERolP",
        "outputId": "31e9472c-b330-452f-bce1-1c45aae5dd44"
      },
      "execution_count": 23,
      "outputs": [
        {
          "output_type": "execute_result",
          "data": {
            "text/plain": [
              "1.6560384303040094"
            ]
          },
          "metadata": {},
          "execution_count": 23
        }
      ]
    },
    {
      "cell_type": "code",
      "source": [
        "matriz[:, [1, 2]]"
      ],
      "metadata": {
        "colab": {
          "base_uri": "https://localhost:8080/"
        },
        "id": "0GJe1AIhRqTd",
        "outputId": "f7a36fb1-d830-4c77-c13e-153df3c218c5"
      },
      "execution_count": 24,
      "outputs": [
        {
          "output_type": "execute_result",
          "data": {
            "text/plain": [
              "array([[ 1.17422732,  1.99771282],\n",
              "       [ 0.6916707 ,  1.65603843],\n",
              "       [-0.60187732,  3.24454024]])"
            ]
          },
          "metadata": {},
          "execution_count": 24
        }
      ]
    },
    {
      "cell_type": "code",
      "source": [
        "arr = np.array([1, 2, 3])\n",
        "arr = arr.astype(\"float\")\n",
        "print(arr.dtype, arr)"
      ],
      "metadata": {
        "colab": {
          "base_uri": "https://localhost:8080/"
        },
        "id": "T7ktAP9JOG7g",
        "outputId": "e717e231-05af-4038-85b3-63b6a02c89ab"
      },
      "execution_count": 25,
      "outputs": [
        {
          "output_type": "stream",
          "name": "stdout",
          "text": [
            "float64 [1. 2. 3.]\n"
          ]
        }
      ]
    },
    {
      "cell_type": "code",
      "source": [
        "arr = np.array([1, 2, 3], dtype=np.uint8)\n",
        "print(arr.dtype, arr)"
      ],
      "metadata": {
        "colab": {
          "base_uri": "https://localhost:8080/"
        },
        "id": "M3wyTct3ORuO",
        "outputId": "baa6f992-1fa2-4287-f430-06fbc53587a5"
      },
      "execution_count": 26,
      "outputs": [
        {
          "output_type": "stream",
          "name": "stdout",
          "text": [
            "uint8 [1 2 3]\n"
          ]
        }
      ]
    },
    {
      "cell_type": "code",
      "source": [
        "arr = np.array([\"olá\", 2.1, [2, 3, 4]], dtype=\"object\")\n",
        "arr.shape"
      ],
      "metadata": {
        "colab": {
          "base_uri": "https://localhost:8080/"
        },
        "id": "5G81uTNsOdeP",
        "outputId": "8407874d-ec20-4285-e237-ef6b0bf52aa0"
      },
      "execution_count": 27,
      "outputs": [
        {
          "output_type": "execute_result",
          "data": {
            "text/plain": [
              "(3,)"
            ]
          },
          "metadata": {},
          "execution_count": 27
        }
      ]
    },
    {
      "cell_type": "markdown",
      "source": [
        "##**Mutabilidade**<br>\n",
        "Diferente de listas arrays são objetos imutáveis em tamanho e tipo (como visto acima, para mudar o tipo de array é criado um novo).\n"
      ],
      "metadata": {
        "id": "N46SBEt9SfCR"
      }
    },
    {
      "cell_type": "code",
      "source": [
        "arr = np.array([1, 2, 3])\n",
        "'''\n",
        "arr.append(4)\n",
        "Gera um erro!\n",
        "'''"
      ],
      "metadata": {
        "colab": {
          "base_uri": "https://localhost:8080/",
          "height": 35
        },
        "id": "kKsb7Sl5ShQU",
        "outputId": "08a45b8e-a860-49f3-d3bd-4168a31f88a0"
      },
      "execution_count": 28,
      "outputs": [
        {
          "output_type": "execute_result",
          "data": {
            "text/plain": [
              "'\\narr.append(4)\\nGera um erro!\\n'"
            ],
            "application/vnd.google.colaboratory.intrinsic+json": {
              "type": "string"
            }
          },
          "metadata": {},
          "execution_count": 28
        }
      ]
    },
    {
      "cell_type": "markdown",
      "source": [
        "Entretanto, diferente de tuplas, arrays são mútaveis em conteúdo."
      ],
      "metadata": {
        "id": "f8HsGXlZTUdv"
      }
    },
    {
      "cell_type": "code",
      "source": [
        "arr[2] = 5\n",
        "arr"
      ],
      "metadata": {
        "colab": {
          "base_uri": "https://localhost:8080/"
        },
        "id": "dnDeLqnhTAkR",
        "outputId": "3d6e57f5-a5c3-48a0-9329-7f7a33e7ecce"
      },
      "execution_count": 29,
      "outputs": [
        {
          "output_type": "execute_result",
          "data": {
            "text/plain": [
              "array([1, 2, 5])"
            ]
          },
          "metadata": {},
          "execution_count": 29
        }
      ]
    },
    {
      "cell_type": "markdown",
      "source": [
        "Ao tentar mudar o valor de um elemento o Numpy o converterá para a tipagem adequada quando possível."
      ],
      "metadata": {
        "id": "5wN_ATcMTXHv"
      }
    },
    {
      "cell_type": "code",
      "source": [
        "arr[1] = 1.7334\n",
        "arr"
      ],
      "metadata": {
        "colab": {
          "base_uri": "https://localhost:8080/"
        },
        "id": "fXttsi4HS2GN",
        "outputId": "11673785-5307-470d-e228-bdaa9d1fd5c1"
      },
      "execution_count": 30,
      "outputs": [
        {
          "output_type": "execute_result",
          "data": {
            "text/plain": [
              "array([1, 1, 5])"
            ]
          },
          "metadata": {},
          "execution_count": 30
        }
      ]
    },
    {
      "cell_type": "code",
      "source": [
        "arr[1] = \"3\"\n",
        "arr"
      ],
      "metadata": {
        "colab": {
          "base_uri": "https://localhost:8080/"
        },
        "id": "fYKgVe52ToWx",
        "outputId": "24ed4145-32a8-46e5-e20b-bfef87723d1b"
      },
      "execution_count": 31,
      "outputs": [
        {
          "output_type": "execute_result",
          "data": {
            "text/plain": [
              "array([1, 3, 5])"
            ]
          },
          "metadata": {},
          "execution_count": 31
        }
      ]
    },
    {
      "cell_type": "code",
      "source": [
        "'''\n",
        "arr[1] = \"3.2\"\n",
        "arr\n",
        "Gera um erro!\n",
        "'''"
      ],
      "metadata": {
        "colab": {
          "base_uri": "https://localhost:8080/",
          "height": 35
        },
        "id": "SlIjTW5FTsNu",
        "outputId": "69847a10-d753-482b-c15f-7a7ce2262151"
      },
      "execution_count": 32,
      "outputs": [
        {
          "output_type": "execute_result",
          "data": {
            "text/plain": [
              "'\\narr[1] = \"3.2\"\\narr\\nGera um erro!\\n'"
            ],
            "application/vnd.google.colaboratory.intrinsic+json": {
              "type": "string"
            }
          },
          "metadata": {},
          "execution_count": 32
        }
      ]
    },
    {
      "cell_type": "markdown",
      "source": [
        "É interessante notar como funciona a alocação de memória para transformações particulares do array que podem afetar sua mutabilidade. Por exemplo, suponhamos que temos os arrays a, b e c todos criados a partir de transformações do vetor a."
      ],
      "metadata": {
        "id": "IXUzA3svT9w8"
      }
    },
    {
      "cell_type": "code",
      "source": [
        "a = np.arange(12, dtype=\"int64\")\n",
        "b = a.reshape(3, 4)\n",
        "c = a[::2]\n",
        "print(a)\n",
        "print(b)\n",
        "print(c)"
      ],
      "metadata": {
        "colab": {
          "base_uri": "https://localhost:8080/"
        },
        "id": "W03G68XXTvA-",
        "outputId": "f338f0b3-922b-41ef-dfe5-0f7c9ba0a861"
      },
      "execution_count": 33,
      "outputs": [
        {
          "output_type": "stream",
          "name": "stdout",
          "text": [
            "[ 0  1  2  3  4  5  6  7  8  9 10 11]\n",
            "[[ 0  1  2  3]\n",
            " [ 4  5  6  7]\n",
            " [ 8  9 10 11]]\n",
            "[ 0  2  4  6  8 10]\n"
          ]
        }
      ]
    },
    {
      "cell_type": "markdown",
      "source": [
        "O que acontece, neste caso, se eu alterar o vetor a?"
      ],
      "metadata": {
        "id": "f_-i_gITUlYw"
      }
    },
    {
      "cell_type": "code",
      "source": [
        "a[0] = -1\n",
        "print(a)\n",
        "print(b)\n",
        "print(c)"
      ],
      "metadata": {
        "colab": {
          "base_uri": "https://localhost:8080/"
        },
        "id": "QGXDma8MUeO-",
        "outputId": "40e161c6-ef28-47d3-90a5-0326efdf2479"
      },
      "execution_count": 34,
      "outputs": [
        {
          "output_type": "stream",
          "name": "stdout",
          "text": [
            "[-1  1  2  3  4  5  6  7  8  9 10 11]\n",
            "[[-1  1  2  3]\n",
            " [ 4  5  6  7]\n",
            " [ 8  9 10 11]]\n",
            "[-1  2  4  6  8 10]\n"
          ]
        }
      ]
    },
    {
      "cell_type": "markdown",
      "source": [
        "Veja que se altera os vetores b e c. Isso acontece porque na visão de memória esses vetores apontam para a mesma localização na RAM."
      ],
      "metadata": {
        "id": "BkX4xdwgVb3G"
      }
    },
    {
      "cell_type": "code",
      "source": [
        "print(f\"a: dtype={a.dtype} | shape={a.shape} | size={a.size} | itemsize={a.itemsize} | strides={a.strides}\")\n",
        "print(f\"b: dtype={b.dtype} | shape={b.shape} | size={b.size} | itemsize={b.itemsize} | strides={b.strides}\")"
      ],
      "metadata": {
        "colab": {
          "base_uri": "https://localhost:8080/"
        },
        "id": "i4CaVpf9UrjP",
        "outputId": "8abd3e45-d56b-415e-d273-3b9a7cce4bd0"
      },
      "execution_count": 35,
      "outputs": [
        {
          "output_type": "stream",
          "name": "stdout",
          "text": [
            "a: dtype=int64 | shape=(12,) | size=12 | itemsize=8 | strides=(8,)\n",
            "b: dtype=int64 | shape=(3, 4) | size=12 | itemsize=8 | strides=(32, 8)\n"
          ]
        }
      ]
    },
    {
      "cell_type": "markdown",
      "source": [
        "Da mesma forma o vetor c é uma representação especial do vetor a, na qual mudamos o valor de passo entre elementos do array."
      ],
      "metadata": {
        "id": "BKxe-YNOXGfl"
      }
    },
    {
      "cell_type": "code",
      "source": [
        "print(f\"a: dtype={a.dtype} | shape={a.shape} | size={a.size} | itemsize={a.itemsize} | strides={a.strides}\")\n",
        "print(f\"c: dtype={c.dtype} | shape={c.shape} | size={c.size} | itemsize={c.itemsize} | strides={c.strides}\")"
      ],
      "metadata": {
        "colab": {
          "base_uri": "https://localhost:8080/"
        },
        "id": "diDVgBCQXXz5",
        "outputId": "5633f5d0-0f91-43fb-ed82-b9491165ed76"
      },
      "execution_count": 36,
      "outputs": [
        {
          "output_type": "stream",
          "name": "stdout",
          "text": [
            "a: dtype=int64 | shape=(12,) | size=12 | itemsize=8 | strides=(8,)\n",
            "c: dtype=int64 | shape=(6,) | size=6 | itemsize=8 | strides=(16,)\n"
          ]
        }
      ]
    },
    {
      "cell_type": "markdown",
      "source": [
        "Por fim é importante lembrar que tal como listas e dicionário, arrays são passados como referência em função, de forma que qualquer alteração no array feito dentro de uma função será carregada para fora da mesma."
      ],
      "metadata": {
        "id": "JAm3AGx_XgRT"
      }
    },
    {
      "cell_type": "code",
      "source": [
        "def muda_a(a):\n",
        "  a[1] = 12890\n",
        "print(a)\n",
        "muda_a(a)\n",
        "print(a)\n",
        "print(b)\n",
        "print(c)"
      ],
      "metadata": {
        "colab": {
          "base_uri": "https://localhost:8080/"
        },
        "id": "atuX1cAQX45B",
        "outputId": "691d0930-c746-4bc0-cc06-ded3b0115749"
      },
      "execution_count": 37,
      "outputs": [
        {
          "output_type": "stream",
          "name": "stdout",
          "text": [
            "[-1  1  2  3  4  5  6  7  8  9 10 11]\n",
            "[   -1 12890     2     3     4     5     6     7     8     9    10    11]\n",
            "[[   -1 12890     2     3]\n",
            " [    4     5     6     7]\n",
            " [    8     9    10    11]]\n",
            "[-1  2  4  6  8 10]\n"
          ]
        }
      ]
    },
    {
      "cell_type": "markdown",
      "source": [
        "##**Operações**<br>\n",
        "Como descrito anteriormente, Numpy é uma biblioteca de álgebra linear, de forma que suporta todas as operações vetoriais tradicionais."
      ],
      "metadata": {
        "id": "Wzg-T50MZfnT"
      }
    },
    {
      "cell_type": "code",
      "source": [
        "np.random.seed(42)\n",
        "arr1 = np.array([1, 2, 3])\n",
        "arr2 = np.array([4, 5, 6])\n",
        "m1 = np.random.randint(1, 10, size=(3, 3))\n",
        "m2 = np.random.randint(1, 10, size=(3, 3))\n",
        "\n",
        "print(m1)\n",
        "print(m2)"
      ],
      "metadata": {
        "colab": {
          "base_uri": "https://localhost:8080/"
        },
        "id": "6NahGxvxZiJ_",
        "outputId": "9c59ef94-60e1-47b4-e580-f1eaf08cc419"
      },
      "execution_count": 38,
      "outputs": [
        {
          "output_type": "stream",
          "name": "stdout",
          "text": [
            "[[7 4 8]\n",
            " [5 7 3]\n",
            " [7 8 5]]\n",
            "[[4 8 8]\n",
            " [3 6 5]\n",
            " [2 8 6]]\n"
          ]
        }
      ]
    },
    {
      "cell_type": "markdown",
      "source": [
        "Soma"
      ],
      "metadata": {
        "id": "GHOSqKK6aBcp"
      }
    },
    {
      "cell_type": "code",
      "source": [
        "arr1 + arr2"
      ],
      "metadata": {
        "colab": {
          "base_uri": "https://localhost:8080/"
        },
        "id": "L-4FsTS_Z88N",
        "outputId": "6d429445-0c00-4eef-8624-95deda5e0ab8"
      },
      "execution_count": 39,
      "outputs": [
        {
          "output_type": "execute_result",
          "data": {
            "text/plain": [
              "array([5, 7, 9])"
            ]
          },
          "metadata": {},
          "execution_count": 39
        }
      ]
    },
    {
      "cell_type": "code",
      "source": [
        "np.add(arr1, arr2)"
      ],
      "metadata": {
        "colab": {
          "base_uri": "https://localhost:8080/"
        },
        "id": "9tExpF4RaDxP",
        "outputId": "f5f1ce17-afea-411a-8f54-170988123ebb"
      },
      "execution_count": 40,
      "outputs": [
        {
          "output_type": "execute_result",
          "data": {
            "text/plain": [
              "array([5, 7, 9])"
            ]
          },
          "metadata": {},
          "execution_count": 40
        }
      ]
    },
    {
      "cell_type": "markdown",
      "source": [
        "Subtração"
      ],
      "metadata": {
        "id": "VDMgSXYuaIBw"
      }
    },
    {
      "cell_type": "code",
      "source": [
        "arr1 - arr2"
      ],
      "metadata": {
        "colab": {
          "base_uri": "https://localhost:8080/"
        },
        "id": "d2nzopdiaFks",
        "outputId": "db42ff1a-c786-42cc-e0a6-73eef1ad3ca0"
      },
      "execution_count": 41,
      "outputs": [
        {
          "output_type": "execute_result",
          "data": {
            "text/plain": [
              "array([-3, -3, -3])"
            ]
          },
          "metadata": {},
          "execution_count": 41
        }
      ]
    },
    {
      "cell_type": "code",
      "source": [
        "np.subtract(arr1, arr2)"
      ],
      "metadata": {
        "colab": {
          "base_uri": "https://localhost:8080/"
        },
        "id": "x3S6t6CXaJ9M",
        "outputId": "177e117e-0895-42a8-c74a-121fd2ebf0d0"
      },
      "execution_count": 42,
      "outputs": [
        {
          "output_type": "execute_result",
          "data": {
            "text/plain": [
              "array([-3, -3, -3])"
            ]
          },
          "metadata": {},
          "execution_count": 42
        }
      ]
    },
    {
      "cell_type": "markdown",
      "source": [
        "Multiplicação (escalar)"
      ],
      "metadata": {
        "id": "ivt75cdNaakn"
      }
    },
    {
      "cell_type": "code",
      "source": [
        "arr1 * 2"
      ],
      "metadata": {
        "colab": {
          "base_uri": "https://localhost:8080/"
        },
        "id": "_L7O1sZAaS19",
        "outputId": "1e31e21c-cea5-404c-fb44-456607afb156"
      },
      "execution_count": 43,
      "outputs": [
        {
          "output_type": "execute_result",
          "data": {
            "text/plain": [
              "array([2, 4, 6])"
            ]
          },
          "metadata": {},
          "execution_count": 43
        }
      ]
    },
    {
      "cell_type": "code",
      "source": [
        "arr1 * 2.1"
      ],
      "metadata": {
        "colab": {
          "base_uri": "https://localhost:8080/"
        },
        "id": "JP9VeW7raeX8",
        "outputId": "f2043490-8afa-4bcd-bdae-a7be9683b546"
      },
      "execution_count": 44,
      "outputs": [
        {
          "output_type": "execute_result",
          "data": {
            "text/plain": [
              "array([2.1, 4.2, 6.3])"
            ]
          },
          "metadata": {},
          "execution_count": 44
        }
      ]
    },
    {
      "cell_type": "code",
      "source": [
        "np.multiply(arr1, 2)"
      ],
      "metadata": {
        "colab": {
          "base_uri": "https://localhost:8080/"
        },
        "id": "r1OtX96zagct",
        "outputId": "a1ff4975-8527-4d46-b737-43118f66b477"
      },
      "execution_count": 45,
      "outputs": [
        {
          "output_type": "execute_result",
          "data": {
            "text/plain": [
              "array([2, 4, 6])"
            ]
          },
          "metadata": {},
          "execution_count": 45
        }
      ]
    },
    {
      "cell_type": "markdown",
      "source": [
        "Multiplicação (element-wise)"
      ],
      "metadata": {
        "id": "7DEN7WaTapXt"
      }
    },
    {
      "cell_type": "code",
      "source": [
        "arr1 * arr2"
      ],
      "metadata": {
        "colab": {
          "base_uri": "https://localhost:8080/"
        },
        "id": "SSxITpT2amJw",
        "outputId": "ce7e407d-5e07-4041-992a-16b254bd597a"
      },
      "execution_count": 46,
      "outputs": [
        {
          "output_type": "execute_result",
          "data": {
            "text/plain": [
              "array([ 4, 10, 18])"
            ]
          },
          "metadata": {},
          "execution_count": 46
        }
      ]
    },
    {
      "cell_type": "code",
      "source": [
        "np.multiply(arr1, arr2)"
      ],
      "metadata": {
        "colab": {
          "base_uri": "https://localhost:8080/"
        },
        "id": "0gvStp8Fajvd",
        "outputId": "d1b2e761-0063-47c0-8011-83dacf4d70f6"
      },
      "execution_count": 47,
      "outputs": [
        {
          "output_type": "execute_result",
          "data": {
            "text/plain": [
              "array([ 4, 10, 18])"
            ]
          },
          "metadata": {},
          "execution_count": 47
        }
      ]
    },
    {
      "cell_type": "markdown",
      "source": [
        "Multiplicação (produto vetorial)"
      ],
      "metadata": {
        "id": "sE_QUo7ea3Hr"
      }
    },
    {
      "cell_type": "code",
      "source": [
        "sum(arr1 * arr2)"
      ],
      "metadata": {
        "colab": {
          "base_uri": "https://localhost:8080/"
        },
        "id": "a6cvfGyla1hN",
        "outputId": "cd06344c-dbf7-4b14-a335-c40fe41cc6b1"
      },
      "execution_count": 48,
      "outputs": [
        {
          "output_type": "execute_result",
          "data": {
            "text/plain": [
              "32"
            ]
          },
          "metadata": {},
          "execution_count": 48
        }
      ]
    },
    {
      "cell_type": "code",
      "source": [
        "arr1.dot(arr2)"
      ],
      "metadata": {
        "colab": {
          "base_uri": "https://localhost:8080/"
        },
        "id": "ZsF7jQcpa6ls",
        "outputId": "16ca1ada-f96b-4a31-aeea-bab6353fb857"
      },
      "execution_count": 49,
      "outputs": [
        {
          "output_type": "execute_result",
          "data": {
            "text/plain": [
              "32"
            ]
          },
          "metadata": {},
          "execution_count": 49
        }
      ]
    },
    {
      "cell_type": "code",
      "source": [
        "np.dot(arr1, arr2)"
      ],
      "metadata": {
        "colab": {
          "base_uri": "https://localhost:8080/"
        },
        "id": "gzTh-DVRa8Md",
        "outputId": "0a9c574b-1f34-4849-f2fe-cabc1a2c040e"
      },
      "execution_count": 50,
      "outputs": [
        {
          "output_type": "execute_result",
          "data": {
            "text/plain": [
              "32"
            ]
          },
          "metadata": {},
          "execution_count": 50
        }
      ]
    },
    {
      "cell_type": "markdown",
      "source": [
        "Multiplicação (cruzada)"
      ],
      "metadata": {
        "id": "rqimekK_bjSu"
      }
    },
    {
      "cell_type": "code",
      "source": [
        "np.cross(arr1, arr2)"
      ],
      "metadata": {
        "colab": {
          "base_uri": "https://localhost:8080/"
        },
        "id": "JNDCkPxJa9nd",
        "outputId": "6898b650-9dab-44b8-df8d-ee93330f8798"
      },
      "execution_count": 51,
      "outputs": [
        {
          "output_type": "execute_result",
          "data": {
            "text/plain": [
              "array([-3,  6, -3])"
            ]
          },
          "metadata": {},
          "execution_count": 51
        }
      ]
    },
    {
      "cell_type": "markdown",
      "source": [
        "Multiplicação (matricial)"
      ],
      "metadata": {
        "id": "YxPm4Iryb0lQ"
      }
    },
    {
      "cell_type": "code",
      "source": [
        "m1@m2"
      ],
      "metadata": {
        "colab": {
          "base_uri": "https://localhost:8080/"
        },
        "id": "48dFbA0ybzzO",
        "outputId": "b448f8e7-6081-4abc-ee98-46ec056738dd"
      },
      "execution_count": 52,
      "outputs": [
        {
          "output_type": "execute_result",
          "data": {
            "text/plain": [
              "array([[ 56, 144, 124],\n",
              "       [ 47, 106,  93],\n",
              "       [ 62, 144, 126]])"
            ]
          },
          "metadata": {},
          "execution_count": 52
        }
      ]
    },
    {
      "cell_type": "code",
      "source": [
        "np.matmul(m1, m2)"
      ],
      "metadata": {
        "colab": {
          "base_uri": "https://localhost:8080/"
        },
        "id": "7CVn_Lpab3zf",
        "outputId": "928f16f0-8cc2-4bc8-f3ed-5383e657d7e5"
      },
      "execution_count": 53,
      "outputs": [
        {
          "output_type": "execute_result",
          "data": {
            "text/plain": [
              "array([[ 56, 144, 124],\n",
              "       [ 47, 106,  93],\n",
              "       [ 62, 144, 126]])"
            ]
          },
          "metadata": {},
          "execution_count": 53
        }
      ]
    },
    {
      "cell_type": "markdown",
      "source": [
        "Divisão"
      ],
      "metadata": {
        "id": "3FBe02SZcCfB"
      }
    },
    {
      "cell_type": "code",
      "source": [
        "arr1 / arr2"
      ],
      "metadata": {
        "colab": {
          "base_uri": "https://localhost:8080/"
        },
        "id": "JVoNG9pUb70u",
        "outputId": "4c5dfcfa-7f8c-4dcc-8594-e0bc65f5122c"
      },
      "execution_count": 54,
      "outputs": [
        {
          "output_type": "execute_result",
          "data": {
            "text/plain": [
              "array([0.25, 0.4 , 0.5 ])"
            ]
          },
          "metadata": {},
          "execution_count": 54
        }
      ]
    },
    {
      "cell_type": "code",
      "source": [
        "np.divide(arr1, arr2)"
      ],
      "metadata": {
        "colab": {
          "base_uri": "https://localhost:8080/"
        },
        "id": "QpJupjd1cFBN",
        "outputId": "b423e2cc-f08b-45f0-c709-9d2601d98afb"
      },
      "execution_count": 55,
      "outputs": [
        {
          "output_type": "execute_result",
          "data": {
            "text/plain": [
              "array([0.25, 0.4 , 0.5 ])"
            ]
          },
          "metadata": {},
          "execution_count": 55
        }
      ]
    },
    {
      "cell_type": "markdown",
      "source": [
        "Exponenciação"
      ],
      "metadata": {
        "id": "m4sgrbDIcJKN"
      }
    },
    {
      "cell_type": "code",
      "source": [
        "arr1 ** 2"
      ],
      "metadata": {
        "colab": {
          "base_uri": "https://localhost:8080/"
        },
        "id": "no2WndSccGuM",
        "outputId": "fb41879e-2e11-462e-dfdf-53aaece85fca"
      },
      "execution_count": 56,
      "outputs": [
        {
          "output_type": "execute_result",
          "data": {
            "text/plain": [
              "array([1, 4, 9])"
            ]
          },
          "metadata": {},
          "execution_count": 56
        }
      ]
    },
    {
      "cell_type": "code",
      "source": [
        "arr1 ** arr2"
      ],
      "metadata": {
        "colab": {
          "base_uri": "https://localhost:8080/"
        },
        "id": "T6Xe6Q4FcLW-",
        "outputId": "a848f2ee-4293-456d-87f2-9b342f811403"
      },
      "execution_count": 57,
      "outputs": [
        {
          "output_type": "execute_result",
          "data": {
            "text/plain": [
              "array([  1,  32, 729])"
            ]
          },
          "metadata": {},
          "execution_count": 57
        }
      ]
    },
    {
      "cell_type": "code",
      "source": [
        "np.power(arr1, arr2)"
      ],
      "metadata": {
        "colab": {
          "base_uri": "https://localhost:8080/"
        },
        "id": "MDHwRkKkcNCt",
        "outputId": "f9544ae6-1f8d-41f5-cee5-b310d68f2623"
      },
      "execution_count": 58,
      "outputs": [
        {
          "output_type": "execute_result",
          "data": {
            "text/plain": [
              "array([  1,  32, 729])"
            ]
          },
          "metadata": {},
          "execution_count": 58
        }
      ]
    },
    {
      "cell_type": "markdown",
      "source": [
        "Módulo de um vetor"
      ],
      "metadata": {
        "id": "T8b79fkYcVG2"
      }
    },
    {
      "cell_type": "code",
      "source": [
        "sum(arr1 * arr1) ** 0.5"
      ],
      "metadata": {
        "colab": {
          "base_uri": "https://localhost:8080/"
        },
        "id": "3AlOu90ZcO-8",
        "outputId": "341eab23-1a36-4d5a-b55b-fd65eb69b487"
      },
      "execution_count": 59,
      "outputs": [
        {
          "output_type": "execute_result",
          "data": {
            "text/plain": [
              "3.7416573867739413"
            ]
          },
          "metadata": {},
          "execution_count": 59
        }
      ]
    },
    {
      "cell_type": "code",
      "source": [
        "np.linalg.norm(arr1)"
      ],
      "metadata": {
        "colab": {
          "base_uri": "https://localhost:8080/"
        },
        "id": "-E8xMB-UcalM",
        "outputId": "2d5311fc-1b62-4204-8860-ddcfe50ca271"
      },
      "execution_count": 60,
      "outputs": [
        {
          "output_type": "execute_result",
          "data": {
            "text/plain": [
              "3.7416573867739413"
            ]
          },
          "metadata": {},
          "execution_count": 60
        }
      ]
    },
    {
      "cell_type": "markdown",
      "source": [
        "Determinante de uma matriz"
      ],
      "metadata": {
        "id": "uQut-n7gchDI"
      }
    },
    {
      "cell_type": "code",
      "source": [
        "np.linalg.det(m1)"
      ],
      "metadata": {
        "colab": {
          "base_uri": "https://localhost:8080/"
        },
        "id": "txD-xnEqcert",
        "outputId": "039f8a15-9894-4250-f131-b09fe8d28103"
      },
      "execution_count": 61,
      "outputs": [
        {
          "output_type": "execute_result",
          "data": {
            "text/plain": [
              "-11.00000000000003"
            ]
          },
          "metadata": {},
          "execution_count": 61
        }
      ]
    },
    {
      "cell_type": "markdown",
      "source": [
        "Matriz inversa"
      ],
      "metadata": {
        "id": "tkqthIUOcmph"
      }
    },
    {
      "cell_type": "code",
      "source": [
        "np.linalg.inv(m1)"
      ],
      "metadata": {
        "colab": {
          "base_uri": "https://localhost:8080/"
        },
        "id": "93DxDQPvckqd",
        "outputId": "4643850d-a6c3-4c08-f792-4c6add14f3e3"
      },
      "execution_count": 62,
      "outputs": [
        {
          "output_type": "execute_result",
          "data": {
            "text/plain": [
              "array([[-1.        , -4.        ,  4.        ],\n",
              "       [ 0.36363636,  1.90909091, -1.72727273],\n",
              "       [ 0.81818182,  2.54545455, -2.63636364]])"
            ]
          },
          "metadata": {},
          "execution_count": 62
        }
      ]
    },
    {
      "cell_type": "markdown",
      "source": [
        "Matriz transposta"
      ],
      "metadata": {
        "id": "30YlrEVhcrpl"
      }
    },
    {
      "cell_type": "code",
      "source": [
        "np.transpose(m1)"
      ],
      "metadata": {
        "colab": {
          "base_uri": "https://localhost:8080/"
        },
        "id": "ZOuslrrhcqfd",
        "outputId": "63ba981b-b052-447b-e599-1312f6d23eec"
      },
      "execution_count": 63,
      "outputs": [
        {
          "output_type": "execute_result",
          "data": {
            "text/plain": [
              "array([[7, 5, 7],\n",
              "       [4, 7, 8],\n",
              "       [8, 3, 5]])"
            ]
          },
          "metadata": {},
          "execution_count": 63
        }
      ]
    },
    {
      "cell_type": "code",
      "source": [
        "m1.T"
      ],
      "metadata": {
        "colab": {
          "base_uri": "https://localhost:8080/"
        },
        "id": "QLk15-ofcvSs",
        "outputId": "d6d71863-9a45-4fb3-c764-ee9c4e989fa6"
      },
      "execution_count": 64,
      "outputs": [
        {
          "output_type": "execute_result",
          "data": {
            "text/plain": [
              "array([[7, 5, 7],\n",
              "       [4, 7, 8],\n",
              "       [8, 3, 5]])"
            ]
          },
          "metadata": {},
          "execution_count": 64
        }
      ]
    },
    {
      "cell_type": "code",
      "source": [
        "arr1.T"
      ],
      "metadata": {
        "colab": {
          "base_uri": "https://localhost:8080/"
        },
        "id": "ZKb14zmkcwoy",
        "outputId": "9c1a0248-fd28-4852-acc1-2c6a26f0041c"
      },
      "execution_count": 65,
      "outputs": [
        {
          "output_type": "execute_result",
          "data": {
            "text/plain": [
              "array([1, 2, 3])"
            ]
          },
          "metadata": {},
          "execution_count": 65
        }
      ]
    },
    {
      "cell_type": "markdown",
      "source": [
        "Uma propriedade especial de arrays é o \"broadcasting\", na qual uma operação pode ser propagada entre arrays de diferentes tamanhos contanto que obedeçam algumas propriedades específicas. Por exemplo, podemos somar dois arrays de tamanhos diferentes, contanto que possamos \"reproduzir\" um deles para ficar com o tamanho do outro."
      ],
      "metadata": {
        "id": "twjc4Jf4d7cR"
      }
    },
    {
      "cell_type": "code",
      "source": [
        "arr3 = np.array([1, 2, 3, 4])"
      ],
      "metadata": {
        "id": "bNiPRQF8cxtt"
      },
      "execution_count": 66,
      "outputs": []
    },
    {
      "cell_type": "code",
      "source": [
        "arr3 = np.array([[1, 2, 3], [4, 5, 6]])"
      ],
      "metadata": {
        "id": "46VAiJU7ehk9"
      },
      "execution_count": 67,
      "outputs": []
    },
    {
      "cell_type": "code",
      "source": [
        "arr3 + arr1"
      ],
      "metadata": {
        "colab": {
          "base_uri": "https://localhost:8080/"
        },
        "id": "O5-tKEa0epF8",
        "outputId": "c5423edc-7e47-4e5b-a168-615ca95653e9"
      },
      "execution_count": 68,
      "outputs": [
        {
          "output_type": "execute_result",
          "data": {
            "text/plain": [
              "array([[2, 4, 6],\n",
              "       [5, 7, 9]])"
            ]
          },
          "metadata": {},
          "execution_count": 68
        }
      ]
    },
    {
      "cell_type": "code",
      "source": [
        "arr3 * arr1"
      ],
      "metadata": {
        "colab": {
          "base_uri": "https://localhost:8080/"
        },
        "id": "ezWp_eeCesvB",
        "outputId": "23804bf3-c6a8-4162-8bc8-8477a3c6dced"
      },
      "execution_count": 69,
      "outputs": [
        {
          "output_type": "execute_result",
          "data": {
            "text/plain": [
              "array([[ 1,  4,  9],\n",
              "       [ 4, 10, 18]])"
            ]
          },
          "metadata": {},
          "execution_count": 69
        }
      ]
    },
    {
      "cell_type": "markdown",
      "source": [
        "###**Representações**<br>\n",
        "Há alguns elementos matemáticos que possuem representações especiais no Numpy.<br>\n",
        "np.nan -> Not a Number, é a representação de um dado faltante."
      ],
      "metadata": {
        "id": "75fp0K0RxYaO"
      }
    },
    {
      "cell_type": "code",
      "source": [
        "arr = np.array([1, 2, np.nan, 4])\n",
        "arr"
      ],
      "metadata": {
        "colab": {
          "base_uri": "https://localhost:8080/"
        },
        "id": "bp4DtMiwxpKl",
        "outputId": "9d35e3fb-2da2-4a99-ef94-f42804454d02"
      },
      "execution_count": 70,
      "outputs": [
        {
          "output_type": "execute_result",
          "data": {
            "text/plain": [
              "array([ 1.,  2., nan,  4.])"
            ]
          },
          "metadata": {},
          "execution_count": 70
        }
      ]
    },
    {
      "cell_type": "code",
      "source": [
        "np.isnan(arr)"
      ],
      "metadata": {
        "colab": {
          "base_uri": "https://localhost:8080/"
        },
        "id": "3NFtCpi7xs6y",
        "outputId": "41f6c31f-264d-40a7-9652-ed1b55e057ec"
      },
      "execution_count": 71,
      "outputs": [
        {
          "output_type": "execute_result",
          "data": {
            "text/plain": [
              "array([False, False,  True, False])"
            ]
          },
          "metadata": {},
          "execution_count": 71
        }
      ]
    },
    {
      "cell_type": "code",
      "source": [
        "np.zeros(3)/0"
      ],
      "metadata": {
        "colab": {
          "base_uri": "https://localhost:8080/"
        },
        "id": "3ubwFJtWxuhD",
        "outputId": "c3c5c273-b2a4-479d-d7f6-275ecfac961d"
      },
      "execution_count": 72,
      "outputs": [
        {
          "output_type": "stream",
          "name": "stderr",
          "text": [
            "<ipython-input-72-2f7de20c6e27>:1: RuntimeWarning: invalid value encountered in divide\n",
            "  np.zeros(3)/0\n"
          ]
        },
        {
          "output_type": "execute_result",
          "data": {
            "text/plain": [
              "array([nan, nan, nan])"
            ]
          },
          "metadata": {},
          "execution_count": 72
        }
      ]
    },
    {
      "cell_type": "markdown",
      "source": [
        "É importante destacar que None e NaN não são a mesma coisa. Not a Number indica um operação matemárica ou um dado númerico não existente dentro de um array, enquanto None é o objeto nulo do Python."
      ],
      "metadata": {
        "id": "feXQH6u3x0Ey"
      }
    },
    {
      "cell_type": "markdown",
      "source": [
        "np.inf -> Infinito, representa valores infinitos."
      ],
      "metadata": {
        "id": "w3GJtBnKyRxN"
      }
    },
    {
      "cell_type": "code",
      "source": [
        "arr = np.array([1, 2, np.inf, 4, -np.inf])\n",
        "arr"
      ],
      "metadata": {
        "colab": {
          "base_uri": "https://localhost:8080/"
        },
        "id": "4mG0_ghRyIrz",
        "outputId": "fe90fd92-d866-4279-b349-4cb13e4352ae"
      },
      "execution_count": 73,
      "outputs": [
        {
          "output_type": "execute_result",
          "data": {
            "text/plain": [
              "array([  1.,   2.,  inf,   4., -inf])"
            ]
          },
          "metadata": {},
          "execution_count": 73
        }
      ]
    },
    {
      "cell_type": "code",
      "source": [
        "np.isfinite(arr)"
      ],
      "metadata": {
        "colab": {
          "base_uri": "https://localhost:8080/"
        },
        "id": "ywrZWiB1yaqS",
        "outputId": "14288820-fe1f-4143-f485-0b01a033b726"
      },
      "execution_count": 74,
      "outputs": [
        {
          "output_type": "execute_result",
          "data": {
            "text/plain": [
              "array([ True,  True, False,  True, False])"
            ]
          },
          "metadata": {},
          "execution_count": 74
        }
      ]
    },
    {
      "cell_type": "code",
      "source": [
        "np.ones(3)/0"
      ],
      "metadata": {
        "colab": {
          "base_uri": "https://localhost:8080/"
        },
        "id": "D_GgcVVPydTi",
        "outputId": "f7de27d9-db7c-4761-ca8f-2efc29519bae"
      },
      "execution_count": 75,
      "outputs": [
        {
          "output_type": "stream",
          "name": "stderr",
          "text": [
            "<ipython-input-75-c6764c1134a7>:1: RuntimeWarning: divide by zero encountered in divide\n",
            "  np.ones(3)/0\n"
          ]
        },
        {
          "output_type": "execute_result",
          "data": {
            "text/plain": [
              "array([inf, inf, inf])"
            ]
          },
          "metadata": {},
          "execution_count": 75
        }
      ]
    },
    {
      "cell_type": "markdown",
      "metadata": {
        "id": "nNlYFVDWfT0a"
      },
      "source": [
        "Constantes numéricas:\n",
        "- np.pi: 3.14 (constante PI)\n",
        "- np.e: 2.72 (número de euler)"
      ]
    },
    {
      "cell_type": "code",
      "source": [
        "np.pi"
      ],
      "metadata": {
        "colab": {
          "base_uri": "https://localhost:8080/"
        },
        "id": "L_b4LSJ9y9FX",
        "outputId": "a5afa2ef-e1c6-46ca-887e-d54ead4d1edc"
      },
      "execution_count": 76,
      "outputs": [
        {
          "output_type": "execute_result",
          "data": {
            "text/plain": [
              "3.141592653589793"
            ]
          },
          "metadata": {},
          "execution_count": 76
        }
      ]
    },
    {
      "cell_type": "code",
      "source": [
        "np.e"
      ],
      "metadata": {
        "colab": {
          "base_uri": "https://localhost:8080/"
        },
        "id": "AAl9j4O6y9vS",
        "outputId": "a8ec0f10-4d57-4715-8e96-5590a6429e46"
      },
      "execution_count": 77,
      "outputs": [
        {
          "output_type": "execute_result",
          "data": {
            "text/plain": [
              "2.718281828459045"
            ]
          },
          "metadata": {},
          "execution_count": 77
        }
      ]
    },
    {
      "cell_type": "markdown",
      "source": [
        "###**Filtros**<br>\n",
        "Uma particularidade interessante de arrays é a habilidade de realizar filtros de seus dados a partir de comparações booleanas."
      ],
      "metadata": {
        "id": "9BNPt5vL0Mic"
      }
    },
    {
      "cell_type": "code",
      "source": [
        "np.random.seed(42)\n",
        "arr = np.random.randint(0, 100, size=10)\n",
        "arr"
      ],
      "metadata": {
        "colab": {
          "base_uri": "https://localhost:8080/"
        },
        "id": "rv5PClwE0gQU",
        "outputId": "36f015cf-ee61-40c1-8c8f-d4e189efd5f3"
      },
      "execution_count": 78,
      "outputs": [
        {
          "output_type": "execute_result",
          "data": {
            "text/plain": [
              "array([51, 92, 14, 71, 60, 20, 82, 86, 74, 74])"
            ]
          },
          "metadata": {},
          "execution_count": 78
        }
      ]
    },
    {
      "cell_type": "markdown",
      "source": [
        "Ao gerar uma comparação (tratando arrays como uma variável) o resultado é um array de booleanos com o resultado da comparação de cada elemento do array."
      ],
      "metadata": {
        "id": "liXlpIGR0pmC"
      }
    },
    {
      "cell_type": "code",
      "source": [
        "arr > 50"
      ],
      "metadata": {
        "colab": {
          "base_uri": "https://localhost:8080/"
        },
        "id": "sZ61KhH40mFy",
        "outputId": "ad0b8358-b4c5-4d9f-b6d2-27e273f44edd"
      },
      "execution_count": 79,
      "outputs": [
        {
          "output_type": "execute_result",
          "data": {
            "text/plain": [
              "array([ True,  True, False,  True,  True, False,  True,  True,  True,\n",
              "        True])"
            ]
          },
          "metadata": {},
          "execution_count": 79
        }
      ]
    },
    {
      "cell_type": "markdown",
      "source": [
        "Essas comparações também aceitam os operadors lógicos and/or/not, entretanto os mesmos devem vir no formato &/|/~ (respectivamente) e, além disso, obrigatoriamente necessitam de () para cada operação lógica."
      ],
      "metadata": {
        "id": "eFTT7-y908AI"
      }
    },
    {
      "cell_type": "code",
      "source": [
        "(arr > 50) & (arr < 75)"
      ],
      "metadata": {
        "colab": {
          "base_uri": "https://localhost:8080/"
        },
        "id": "0UI4dnqx03-2",
        "outputId": "ffc39145-bf49-4476-da00-d8d42bdd1453"
      },
      "execution_count": 80,
      "outputs": [
        {
          "output_type": "execute_result",
          "data": {
            "text/plain": [
              "array([ True, False, False,  True,  True, False, False, False,  True,\n",
              "        True])"
            ]
          },
          "metadata": {},
          "execution_count": 80
        }
      ]
    },
    {
      "cell_type": "markdown",
      "source": [
        "O filtro do array ocorre ao passar uma comparação como parte da sintaxe de chaves, de forma que é como se estivessemos indexando o array onde o resultado da comparação lógica é verdadeiro."
      ],
      "metadata": {
        "id": "5WKrGXkz1Vud"
      }
    },
    {
      "cell_type": "code",
      "source": [
        "arr[(arr > 50) & (arr < 75)]"
      ],
      "metadata": {
        "id": "E868a19r1sYC",
        "colab": {
          "base_uri": "https://localhost:8080/"
        },
        "outputId": "e9d9fa4f-a45c-4cbe-b6c9-dfdbff779d20"
      },
      "execution_count": 82,
      "outputs": [
        {
          "output_type": "execute_result",
          "data": {
            "text/plain": [
              "array([51, 71, 60, 74, 74])"
            ]
          },
          "metadata": {},
          "execution_count": 82
        }
      ]
    },
    {
      "cell_type": "markdown",
      "source": [
        "Uma função muito interessante criada com esse propósito é o where, na qual espera-se receber como primeiro input uma comparação e devolve como output os índices na qual a comparação é verdadeira."
      ],
      "metadata": {
        "id": "ozxX8v_wZJyW"
      }
    },
    {
      "cell_type": "code",
      "source": [
        "np.where((arr > 50) & (arr < 75))"
      ],
      "metadata": {
        "colab": {
          "base_uri": "https://localhost:8080/"
        },
        "id": "Wm73_-snZnCq",
        "outputId": "372edc4e-d7e9-4aa1-b95b-dc9bace06977"
      },
      "execution_count": 83,
      "outputs": [
        {
          "output_type": "execute_result",
          "data": {
            "text/plain": [
              "(array([0, 3, 4, 8, 9]),)"
            ]
          },
          "metadata": {},
          "execution_count": 83
        }
      ]
    },
    {
      "cell_type": "markdown",
      "metadata": {
        "id": "ym-doPVNF66l"
      },
      "source": [
        "Alternativamente ainda podemos passar mais dois parâmetros para a função where, de tal forma que criaremos um novo array obtendo o segundo parâmetro como resultado onde a comparação é verdadeira e o terceiro onde a comparação é falsa."
      ]
    },
    {
      "cell_type": "code",
      "source": [
        "np.where((arr > 50) & (arr < 75), \"Papai Noel é top\", \"Papai Noel não é legal\")"
      ],
      "metadata": {
        "colab": {
          "base_uri": "https://localhost:8080/"
        },
        "id": "3p7lVvuAZsxS",
        "outputId": "e13818af-2ddb-41e4-8782-76045d83b3d8"
      },
      "execution_count": 85,
      "outputs": [
        {
          "output_type": "execute_result",
          "data": {
            "text/plain": [
              "array(['Papai Noel é top', 'Papai Noel não é legal',\n",
              "       'Papai Noel não é legal', 'Papai Noel é top', 'Papai Noel é top',\n",
              "       'Papai Noel não é legal', 'Papai Noel não é legal',\n",
              "       'Papai Noel não é legal', 'Papai Noel é top', 'Papai Noel é top'],\n",
              "      dtype='<U22')"
            ]
          },
          "metadata": {},
          "execution_count": 85
        }
      ]
    },
    {
      "cell_type": "markdown",
      "source": [
        "Nós inclusive conseguimos fazer alterações em arrays utilizando filtros."
      ],
      "metadata": {
        "id": "QP8vHotIaVGF"
      }
    },
    {
      "cell_type": "code",
      "source": [
        "arr[(arr > 50) & (arr < 75)] = -1\n",
        "arr"
      ],
      "metadata": {
        "colab": {
          "base_uri": "https://localhost:8080/"
        },
        "id": "E88UXC42abIx",
        "outputId": "cbf4cd1b-f8e5-428b-c6be-8fb145751094"
      },
      "execution_count": 86,
      "outputs": [
        {
          "output_type": "execute_result",
          "data": {
            "text/plain": [
              "array([-1, 92, 14, -1, -1, 20, 82, 86, -1, -1])"
            ]
          },
          "metadata": {},
          "execution_count": 86
        }
      ]
    },
    {
      "cell_type": "markdown",
      "metadata": {
        "id": "sYSptHTefT0g"
      },
      "source": [
        "Além dos comparadores lógicos entre elementos, o numpy ainda contém agregadores lógicos tais com as funções nativas de python all e any, na qual checamos se todos (all) elementos de uma sequência são verdadeiros ou se algum (any) dos elementos são verdadeiros"
      ]
    },
    {
      "cell_type": "code",
      "source": [
        "np.random.seed(42)\n",
        "arr = np.random.randint(0, 100, size=10)\n",
        "\n",
        "print(arr)\n",
        "print((arr > 50) & (arr < 75))\n",
        "\n",
        "print(all((arr > 50) & (arr < 75)))\n",
        "print(np.all((arr > 50) & (arr < 75)))\n",
        "\n",
        "print(any((arr > 50) & (arr < 75)))\n",
        "print(np.any((arr > 50) & (arr < 75)))"
      ],
      "metadata": {
        "colab": {
          "base_uri": "https://localhost:8080/"
        },
        "id": "e1oCAHi2aejx",
        "outputId": "f4904bb1-6643-4dfe-ca90-eb99319db794"
      },
      "execution_count": 87,
      "outputs": [
        {
          "output_type": "stream",
          "name": "stdout",
          "text": [
            "[51 92 14 71 60 20 82 86 74 74]\n",
            "[ True False False  True  True False False False  True  True]\n",
            "False\n",
            "False\n",
            "True\n",
            "True\n"
          ]
        }
      ]
    },
    {
      "cell_type": "markdown",
      "metadata": {
        "id": "u_5RBhqafT0h"
      },
      "source": [
        "A vantagem dos operadores do Numpy em contrapartida as funções do Python é a possibilidade de fazer isso em arrays multidimensionais, até mesmo selecionando eixos específicos."
      ]
    },
    {
      "cell_type": "code",
      "source": [
        "arr.reshape(2, 5) < 70"
      ],
      "metadata": {
        "colab": {
          "base_uri": "https://localhost:8080/"
        },
        "id": "3-ZApgeKbDKj",
        "outputId": "33903134-d487-42e3-9242-b9d3de482f00"
      },
      "execution_count": 88,
      "outputs": [
        {
          "output_type": "execute_result",
          "data": {
            "text/plain": [
              "array([[ True, False,  True, False,  True],\n",
              "       [ True, False, False, False, False]])"
            ]
          },
          "metadata": {},
          "execution_count": 88
        }
      ]
    },
    {
      "cell_type": "code",
      "source": [
        "np.all(arr.reshape(2, 5) < 70)"
      ],
      "metadata": {
        "colab": {
          "base_uri": "https://localhost:8080/"
        },
        "id": "CmddHQI8bQrj",
        "outputId": "3c36add5-1d76-4088-b3d2-fa92a988f3b7"
      },
      "execution_count": 90,
      "outputs": [
        {
          "output_type": "execute_result",
          "data": {
            "text/plain": [
              "False"
            ]
          },
          "metadata": {},
          "execution_count": 90
        }
      ]
    },
    {
      "cell_type": "code",
      "source": [
        "np.all(arr.reshape(2, 5) < 70, axis = 0)"
      ],
      "metadata": {
        "colab": {
          "base_uri": "https://localhost:8080/"
        },
        "id": "AIWtinPxbYIC",
        "outputId": "d6016c84-a2d7-4967-d257-89db29cbd00c"
      },
      "execution_count": 91,
      "outputs": [
        {
          "output_type": "execute_result",
          "data": {
            "text/plain": [
              "array([ True, False, False, False, False])"
            ]
          },
          "metadata": {},
          "execution_count": 91
        }
      ]
    },
    {
      "cell_type": "markdown",
      "metadata": {
        "id": "KZozKqb9fT0i"
      },
      "source": [
        "Por fim, vale destacar que as mesmas regras de broadcast que se aplicam a operações matemáticas se aplicam à operadores lógicos."
      ]
    },
    {
      "cell_type": "code",
      "source": [
        "arr.reshape(2, 5) > np.array([20, 30, 40, 50, 60])"
      ],
      "metadata": {
        "colab": {
          "base_uri": "https://localhost:8080/"
        },
        "id": "9ZzZU1IQbjJj",
        "outputId": "9dbe4d5c-64d6-445b-fae3-7cd8f7534671"
      },
      "execution_count": 92,
      "outputs": [
        {
          "output_type": "execute_result",
          "data": {
            "text/plain": [
              "array([[ True,  True, False,  True, False],\n",
              "       [False,  True,  True,  True,  True]])"
            ]
          },
          "metadata": {},
          "execution_count": 92
        }
      ]
    },
    {
      "cell_type": "code",
      "source": [
        "arr.reshape(2, 5, 1) > np.array([20, 30, 40, 50, 60])"
      ],
      "metadata": {
        "colab": {
          "base_uri": "https://localhost:8080/"
        },
        "id": "oD8KtVP1b1jS",
        "outputId": "47b1adc5-9961-401e-9bc6-e64c599e64fb"
      },
      "execution_count": 93,
      "outputs": [
        {
          "output_type": "execute_result",
          "data": {
            "text/plain": [
              "array([[[ True,  True,  True,  True, False],\n",
              "        [ True,  True,  True,  True,  True],\n",
              "        [False, False, False, False, False],\n",
              "        [ True,  True,  True,  True,  True],\n",
              "        [ True,  True,  True,  True, False]],\n",
              "\n",
              "       [[False, False, False, False, False],\n",
              "        [ True,  True,  True,  True,  True],\n",
              "        [ True,  True,  True,  True,  True],\n",
              "        [ True,  True,  True,  True,  True],\n",
              "        [ True,  True,  True,  True,  True]]])"
            ]
          },
          "metadata": {},
          "execution_count": 93
        }
      ]
    },
    {
      "cell_type": "markdown",
      "metadata": {
        "id": "IZwbkDbofT0p"
      },
      "source": [
        "###**Funções**<br>\n",
        "Ao longo das sessões anteriores nós já vimos uma série de funcionalidades úteis que podem ser utilizadas para realizar cálculos especiais, como np.cross, np.isnan e assim por diante. O Numpy é recheado dessas funções que nos ajudam a realizar todo o tipo de cálculo, como álgebra linear, estatística, funções matemáticas e mais.\n",
        "\n",
        "Poderíamos passar horas apenas só falando sobre essas diferentes funções, mas a verdade é que nós vamos nos familiarizando com elas conforme vamos aplicando-as em diferentes contexto.\n",
        "\n",
        "Abaixo nós agrupamos as funções que esperamos encontrar mais recorrentemente em nossos cálculos e colocamos alguns exemplos de como elas funcionam."
      ]
    },
    {
      "cell_type": "code",
      "source": [
        "np.random.seed(42)\n",
        "A = np.random.normal(loc=5, size=(5, 3))\n",
        "B = np.random.choice([\"A\", \"B\", \"C\"], size=(5,3))\n",
        "C = np.array([0, 1, 2, 0, 4, 5])\n",
        "D = np.random.normal(size=(5, 3))"
      ],
      "metadata": {
        "id": "ikk6BoFUcxtB"
      },
      "execution_count": 94,
      "outputs": []
    },
    {
      "cell_type": "markdown",
      "metadata": {
        "id": "3PfWMaoyfT0p"
      },
      "source": [
        "**Agregação**:\n",
        "- np.mean: Calcula a média\n",
        "- np.median: Calcula a mediana\n",
        "- np.min: Calcula o valor mínimo\n",
        "- np.max: Calcula o valor máximo\n",
        "- np.std: Calcula o desvio-padrão\n",
        "- np.var: Calcula a variância\n",
        "- np.percentile: Calcula o percentil específicado\n",
        "- np.sum: Calcula a soma de todos os elementos\n",
        "- np.count_nonzero: Realiza a contagem dos elementos não nulos do array\n",
        "- np.unique: Obtém os valores únicos de um array"
      ]
    },
    {
      "cell_type": "code",
      "source": [
        "print(A, np.mean(A))"
      ],
      "metadata": {
        "colab": {
          "base_uri": "https://localhost:8080/"
        },
        "id": "koAx9HiVdqkC",
        "outputId": "23296e28-8a29-4604-b15e-708928ffc223"
      },
      "execution_count": 95,
      "outputs": [
        {
          "output_type": "stream",
          "name": "stdout",
          "text": [
            "[[5.49671415 4.8617357  5.64768854]\n",
            " [6.52302986 4.76584663 4.76586304]\n",
            " [6.57921282 5.76743473 4.53052561]\n",
            " [5.54256004 4.53658231 4.53427025]\n",
            " [5.24196227 3.08671976 3.27508217]] 5.010348524333337\n"
          ]
        }
      ]
    },
    {
      "cell_type": "code",
      "source": [
        "print(A, np.mean(A, axis=1))"
      ],
      "metadata": {
        "colab": {
          "base_uri": "https://localhost:8080/"
        },
        "id": "bFHKb3IGdzsw",
        "outputId": "9dafc9be-fa1d-4f17-e6a1-24d7e419dc65"
      },
      "execution_count": 96,
      "outputs": [
        {
          "output_type": "stream",
          "name": "stdout",
          "text": [
            "[[5.49671415 4.8617357  5.64768854]\n",
            " [6.52302986 4.76584663 4.76586304]\n",
            " [6.57921282 5.76743473 4.53052561]\n",
            " [5.54256004 4.53658231 4.53427025]\n",
            " [5.24196227 3.08671976 3.27508217]] [5.33537946 5.35157984 5.62572439 4.87113753 3.8679214 ]\n"
          ]
        }
      ]
    },
    {
      "cell_type": "code",
      "source": [
        "print(A, np.percentile(A, 0.25))"
      ],
      "metadata": {
        "colab": {
          "base_uri": "https://localhost:8080/"
        },
        "id": "gBC1OrQ1d3VS",
        "outputId": "e492cfcc-3401-4727-ec2a-a8cf9eaab724"
      },
      "execution_count": 97,
      "outputs": [
        {
          "output_type": "stream",
          "name": "stdout",
          "text": [
            "[[5.49671415 4.8617357  5.64768854]\n",
            " [6.52302986 4.76584663 4.76586304]\n",
            " [6.57921282 5.76743473 4.53052561]\n",
            " [5.54256004 4.53658231 4.53427025]\n",
            " [5.24196227 3.08671976 3.27508217]] 3.093312439767269\n"
          ]
        }
      ]
    },
    {
      "cell_type": "code",
      "source": [
        "print(B, np.unique(B))"
      ],
      "metadata": {
        "colab": {
          "base_uri": "https://localhost:8080/"
        },
        "id": "99QP0BGJd6HB",
        "outputId": "b5993aa9-a4eb-45fc-cc4a-8844e5546452"
      },
      "execution_count": 98,
      "outputs": [
        {
          "output_type": "stream",
          "name": "stdout",
          "text": [
            "[['C' 'C' 'B']\n",
            " ['C' 'B' 'B']\n",
            " ['C' 'B' 'C']\n",
            " ['C' 'A' 'C']\n",
            " ['A' 'C' 'C']] ['A' 'B' 'C']\n"
          ]
        }
      ]
    },
    {
      "cell_type": "code",
      "source": [
        "print(C, C.shape, np.count_nonzero(C))"
      ],
      "metadata": {
        "colab": {
          "base_uri": "https://localhost:8080/"
        },
        "id": "_4HE9EXUd_CB",
        "outputId": "c4f5260c-3c6c-496d-d41e-ade92574c5a2"
      },
      "execution_count": 99,
      "outputs": [
        {
          "output_type": "stream",
          "name": "stdout",
          "text": [
            "[0 1 2 0 4 5] (6,) 4\n"
          ]
        }
      ]
    },
    {
      "cell_type": "markdown",
      "metadata": {
        "id": "eVpoKbXAfT0r"
      },
      "source": [
        "**Transformação**:\n",
        "\n",
        "- np.ceil: Arredonda os valores de um array para cima\n",
        "- np.floor: Arredonda os valores de um array para baixo\n",
        "- np.round: Arredonda os valores de um array para as casas decimais desejadas\n",
        "- np.trunc: Remove as casas decimais do valor numérico\n",
        "- np.abs: Calcula o valor absoluto dos elementos\n",
        "- np.sign: Obtém os sinais dos números de um array"
      ]
    },
    {
      "cell_type": "code",
      "source": [
        "print(A, np.ceil(A))"
      ],
      "metadata": {
        "colab": {
          "base_uri": "https://localhost:8080/"
        },
        "id": "2kdIYQL7eI6h",
        "outputId": "4fe71459-60fb-4f91-d7fc-3c6ab14c78fe"
      },
      "execution_count": 100,
      "outputs": [
        {
          "output_type": "stream",
          "name": "stdout",
          "text": [
            "[[5.49671415 4.8617357  5.64768854]\n",
            " [6.52302986 4.76584663 4.76586304]\n",
            " [6.57921282 5.76743473 4.53052561]\n",
            " [5.54256004 4.53658231 4.53427025]\n",
            " [5.24196227 3.08671976 3.27508217]] [[6. 5. 6.]\n",
            " [7. 5. 5.]\n",
            " [7. 6. 5.]\n",
            " [6. 5. 5.]\n",
            " [6. 4. 4.]]\n"
          ]
        }
      ]
    },
    {
      "cell_type": "code",
      "source": [
        "print(A, np.round(A, 2))"
      ],
      "metadata": {
        "colab": {
          "base_uri": "https://localhost:8080/"
        },
        "id": "GpRmEaJleYtx",
        "outputId": "11c60b96-04a4-4ac8-ab65-338c40fa9e77"
      },
      "execution_count": 101,
      "outputs": [
        {
          "output_type": "stream",
          "name": "stdout",
          "text": [
            "[[5.49671415 4.8617357  5.64768854]\n",
            " [6.52302986 4.76584663 4.76586304]\n",
            " [6.57921282 5.76743473 4.53052561]\n",
            " [5.54256004 4.53658231 4.53427025]\n",
            " [5.24196227 3.08671976 3.27508217]] [[5.5  4.86 5.65]\n",
            " [6.52 4.77 4.77]\n",
            " [6.58 5.77 4.53]\n",
            " [5.54 4.54 4.53]\n",
            " [5.24 3.09 3.28]]\n"
          ]
        }
      ]
    },
    {
      "cell_type": "code",
      "source": [
        "print(A, np.trunc(A))"
      ],
      "metadata": {
        "colab": {
          "base_uri": "https://localhost:8080/"
        },
        "id": "nIPwsuqwek6s",
        "outputId": "838df7d1-0de5-44e3-c1ac-b669e13775bb"
      },
      "execution_count": 102,
      "outputs": [
        {
          "output_type": "stream",
          "name": "stdout",
          "text": [
            "[[5.49671415 4.8617357  5.64768854]\n",
            " [6.52302986 4.76584663 4.76586304]\n",
            " [6.57921282 5.76743473 4.53052561]\n",
            " [5.54256004 4.53658231 4.53427025]\n",
            " [5.24196227 3.08671976 3.27508217]] [[5. 4. 5.]\n",
            " [6. 4. 4.]\n",
            " [6. 5. 4.]\n",
            " [5. 4. 4.]\n",
            " [5. 3. 3.]]\n"
          ]
        }
      ]
    },
    {
      "cell_type": "code",
      "source": [
        "print(D, np.sign(D))"
      ],
      "metadata": {
        "colab": {
          "base_uri": "https://localhost:8080/"
        },
        "id": "xFFxYEszeqCB",
        "outputId": "52d4dab3-9da2-4f93-dc2a-b5454ff9c9c9"
      },
      "execution_count": 103,
      "outputs": [
        {
          "output_type": "stream",
          "name": "stdout",
          "text": [
            "[[-0.56228753 -0.60025385  0.94743982]\n",
            " [ 0.291034   -0.63555974 -1.02155219]\n",
            " [-0.16175539 -0.5336488  -0.00552786]\n",
            " [-0.22945045  0.38934891 -1.26511911]\n",
            " [ 1.09199226  2.77831304  1.19363972]] [[-1. -1.  1.]\n",
            " [ 1. -1. -1.]\n",
            " [-1. -1. -1.]\n",
            " [-1.  1. -1.]\n",
            " [ 1.  1.  1.]]\n"
          ]
        }
      ]
    },
    {
      "cell_type": "markdown",
      "metadata": {
        "id": "-kAi26rcfT0s"
      },
      "source": [
        "**Função Matemática**:\n",
        "\n",
        "- np.exp: Realiza a exponenciação dos elementos\n",
        "- np.log: Aplica o log sobre os elementos\n",
        "- np.expm1: Aplica a função exp(x) - 1 sobre os elementos\n",
        "- np.log1p: Aplica a função log(x + 1) sobre os elementos\n",
        "- np.power: Eleva os elementos do array a uma potência\n",
        "- np.sqrt: Extraí a raíz quadrada dos números de um array\n",
        "- np.sin/cos/tan: Aplica a função seno/cosseno/tangente sobre os elementos\n",
        "- np.asin/acos/atan: Aplica a função de arc seno/cosseno/tangente sobre os elementos"
      ]
    },
    {
      "cell_type": "code",
      "source": [
        "np.log(A)"
      ],
      "metadata": {
        "colab": {
          "base_uri": "https://localhost:8080/"
        },
        "id": "fU4RgxOTe6XJ",
        "outputId": "e98bc4d3-42c0-4e94-9e4d-5a63c2613ade"
      },
      "execution_count": 104,
      "outputs": [
        {
          "output_type": "execute_result",
          "data": {
            "text/plain": [
              "array([[1.70415049, 1.58139551, 1.73124635],\n",
              "       [1.87533897, 1.5614752 , 1.56147864],\n",
              "       [1.88391511, 1.75222739, 1.51083796],\n",
              "       [1.7124565 , 1.51217393, 1.51166415],\n",
              "       [1.65669591, 1.12710896, 1.18634296]])"
            ]
          },
          "metadata": {},
          "execution_count": 104
        }
      ]
    },
    {
      "cell_type": "code",
      "source": [
        "np.sin(D)"
      ],
      "metadata": {
        "colab": {
          "base_uri": "https://localhost:8080/"
        },
        "id": "7VL-HIT1e67h",
        "outputId": "e868a066-be31-4fe6-a17f-69f18d7c45da"
      },
      "execution_count": 105,
      "outputs": [
        {
          "output_type": "execute_result",
          "data": {
            "text/plain": [
              "array([[-0.53312293, -0.56485197,  0.81192363],\n",
              "       [ 0.2869429 , -0.59362805, -0.85291936],\n",
              "       [-0.16105093, -0.50867818, -0.00552783],\n",
              "       [-0.22744241,  0.37958614, -0.95364337],\n",
              "       [ 0.88754655,  0.35534171,  0.92971555]])"
            ]
          },
          "metadata": {},
          "execution_count": 105
        }
      ]
    },
    {
      "cell_type": "markdown",
      "metadata": {
        "id": "zrt23Os4fT0t"
      },
      "source": [
        "**Elemento a Elemento**\n",
        "- np.diff: Obtém a diferença entre valores sequenciais do array\n",
        "- np.cumsum: Obtém a soma dos valores cumulativos\n",
        "- np.cummin: Obtém o valor mínimo cumulativo do array\n",
        "- np.cummax: Obtém o valor máximo cumulativo do array\n",
        "- np.cumprod: Obtém o valor produto cumulativo do array"
      ]
    },
    {
      "cell_type": "code",
      "source": [
        "print(C, np.diff(C))"
      ],
      "metadata": {
        "colab": {
          "base_uri": "https://localhost:8080/"
        },
        "id": "k3VJizjtfHUb",
        "outputId": "30d66647-a812-4094-a035-953995763bbc"
      },
      "execution_count": 106,
      "outputs": [
        {
          "output_type": "stream",
          "name": "stdout",
          "text": [
            "[0 1 2 0 4 5] [ 1  1 -2  4  1]\n"
          ]
        }
      ]
    },
    {
      "cell_type": "code",
      "source": [
        "print(C, np.cumsum(C))"
      ],
      "metadata": {
        "colab": {
          "base_uri": "https://localhost:8080/"
        },
        "id": "u4rj9FASfRBZ",
        "outputId": "4fda839d-8994-4514-8fe8-1d6a587c20ca"
      },
      "execution_count": 107,
      "outputs": [
        {
          "output_type": "stream",
          "name": "stdout",
          "text": [
            "[0 1 2 0 4 5] [ 0  1  3  3  7 12]\n"
          ]
        }
      ]
    }
  ]
}